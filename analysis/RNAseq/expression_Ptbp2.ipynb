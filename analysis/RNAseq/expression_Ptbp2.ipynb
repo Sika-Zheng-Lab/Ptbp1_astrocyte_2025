{
 "cells": [
  {
   "cell_type": "code",
   "execution_count": 1,
   "id": "672b592d",
   "metadata": {
    "ExecuteTime": {
     "end_time": "2025-03-20T18:19:52.693193Z",
     "start_time": "2025-03-20T18:19:49.714411Z"
    }
   },
   "outputs": [
    {
     "name": "stderr",
     "output_type": "stream",
     "text": [
      "Matplotlib created a temporary cache directory at /scratch/naotok/13419516/matplotlib-ohvjpqmd because the default path (/home/jovyan/.cache/matplotlib) is not a writable directory; it is highly recommended to set the MPLCONFIGDIR environment variable to a writable directory, in particular to speed up the import of Matplotlib and to better support multiprocessing.\n"
     ]
    }
   ],
   "source": [
    "import pandas as pd\n",
    "import matplotlib\n",
    "matplotlib.rcParams[\"font.family\"] = \"Arial\"\n",
    "import matplotlib.pyplot as plt\n",
    "import seaborn as sns\n",
    "import scipy.stats as stats\n",
    "from sklearn.decomposition import PCA\n",
    "from sklearn.impute import KNNImputer"
   ]
  },
  {
   "cell_type": "markdown",
   "id": "5ab35761",
   "metadata": {},
   "source": [
    "# PCA"
   ]
  },
  {
   "cell_type": "markdown",
   "id": "dd864723",
   "metadata": {},
   "source": [
    "## Load TPM matrix"
   ]
  },
  {
   "cell_type": "code",
   "execution_count": null,
   "id": "3f2c2ee9",
   "metadata": {
    "ExecuteTime": {
     "end_time": "2025-03-20T18:19:52.772915Z",
     "start_time": "2025-03-20T18:19:52.696398Z"
    },
    "scrolled": true
   },
   "outputs": [
    {
     "data": {
      "text/html": [
       "<div>\n",
       "<style scoped>\n",
       "    .dataframe tbody tr th:only-of-type {\n",
       "        vertical-align: middle;\n",
       "    }\n",
       "\n",
       "    .dataframe tbody tr th {\n",
       "        vertical-align: top;\n",
       "    }\n",
       "\n",
       "    .dataframe thead th {\n",
       "        text-align: right;\n",
       "    }\n",
       "</style>\n",
       "<table border=\"1\" class=\"dataframe\">\n",
       "  <thead>\n",
       "    <tr style=\"text-align: right;\">\n",
       "      <th></th>\n",
       "      <th>WT_F_1</th>\n",
       "      <th>WT_F_2</th>\n",
       "      <th>WT_F_3</th>\n",
       "      <th>KO_F_1</th>\n",
       "      <th>KO_M_3</th>\n",
       "      <th>KO_M_4</th>\n",
       "    </tr>\n",
       "    <tr>\n",
       "      <th>gene_name</th>\n",
       "      <th></th>\n",
       "      <th></th>\n",
       "      <th></th>\n",
       "      <th></th>\n",
       "      <th></th>\n",
       "      <th></th>\n",
       "    </tr>\n",
       "  </thead>\n",
       "  <tbody>\n",
       "    <tr>\n",
       "      <th>ENSMUSG00000000001</th>\n",
       "      <td>148.51</td>\n",
       "      <td>162.19</td>\n",
       "      <td>93.35</td>\n",
       "      <td>138.35</td>\n",
       "      <td>207.90</td>\n",
       "      <td>153.99</td>\n",
       "    </tr>\n",
       "    <tr>\n",
       "      <th>ENSMUSG00000000003</th>\n",
       "      <td>0.00</td>\n",
       "      <td>0.00</td>\n",
       "      <td>0.00</td>\n",
       "      <td>0.00</td>\n",
       "      <td>0.00</td>\n",
       "      <td>0.00</td>\n",
       "    </tr>\n",
       "    <tr>\n",
       "      <th>ENSMUSG00000000028</th>\n",
       "      <td>12.14</td>\n",
       "      <td>12.34</td>\n",
       "      <td>14.81</td>\n",
       "      <td>10.39</td>\n",
       "      <td>13.46</td>\n",
       "      <td>7.98</td>\n",
       "    </tr>\n",
       "    <tr>\n",
       "      <th>ENSMUSG00000000031</th>\n",
       "      <td>0.00</td>\n",
       "      <td>0.00</td>\n",
       "      <td>1.60</td>\n",
       "      <td>0.13</td>\n",
       "      <td>0.00</td>\n",
       "      <td>0.09</td>\n",
       "    </tr>\n",
       "    <tr>\n",
       "      <th>ENSMUSG00000000037</th>\n",
       "      <td>0.50</td>\n",
       "      <td>1.47</td>\n",
       "      <td>0.31</td>\n",
       "      <td>0.87</td>\n",
       "      <td>1.32</td>\n",
       "      <td>0.93</td>\n",
       "    </tr>\n",
       "  </tbody>\n",
       "</table>\n",
       "</div>"
      ],
      "text/plain": [
       "                    WT_F_1  WT_F_2  WT_F_3  KO_F_1  KO_M_3  KO_M_4\n",
       "gene_name                                                         \n",
       "ENSMUSG00000000001  148.51  162.19   93.35  138.35  207.90  153.99\n",
       "ENSMUSG00000000003    0.00    0.00    0.00    0.00    0.00    0.00\n",
       "ENSMUSG00000000028   12.14   12.34   14.81   10.39   13.46    7.98\n",
       "ENSMUSG00000000031    0.00    0.00    1.60    0.13    0.00    0.09\n",
       "ENSMUSG00000000037    0.50    1.47    0.31    0.87    1.32    0.93"
      ]
     },
     "execution_count": 2,
     "metadata": {},
     "output_type": "execute_result"
    }
   ],
   "source": [
    "# Jul24\n",
    "tpm_matrix_jul24_df = pd.read_csv(\"/rhome/naotok/bigdata/Ptbp1_astrocyte/Jul24/Shiba/results/expression/TPM.txt\", sep = \"\\t\")\n",
    "tpm_matrix_jul24_df = tpm_matrix_jul24_df.set_index(\"gene_name\")\n",
    "tpm_matrix_jul24_WT_df = tpm_matrix_jul24_df[[x for x in tpm_matrix_jul24_df.columns if \"WT_\" in x]]\n",
    "tpm_matrix_jul24_KO_df = tpm_matrix_jul24_df[[x for x in tpm_matrix_jul24_df.columns if \"KO_\" in x]]\n",
    "tpm_matrix_jul24_df.head()"
   ]
  },
  {
   "cell_type": "code",
   "execution_count": 3,
   "id": "dde2964d",
   "metadata": {
    "ExecuteTime": {
     "end_time": "2025-03-20T18:19:52.786136Z",
     "start_time": "2025-03-20T18:19:52.774438Z"
    }
   },
   "outputs": [
    {
     "data": {
      "text/html": [
       "<div>\n",
       "<style scoped>\n",
       "    .dataframe tbody tr th:only-of-type {\n",
       "        vertical-align: middle;\n",
       "    }\n",
       "\n",
       "    .dataframe tbody tr th {\n",
       "        vertical-align: top;\n",
       "    }\n",
       "\n",
       "    .dataframe thead th {\n",
       "        text-align: right;\n",
       "    }\n",
       "</style>\n",
       "<table border=\"1\" class=\"dataframe\">\n",
       "  <thead>\n",
       "    <tr style=\"text-align: right;\">\n",
       "      <th></th>\n",
       "      <th>WT_F_1</th>\n",
       "      <th>WT_F_2</th>\n",
       "      <th>WT_F_3</th>\n",
       "      <th>KO_F_1</th>\n",
       "      <th>KO_M_3</th>\n",
       "      <th>KO_M_4</th>\n",
       "    </tr>\n",
       "  </thead>\n",
       "  <tbody>\n",
       "    <tr>\n",
       "      <th>WT_F_1</th>\n",
       "      <td>1.000000</td>\n",
       "      <td>0.994537</td>\n",
       "      <td>0.937281</td>\n",
       "      <td>0.991980</td>\n",
       "      <td>0.957489</td>\n",
       "      <td>0.991724</td>\n",
       "    </tr>\n",
       "    <tr>\n",
       "      <th>WT_F_2</th>\n",
       "      <td>0.994537</td>\n",
       "      <td>1.000000</td>\n",
       "      <td>0.927341</td>\n",
       "      <td>0.982293</td>\n",
       "      <td>0.961526</td>\n",
       "      <td>0.991237</td>\n",
       "    </tr>\n",
       "    <tr>\n",
       "      <th>WT_F_3</th>\n",
       "      <td>0.937281</td>\n",
       "      <td>0.927341</td>\n",
       "      <td>1.000000</td>\n",
       "      <td>0.934638</td>\n",
       "      <td>0.829930</td>\n",
       "      <td>0.906528</td>\n",
       "    </tr>\n",
       "    <tr>\n",
       "      <th>KO_F_1</th>\n",
       "      <td>0.991980</td>\n",
       "      <td>0.982293</td>\n",
       "      <td>0.934638</td>\n",
       "      <td>1.000000</td>\n",
       "      <td>0.953036</td>\n",
       "      <td>0.986134</td>\n",
       "    </tr>\n",
       "    <tr>\n",
       "      <th>KO_M_3</th>\n",
       "      <td>0.957489</td>\n",
       "      <td>0.961526</td>\n",
       "      <td>0.829930</td>\n",
       "      <td>0.953036</td>\n",
       "      <td>1.000000</td>\n",
       "      <td>0.960192</td>\n",
       "    </tr>\n",
       "    <tr>\n",
       "      <th>KO_M_4</th>\n",
       "      <td>0.991724</td>\n",
       "      <td>0.991237</td>\n",
       "      <td>0.906528</td>\n",
       "      <td>0.986134</td>\n",
       "      <td>0.960192</td>\n",
       "      <td>1.000000</td>\n",
       "    </tr>\n",
       "  </tbody>\n",
       "</table>\n",
       "</div>"
      ],
      "text/plain": [
       "          WT_F_1    WT_F_2    WT_F_3    KO_F_1    KO_M_3    KO_M_4\n",
       "WT_F_1  1.000000  0.994537  0.937281  0.991980  0.957489  0.991724\n",
       "WT_F_2  0.994537  1.000000  0.927341  0.982293  0.961526  0.991237\n",
       "WT_F_3  0.937281  0.927341  1.000000  0.934638  0.829930  0.906528\n",
       "KO_F_1  0.991980  0.982293  0.934638  1.000000  0.953036  0.986134\n",
       "KO_M_3  0.957489  0.961526  0.829930  0.953036  1.000000  0.960192\n",
       "KO_M_4  0.991724  0.991237  0.906528  0.986134  0.960192  1.000000"
      ]
     },
     "execution_count": 3,
     "metadata": {},
     "output_type": "execute_result"
    }
   ],
   "source": [
    "tpm_matrix_jul24_df.corr()"
   ]
  },
  {
   "cell_type": "markdown",
   "id": "9da1e272",
   "metadata": {},
   "source": [
    "## Plot"
   ]
  },
  {
   "cell_type": "code",
   "execution_count": 4,
   "id": "cf916ece",
   "metadata": {
    "ExecuteTime": {
     "end_time": "2025-03-20T18:19:54.094247Z",
     "start_time": "2025-03-20T18:19:52.787894Z"
    }
   },
   "outputs": [],
   "source": [
    "gene_id_name_df = pd.read_csv(\"/rhome/naotok/bigdata/genome_annotation/Mouse/Mus_musculus.GRCm38.102.exon.info.tsv\", sep = \"\\t\", usecols = [\"gene_id\", \"gene_name\"])\n",
    "gene_id_name_df = gene_id_name_df.drop_duplicates()\n",
    "gene_id_name_dict = dict(zip(gene_id_name_df[\"gene_id\"], gene_id_name_df[\"gene_name\"]))"
   ]
  },
  {
   "cell_type": "code",
   "execution_count": 5,
   "id": "1d714d2e",
   "metadata": {
    "ExecuteTime": {
     "end_time": "2025-03-20T18:19:54.265778Z",
     "start_time": "2025-03-20T18:19:54.095720Z"
    }
   },
   "outputs": [
    {
     "data": {
      "text/html": [
       "<div>\n",
       "<style scoped>\n",
       "    .dataframe tbody tr th:only-of-type {\n",
       "        vertical-align: middle;\n",
       "    }\n",
       "\n",
       "    .dataframe tbody tr th {\n",
       "        vertical-align: top;\n",
       "    }\n",
       "\n",
       "    .dataframe thead th {\n",
       "        text-align: right;\n",
       "    }\n",
       "</style>\n",
       "<table border=\"1\" class=\"dataframe\">\n",
       "  <thead>\n",
       "    <tr style=\"text-align: right;\">\n",
       "      <th></th>\n",
       "      <th>gene_id</th>\n",
       "      <th>sample</th>\n",
       "      <th>TPM</th>\n",
       "      <th>group</th>\n",
       "      <th>gene_name</th>\n",
       "    </tr>\n",
       "  </thead>\n",
       "  <tbody>\n",
       "    <tr>\n",
       "      <th>0</th>\n",
       "      <td>ENSMUSG00000000001</td>\n",
       "      <td>WT_F_1</td>\n",
       "      <td>148.51</td>\n",
       "      <td>Control</td>\n",
       "      <td>Gnai3</td>\n",
       "    </tr>\n",
       "    <tr>\n",
       "      <th>1</th>\n",
       "      <td>ENSMUSG00000000003</td>\n",
       "      <td>WT_F_1</td>\n",
       "      <td>0.00</td>\n",
       "      <td>Control</td>\n",
       "      <td>Pbsn</td>\n",
       "    </tr>\n",
       "    <tr>\n",
       "      <th>2</th>\n",
       "      <td>ENSMUSG00000000028</td>\n",
       "      <td>WT_F_1</td>\n",
       "      <td>12.14</td>\n",
       "      <td>Control</td>\n",
       "      <td>Cdc45</td>\n",
       "    </tr>\n",
       "    <tr>\n",
       "      <th>3</th>\n",
       "      <td>ENSMUSG00000000031</td>\n",
       "      <td>WT_F_1</td>\n",
       "      <td>0.00</td>\n",
       "      <td>Control</td>\n",
       "      <td>H19</td>\n",
       "    </tr>\n",
       "    <tr>\n",
       "      <th>4</th>\n",
       "      <td>ENSMUSG00000000037</td>\n",
       "      <td>WT_F_1</td>\n",
       "      <td>0.50</td>\n",
       "      <td>Control</td>\n",
       "      <td>Scml2</td>\n",
       "    </tr>\n",
       "    <tr>\n",
       "      <th>...</th>\n",
       "      <td>...</td>\n",
       "      <td>...</td>\n",
       "      <td>...</td>\n",
       "      <td>...</td>\n",
       "      <td>...</td>\n",
       "    </tr>\n",
       "    <tr>\n",
       "      <th>332917</th>\n",
       "      <td>ENSMUSG00000118655</td>\n",
       "      <td>KO_M_4</td>\n",
       "      <td>0.16</td>\n",
       "      <td>cKO</td>\n",
       "      <td>AC156032.1</td>\n",
       "    </tr>\n",
       "    <tr>\n",
       "      <th>332918</th>\n",
       "      <td>ENSMUSG00000118656</td>\n",
       "      <td>KO_M_4</td>\n",
       "      <td>0.00</td>\n",
       "      <td>cKO</td>\n",
       "      <td>BX681418.1</td>\n",
       "    </tr>\n",
       "    <tr>\n",
       "      <th>332919</th>\n",
       "      <td>ENSMUSG00000118657</td>\n",
       "      <td>KO_M_4</td>\n",
       "      <td>0.00</td>\n",
       "      <td>cKO</td>\n",
       "      <td>AL606917.1</td>\n",
       "    </tr>\n",
       "    <tr>\n",
       "      <th>332920</th>\n",
       "      <td>ENSMUSG00000118658</td>\n",
       "      <td>KO_M_4</td>\n",
       "      <td>0.00</td>\n",
       "      <td>cKO</td>\n",
       "      <td>CT485612.1</td>\n",
       "    </tr>\n",
       "    <tr>\n",
       "      <th>332921</th>\n",
       "      <td>ENSMUSG00000118659</td>\n",
       "      <td>KO_M_4</td>\n",
       "      <td>0.00</td>\n",
       "      <td>cKO</td>\n",
       "      <td>AC158307.1</td>\n",
       "    </tr>\n",
       "  </tbody>\n",
       "</table>\n",
       "<p>332922 rows × 5 columns</p>\n",
       "</div>"
      ],
      "text/plain": [
       "                   gene_id  sample     TPM    group   gene_name\n",
       "0       ENSMUSG00000000001  WT_F_1  148.51  Control       Gnai3\n",
       "1       ENSMUSG00000000003  WT_F_1    0.00  Control        Pbsn\n",
       "2       ENSMUSG00000000028  WT_F_1   12.14  Control       Cdc45\n",
       "3       ENSMUSG00000000031  WT_F_1    0.00  Control         H19\n",
       "4       ENSMUSG00000000037  WT_F_1    0.50  Control       Scml2\n",
       "...                    ...     ...     ...      ...         ...\n",
       "332917  ENSMUSG00000118655  KO_M_4    0.16      cKO  AC156032.1\n",
       "332918  ENSMUSG00000118656  KO_M_4    0.00      cKO  BX681418.1\n",
       "332919  ENSMUSG00000118657  KO_M_4    0.00      cKO  AL606917.1\n",
       "332920  ENSMUSG00000118658  KO_M_4    0.00      cKO  CT485612.1\n",
       "332921  ENSMUSG00000118659  KO_M_4    0.00      cKO  AC158307.1\n",
       "\n",
       "[332922 rows x 5 columns]"
      ]
     },
     "execution_count": 5,
     "metadata": {},
     "output_type": "execute_result"
    }
   ],
   "source": [
    "tpm_matrix_jul24_melt_df = tpm_matrix_jul24_df.reset_index().melt(id_vars = \"gene_name\", var_name = \"sample\", value_name = \"TPM\")\n",
    "tpm_matrix_jul24_melt_df[\"group\"] = tpm_matrix_jul24_melt_df[\"sample\"].map(lambda x: x.split(\"_\")[0]).map(lambda x: \"Control\" if x == \"WT\" else \"cKO\")\n",
    "tpm_matrix_jul24_melt_df = tpm_matrix_jul24_melt_df.rename(columns = {\"gene_name\": \"gene_id\"})\n",
    "tpm_matrix_jul24_melt_df[\"gene_name\"] = tpm_matrix_jul24_melt_df[\"gene_id\"].map(gene_id_name_dict)\n",
    "tpm_matrix_jul24_melt_df"
   ]
  },
  {
   "cell_type": "code",
   "execution_count": null,
   "id": "8ee75b11",
   "metadata": {
    "ExecuteTime": {
     "end_time": "2025-03-20T18:19:57.329609Z",
     "start_time": "2025-03-20T18:19:55.986561Z"
    }
   },
   "outputs": [
    {
     "name": "stderr",
     "output_type": "stream",
     "text": [
      "/scratch/naotok/13419516/ipykernel_2418340/2190980372.py:1: FutureWarning: Passing `palette` without assigning `hue` is deprecated.\n",
      "  g = sns.catplot(\n",
      "/opt/conda/lib/python3.10/site-packages/seaborn/axisgrid.py:118: UserWarning: The figure layout has changed to tight\n",
      "  self._figure.tight_layout(*args, **kwargs)\n"
     ]
    },
    {
     "data": {
      "image/png": "[encoded data removed]",
      "text/plain": [
       "<Figure size 180x300 with 1 Axes>"
      ]
     },
     "metadata": {},
     "output_type": "display_data"
    }
   ],
   "source": [
    "g = sns.catplot(\n",
    "    data = tpm_matrix_jul24_melt_df,\n",
    "    x = \"group\",\n",
    "    order = [\"Control\", \"cKO\"],\n",
    "    y = \"TPM\",\n",
    "    col = \"gene_name\",\n",
    "    col_order = [\"Ptbp2\"],\n",
    "    palette = [\"black\", \"red\"],\n",
    "    height = 3,\n",
    "    aspect = 0.6,\n",
    "    s = 100,\n",
    "    edgecolor = \"black\",\n",
    "    linewidth = 1\n",
    ")\n",
    "g.set_titles(\"{col_name}\")\n",
    "g.set_axis_labels(\"\", \"TPM\")\n",
    "plt.savefig(\"/rhome/naotok/bigdata/Ptbp1_astrocyte/Jul24/figure/TPM_PTBP2_catplot.png\", bbox_inches = \"tight\", dpi = 800)"
   ]
  }
 ],
 "metadata": {
  "kernelspec": {
   "display_name": "Python 3 (ipykernel)",
   "language": "python",
   "name": "python3"
  },
  "language_info": {
   "codemirror_mode": {
    "name": "ipython",
    "version": 3
   },
   "file_extension": ".py",
   "mimetype": "text/x-python",
   "name": "python",
   "nbconvert_exporter": "python",
   "pygments_lexer": "ipython3",
   "version": "3.10.6"
  },
  "toc": {
   "base_numbering": 1,
   "nav_menu": {},
   "number_sections": true,
   "sideBar": true,
   "skip_h1_title": false,
   "title_cell": "Table of Contents",
   "title_sidebar": "Contents",
   "toc_cell": false,
   "toc_position": {},
   "toc_section_display": true,
   "toc_window_display": false
  },
  "varInspector": {
   "cols": {
    "lenName": 16,
    "lenType": 16,
    "lenVar": 40
   },
   "kernels_config": {
    "python": {
     "delete_cmd_postfix": "",
     "delete_cmd_prefix": "del ",
     "library": "var_list.py",
     "varRefreshCmd": "print(var_dic_list())"
    },
    "r": {
     "delete_cmd_postfix": ") ",
     "delete_cmd_prefix": "rm(",
     "library": "var_list.r",
     "varRefreshCmd": "cat(var_dic_list()) "
    }
   },
   "types_to_exclude": [
    "module",
    "function",
    "builtin_function_or_method",
    "instance",
    "_Feature"
   ],
   "window_display": false
  }
 },
 "nbformat": 4,
 "nbformat_minor": 5
}
