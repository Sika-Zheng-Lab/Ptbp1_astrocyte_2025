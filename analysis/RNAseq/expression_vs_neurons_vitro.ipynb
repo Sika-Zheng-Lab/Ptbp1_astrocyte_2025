{
 "cells": [
  {
   "cell_type": "code",
   "execution_count": 1,
   "id": "672b592d",
   "metadata": {
    "ExecuteTime": {
     "end_time": "2025-03-20T18:17:15.933034Z",
     "start_time": "2025-03-20T18:17:13.258071Z"
    }
   },
   "outputs": [
    {
     "name": "stderr",
     "output_type": "stream",
     "text": [
      "Matplotlib created a temporary cache directory at /scratch/naotok/13419516/matplotlib-mqv80n5y because the default path (/home/jovyan/.cache/matplotlib) is not a writable directory; it is highly recommended to set the MPLCONFIGDIR environment variable to a writable directory, in particular to speed up the import of Matplotlib and to better support multiprocessing.\n"
     ]
    }
   ],
   "source": [
    "import pandas as pd\n",
    "import matplotlib\n",
    "matplotlib.rcParams[\"font.family\"] = \"Arial\"\n",
    "import matplotlib.pyplot as plt\n",
    "import seaborn as sns\n",
    "import scipy.stats as stats\n",
    "from sklearn.decomposition import PCA\n",
    "from sklearn.impute import KNNImputer"
   ]
  },
  {
   "cell_type": "markdown",
   "id": "5ab35761",
   "metadata": {},
   "source": [
    "# PCA"
   ]
  },
  {
   "cell_type": "markdown",
   "id": "dd864723",
   "metadata": {},
   "source": [
    "## Load TPM matrix"
   ]
  },
  {
   "cell_type": "code",
   "execution_count": null,
   "id": "3f2c2ee9",
   "metadata": {
    "ExecuteTime": {
     "end_time": "2025-03-20T18:17:16.050863Z",
     "start_time": "2025-03-20T18:17:15.935465Z"
    },
    "scrolled": true
   },
   "outputs": [
    {
     "data": {
      "text/html": [
       "<div>\n",
       "<style scoped>\n",
       "    .dataframe tbody tr th:only-of-type {\n",
       "        vertical-align: middle;\n",
       "    }\n",
       "\n",
       "    .dataframe tbody tr th {\n",
       "        vertical-align: top;\n",
       "    }\n",
       "\n",
       "    .dataframe thead th {\n",
       "        text-align: right;\n",
       "    }\n",
       "</style>\n",
       "<table border=\"1\" class=\"dataframe\">\n",
       "  <thead>\n",
       "    <tr style=\"text-align: right;\">\n",
       "      <th></th>\n",
       "      <th>gene_name</th>\n",
       "      <th>WT_F_1</th>\n",
       "      <th>WT_F_2</th>\n",
       "      <th>WT_F_3</th>\n",
       "      <th>KO_F_1</th>\n",
       "      <th>KO_M_3</th>\n",
       "      <th>KO_M_4</th>\n",
       "    </tr>\n",
       "  </thead>\n",
       "  <tbody>\n",
       "    <tr>\n",
       "      <th>0</th>\n",
       "      <td>ENSMUSG00000000001</td>\n",
       "      <td>148.51</td>\n",
       "      <td>162.19</td>\n",
       "      <td>93.35</td>\n",
       "      <td>138.35</td>\n",
       "      <td>207.90</td>\n",
       "      <td>153.99</td>\n",
       "    </tr>\n",
       "    <tr>\n",
       "      <th>1</th>\n",
       "      <td>ENSMUSG00000000003</td>\n",
       "      <td>0.00</td>\n",
       "      <td>0.00</td>\n",
       "      <td>0.00</td>\n",
       "      <td>0.00</td>\n",
       "      <td>0.00</td>\n",
       "      <td>0.00</td>\n",
       "    </tr>\n",
       "    <tr>\n",
       "      <th>2</th>\n",
       "      <td>ENSMUSG00000000028</td>\n",
       "      <td>12.14</td>\n",
       "      <td>12.34</td>\n",
       "      <td>14.81</td>\n",
       "      <td>10.39</td>\n",
       "      <td>13.46</td>\n",
       "      <td>7.98</td>\n",
       "    </tr>\n",
       "    <tr>\n",
       "      <th>3</th>\n",
       "      <td>ENSMUSG00000000031</td>\n",
       "      <td>0.00</td>\n",
       "      <td>0.00</td>\n",
       "      <td>1.60</td>\n",
       "      <td>0.13</td>\n",
       "      <td>0.00</td>\n",
       "      <td>0.09</td>\n",
       "    </tr>\n",
       "    <tr>\n",
       "      <th>4</th>\n",
       "      <td>ENSMUSG00000000037</td>\n",
       "      <td>0.50</td>\n",
       "      <td>1.47</td>\n",
       "      <td>0.31</td>\n",
       "      <td>0.87</td>\n",
       "      <td>1.32</td>\n",
       "      <td>0.93</td>\n",
       "    </tr>\n",
       "  </tbody>\n",
       "</table>\n",
       "</div>"
      ],
      "text/plain": [
       "            gene_name  WT_F_1  WT_F_2  WT_F_3  KO_F_1  KO_M_3  KO_M_4\n",
       "0  ENSMUSG00000000001  148.51  162.19   93.35  138.35  207.90  153.99\n",
       "1  ENSMUSG00000000003    0.00    0.00    0.00    0.00    0.00    0.00\n",
       "2  ENSMUSG00000000028   12.14   12.34   14.81   10.39   13.46    7.98\n",
       "3  ENSMUSG00000000031    0.00    0.00    1.60    0.13    0.00    0.09\n",
       "4  ENSMUSG00000000037    0.50    1.47    0.31    0.87    1.32    0.93"
      ]
     },
     "execution_count": 2,
     "metadata": {},
     "output_type": "execute_result"
    }
   ],
   "source": [
    "# Jul24\n",
    "tpm_matrix_df = pd.read_csv(\"/rhome/naotok/bigdata/Ptbp1_astrocyte/Jul24/Shiba/results/expression/TPM.txt\", sep = \"\\t\")\n",
    "tpm_matrix_df.head()"
   ]
  },
  {
   "cell_type": "code",
   "execution_count": 3,
   "id": "5667d801",
   "metadata": {
    "ExecuteTime": {
     "end_time": "2025-03-20T18:17:16.297049Z",
     "start_time": "2025-03-20T18:17:16.052917Z"
    }
   },
   "outputs": [
    {
     "data": {
      "text/html": [
       "<div>\n",
       "<style scoped>\n",
       "    .dataframe tbody tr th:only-of-type {\n",
       "        vertical-align: middle;\n",
       "    }\n",
       "\n",
       "    .dataframe tbody tr th {\n",
       "        vertical-align: top;\n",
       "    }\n",
       "\n",
       "    .dataframe thead th {\n",
       "        text-align: right;\n",
       "    }\n",
       "</style>\n",
       "<table border=\"1\" class=\"dataframe\">\n",
       "  <thead>\n",
       "    <tr style=\"text-align: right;\">\n",
       "      <th></th>\n",
       "      <th>gene_name</th>\n",
       "      <th>DIV-8_SRR645824</th>\n",
       "      <th>DIV-8_SRR645826</th>\n",
       "      <th>DIV-8_SRR645828</th>\n",
       "      <th>DIV-8_SRR645830</th>\n",
       "      <th>DIV-4_SRR645833</th>\n",
       "      <th>DIV-4_SRR645835</th>\n",
       "      <th>DIV-4_SRR645837</th>\n",
       "      <th>DIV0_SRR645840</th>\n",
       "      <th>DIV0_SRR645842</th>\n",
       "      <th>...</th>\n",
       "      <th>DIV16_SRR645859</th>\n",
       "      <th>DIV16_SRR645861</th>\n",
       "      <th>DIV21_SRR645863</th>\n",
       "      <th>DIV21_SRR645865</th>\n",
       "      <th>DIV21_SRR645867</th>\n",
       "      <th>DIV21_SRR645870</th>\n",
       "      <th>DIV28_SRR645872</th>\n",
       "      <th>DIV28_SRR645875</th>\n",
       "      <th>DIV28_SRR645877</th>\n",
       "      <th>DIV28_SRR645879</th>\n",
       "    </tr>\n",
       "  </thead>\n",
       "  <tbody>\n",
       "    <tr>\n",
       "      <th>0</th>\n",
       "      <td>ENSMUSG00000000001</td>\n",
       "      <td>213.51</td>\n",
       "      <td>209.40</td>\n",
       "      <td>218.88</td>\n",
       "      <td>229.01</td>\n",
       "      <td>261.05</td>\n",
       "      <td>260.61</td>\n",
       "      <td>269.88</td>\n",
       "      <td>343.55</td>\n",
       "      <td>332.39</td>\n",
       "      <td>...</td>\n",
       "      <td>88.48</td>\n",
       "      <td>81.80</td>\n",
       "      <td>58.90</td>\n",
       "      <td>63.05</td>\n",
       "      <td>62.02</td>\n",
       "      <td>60.86</td>\n",
       "      <td>37.75</td>\n",
       "      <td>39.22</td>\n",
       "      <td>39.58</td>\n",
       "      <td>41.38</td>\n",
       "    </tr>\n",
       "    <tr>\n",
       "      <th>1</th>\n",
       "      <td>ENSMUSG00000000003</td>\n",
       "      <td>0.00</td>\n",
       "      <td>0.00</td>\n",
       "      <td>0.00</td>\n",
       "      <td>0.00</td>\n",
       "      <td>0.00</td>\n",
       "      <td>0.00</td>\n",
       "      <td>0.00</td>\n",
       "      <td>0.00</td>\n",
       "      <td>0.00</td>\n",
       "      <td>...</td>\n",
       "      <td>0.00</td>\n",
       "      <td>0.00</td>\n",
       "      <td>0.00</td>\n",
       "      <td>0.00</td>\n",
       "      <td>0.00</td>\n",
       "      <td>0.00</td>\n",
       "      <td>0.00</td>\n",
       "      <td>0.00</td>\n",
       "      <td>0.00</td>\n",
       "      <td>0.00</td>\n",
       "    </tr>\n",
       "    <tr>\n",
       "      <th>2</th>\n",
       "      <td>ENSMUSG00000000028</td>\n",
       "      <td>101.14</td>\n",
       "      <td>98.10</td>\n",
       "      <td>99.55</td>\n",
       "      <td>71.84</td>\n",
       "      <td>77.60</td>\n",
       "      <td>80.62</td>\n",
       "      <td>80.78</td>\n",
       "      <td>52.79</td>\n",
       "      <td>56.77</td>\n",
       "      <td>...</td>\n",
       "      <td>1.68</td>\n",
       "      <td>1.65</td>\n",
       "      <td>2.28</td>\n",
       "      <td>1.59</td>\n",
       "      <td>1.76</td>\n",
       "      <td>1.47</td>\n",
       "      <td>2.03</td>\n",
       "      <td>1.40</td>\n",
       "      <td>1.00</td>\n",
       "      <td>1.25</td>\n",
       "    </tr>\n",
       "    <tr>\n",
       "      <th>3</th>\n",
       "      <td>ENSMUSG00000000031</td>\n",
       "      <td>0.29</td>\n",
       "      <td>0.46</td>\n",
       "      <td>0.62</td>\n",
       "      <td>79.90</td>\n",
       "      <td>2.28</td>\n",
       "      <td>1.94</td>\n",
       "      <td>2.22</td>\n",
       "      <td>13.61</td>\n",
       "      <td>11.76</td>\n",
       "      <td>...</td>\n",
       "      <td>121.21</td>\n",
       "      <td>124.49</td>\n",
       "      <td>62.03</td>\n",
       "      <td>73.41</td>\n",
       "      <td>80.12</td>\n",
       "      <td>48.57</td>\n",
       "      <td>130.77</td>\n",
       "      <td>120.99</td>\n",
       "      <td>57.94</td>\n",
       "      <td>115.85</td>\n",
       "    </tr>\n",
       "    <tr>\n",
       "      <th>4</th>\n",
       "      <td>ENSMUSG00000000037</td>\n",
       "      <td>3.66</td>\n",
       "      <td>3.16</td>\n",
       "      <td>2.94</td>\n",
       "      <td>2.62</td>\n",
       "      <td>2.86</td>\n",
       "      <td>2.74</td>\n",
       "      <td>3.10</td>\n",
       "      <td>7.24</td>\n",
       "      <td>6.00</td>\n",
       "      <td>...</td>\n",
       "      <td>0.77</td>\n",
       "      <td>0.71</td>\n",
       "      <td>0.30</td>\n",
       "      <td>0.39</td>\n",
       "      <td>0.23</td>\n",
       "      <td>0.36</td>\n",
       "      <td>0.41</td>\n",
       "      <td>0.24</td>\n",
       "      <td>0.33</td>\n",
       "      <td>0.59</td>\n",
       "    </tr>\n",
       "    <tr>\n",
       "      <th>...</th>\n",
       "      <td>...</td>\n",
       "      <td>...</td>\n",
       "      <td>...</td>\n",
       "      <td>...</td>\n",
       "      <td>...</td>\n",
       "      <td>...</td>\n",
       "      <td>...</td>\n",
       "      <td>...</td>\n",
       "      <td>...</td>\n",
       "      <td>...</td>\n",
       "      <td>...</td>\n",
       "      <td>...</td>\n",
       "      <td>...</td>\n",
       "      <td>...</td>\n",
       "      <td>...</td>\n",
       "      <td>...</td>\n",
       "      <td>...</td>\n",
       "      <td>...</td>\n",
       "      <td>...</td>\n",
       "      <td>...</td>\n",
       "      <td>...</td>\n",
       "    </tr>\n",
       "    <tr>\n",
       "      <th>55482</th>\n",
       "      <td>ENSMUSG00000118655</td>\n",
       "      <td>0.00</td>\n",
       "      <td>0.00</td>\n",
       "      <td>0.00</td>\n",
       "      <td>0.00</td>\n",
       "      <td>0.00</td>\n",
       "      <td>0.00</td>\n",
       "      <td>0.00</td>\n",
       "      <td>0.00</td>\n",
       "      <td>0.00</td>\n",
       "      <td>...</td>\n",
       "      <td>0.00</td>\n",
       "      <td>0.00</td>\n",
       "      <td>0.20</td>\n",
       "      <td>0.00</td>\n",
       "      <td>0.18</td>\n",
       "      <td>0.18</td>\n",
       "      <td>0.00</td>\n",
       "      <td>0.00</td>\n",
       "      <td>0.00</td>\n",
       "      <td>0.00</td>\n",
       "    </tr>\n",
       "    <tr>\n",
       "      <th>55483</th>\n",
       "      <td>ENSMUSG00000118656</td>\n",
       "      <td>0.00</td>\n",
       "      <td>0.00</td>\n",
       "      <td>0.00</td>\n",
       "      <td>0.00</td>\n",
       "      <td>0.00</td>\n",
       "      <td>0.00</td>\n",
       "      <td>0.00</td>\n",
       "      <td>0.00</td>\n",
       "      <td>0.00</td>\n",
       "      <td>...</td>\n",
       "      <td>0.00</td>\n",
       "      <td>0.00</td>\n",
       "      <td>0.00</td>\n",
       "      <td>0.00</td>\n",
       "      <td>0.00</td>\n",
       "      <td>0.00</td>\n",
       "      <td>0.00</td>\n",
       "      <td>0.00</td>\n",
       "      <td>0.00</td>\n",
       "      <td>0.00</td>\n",
       "    </tr>\n",
       "    <tr>\n",
       "      <th>55484</th>\n",
       "      <td>ENSMUSG00000118657</td>\n",
       "      <td>2.04</td>\n",
       "      <td>0.00</td>\n",
       "      <td>0.00</td>\n",
       "      <td>0.00</td>\n",
       "      <td>0.00</td>\n",
       "      <td>3.51</td>\n",
       "      <td>2.31</td>\n",
       "      <td>0.00</td>\n",
       "      <td>1.28</td>\n",
       "      <td>...</td>\n",
       "      <td>0.00</td>\n",
       "      <td>1.54</td>\n",
       "      <td>0.00</td>\n",
       "      <td>0.00</td>\n",
       "      <td>0.00</td>\n",
       "      <td>0.00</td>\n",
       "      <td>0.00</td>\n",
       "      <td>0.00</td>\n",
       "      <td>0.00</td>\n",
       "      <td>0.66</td>\n",
       "    </tr>\n",
       "    <tr>\n",
       "      <th>55485</th>\n",
       "      <td>ENSMUSG00000118658</td>\n",
       "      <td>0.00</td>\n",
       "      <td>0.00</td>\n",
       "      <td>0.00</td>\n",
       "      <td>0.00</td>\n",
       "      <td>0.00</td>\n",
       "      <td>0.00</td>\n",
       "      <td>0.00</td>\n",
       "      <td>0.00</td>\n",
       "      <td>0.00</td>\n",
       "      <td>...</td>\n",
       "      <td>0.00</td>\n",
       "      <td>0.00</td>\n",
       "      <td>0.00</td>\n",
       "      <td>0.00</td>\n",
       "      <td>0.00</td>\n",
       "      <td>0.00</td>\n",
       "      <td>0.00</td>\n",
       "      <td>0.00</td>\n",
       "      <td>0.00</td>\n",
       "      <td>0.00</td>\n",
       "    </tr>\n",
       "    <tr>\n",
       "      <th>55486</th>\n",
       "      <td>ENSMUSG00000118659</td>\n",
       "      <td>0.00</td>\n",
       "      <td>0.00</td>\n",
       "      <td>0.00</td>\n",
       "      <td>0.00</td>\n",
       "      <td>0.00</td>\n",
       "      <td>0.00</td>\n",
       "      <td>0.00</td>\n",
       "      <td>0.00</td>\n",
       "      <td>0.00</td>\n",
       "      <td>...</td>\n",
       "      <td>0.00</td>\n",
       "      <td>0.00</td>\n",
       "      <td>0.00</td>\n",
       "      <td>0.00</td>\n",
       "      <td>0.00</td>\n",
       "      <td>0.00</td>\n",
       "      <td>0.00</td>\n",
       "      <td>0.00</td>\n",
       "      <td>0.00</td>\n",
       "      <td>0.30</td>\n",
       "    </tr>\n",
       "  </tbody>\n",
       "</table>\n",
       "<p>55487 rows × 32 columns</p>\n",
       "</div>"
      ],
      "text/plain": [
       "                gene_name  DIV-8_SRR645824  DIV-8_SRR645826  DIV-8_SRR645828  \\\n",
       "0      ENSMUSG00000000001           213.51           209.40           218.88   \n",
       "1      ENSMUSG00000000003             0.00             0.00             0.00   \n",
       "2      ENSMUSG00000000028           101.14            98.10            99.55   \n",
       "3      ENSMUSG00000000031             0.29             0.46             0.62   \n",
       "4      ENSMUSG00000000037             3.66             3.16             2.94   \n",
       "...                   ...              ...              ...              ...   \n",
       "55482  ENSMUSG00000118655             0.00             0.00             0.00   \n",
       "55483  ENSMUSG00000118656             0.00             0.00             0.00   \n",
       "55484  ENSMUSG00000118657             2.04             0.00             0.00   \n",
       "55485  ENSMUSG00000118658             0.00             0.00             0.00   \n",
       "55486  ENSMUSG00000118659             0.00             0.00             0.00   \n",
       "\n",
       "       DIV-8_SRR645830  DIV-4_SRR645833  DIV-4_SRR645835  DIV-4_SRR645837  \\\n",
       "0               229.01           261.05           260.61           269.88   \n",
       "1                 0.00             0.00             0.00             0.00   \n",
       "2                71.84            77.60            80.62            80.78   \n",
       "3                79.90             2.28             1.94             2.22   \n",
       "4                 2.62             2.86             2.74             3.10   \n",
       "...                ...              ...              ...              ...   \n",
       "55482             0.00             0.00             0.00             0.00   \n",
       "55483             0.00             0.00             0.00             0.00   \n",
       "55484             0.00             0.00             3.51             2.31   \n",
       "55485             0.00             0.00             0.00             0.00   \n",
       "55486             0.00             0.00             0.00             0.00   \n",
       "\n",
       "       DIV0_SRR645840  DIV0_SRR645842  ...  DIV16_SRR645859  DIV16_SRR645861  \\\n",
       "0              343.55          332.39  ...            88.48            81.80   \n",
       "1                0.00            0.00  ...             0.00             0.00   \n",
       "2               52.79           56.77  ...             1.68             1.65   \n",
       "3               13.61           11.76  ...           121.21           124.49   \n",
       "4                7.24            6.00  ...             0.77             0.71   \n",
       "...               ...             ...  ...              ...              ...   \n",
       "55482            0.00            0.00  ...             0.00             0.00   \n",
       "55483            0.00            0.00  ...             0.00             0.00   \n",
       "55484            0.00            1.28  ...             0.00             1.54   \n",
       "55485            0.00            0.00  ...             0.00             0.00   \n",
       "55486            0.00            0.00  ...             0.00             0.00   \n",
       "\n",
       "       DIV21_SRR645863  DIV21_SRR645865  DIV21_SRR645867  DIV21_SRR645870  \\\n",
       "0                58.90            63.05            62.02            60.86   \n",
       "1                 0.00             0.00             0.00             0.00   \n",
       "2                 2.28             1.59             1.76             1.47   \n",
       "3                62.03            73.41            80.12            48.57   \n",
       "4                 0.30             0.39             0.23             0.36   \n",
       "...                ...              ...              ...              ...   \n",
       "55482             0.20             0.00             0.18             0.18   \n",
       "55483             0.00             0.00             0.00             0.00   \n",
       "55484             0.00             0.00             0.00             0.00   \n",
       "55485             0.00             0.00             0.00             0.00   \n",
       "55486             0.00             0.00             0.00             0.00   \n",
       "\n",
       "       DIV28_SRR645872  DIV28_SRR645875  DIV28_SRR645877  DIV28_SRR645879  \n",
       "0                37.75            39.22            39.58            41.38  \n",
       "1                 0.00             0.00             0.00             0.00  \n",
       "2                 2.03             1.40             1.00             1.25  \n",
       "3               130.77           120.99            57.94           115.85  \n",
       "4                 0.41             0.24             0.33             0.59  \n",
       "...                ...              ...              ...              ...  \n",
       "55482             0.00             0.00             0.00             0.00  \n",
       "55483             0.00             0.00             0.00             0.00  \n",
       "55484             0.00             0.00             0.00             0.66  \n",
       "55485             0.00             0.00             0.00             0.00  \n",
       "55486             0.00             0.00             0.00             0.30  \n",
       "\n",
       "[55487 rows x 32 columns]"
      ]
     },
     "execution_count": 3,
     "metadata": {},
     "output_type": "execute_result"
    }
   ],
   "source": [
    "# mouse mESC neuronal differentiation (SRP055008)\n",
    "tpm_matrix_PRJNA185305_df = pd.read_csv(\"/rhome/naotok/bigdata/NeuronalMaturationSplicing/splicing/PRJNA185305/Shiba/results/expression/TPM.txt\", sep = \"\\t\")\n",
    "# group\n",
    "group_df = pd.read_csv(\"/rhome/naotok/NeuronalMaturationSplicing/scripts/splicing/experiment_Shiba_PRJNA185305.tsv\", sep = \"\\t\", usecols = [\"sample\", \"group\"])\n",
    "group_dict = {k: v for k, v in zip(group_df[\"sample\"], group_df[\"group\"])}\n",
    "tpm_matrix_PRJNA185305_df.columns = [group_dict[x] + \"_\" + x if x != \"gene_name\" else x for x in tpm_matrix_PRJNA185305_df.columns]\n",
    "tpm_matrix_PRJNA185305_df"
   ]
  },
  {
   "cell_type": "markdown",
   "id": "984beac3",
   "metadata": {},
   "source": [
    "## Merge"
   ]
  },
  {
   "cell_type": "code",
   "execution_count": null,
   "id": "3d9a61cb",
   "metadata": {
    "ExecuteTime": {
     "end_time": "2025-03-20T18:17:16.343744Z",
     "start_time": "2025-03-20T18:17:16.299963Z"
    }
   },
   "outputs": [],
   "source": [
    "tpm_matrix_merge_df = pd.merge(tpm_matrix_df, tpm_matrix_PRJNA185305_df, on = \"gene_name\")\n",
    "tpm_matrix_merge_df = tpm_matrix_merge_df.set_index(\"gene_name\")"
   ]
  },
  {
   "cell_type": "code",
   "execution_count": 5,
   "id": "2be90554",
   "metadata": {
    "ExecuteTime": {
     "end_time": "2025-03-20T18:17:16.352545Z",
     "start_time": "2025-03-20T18:17:16.345545Z"
    }
   },
   "outputs": [],
   "source": [
    "def mtx2pca(df, genes) -> pd.DataFrame:\n",
    "    '''\n",
    "    Perform PCA on the input dataframe\n",
    "\n",
    "    Args:\n",
    "    - df (pd.DataFrame): input dataframe\n",
    "    - genes (int): number of highly-variable genes to calculate PCs\n",
    "\n",
    "    Returns:\n",
    "    - feature_df (pd.DataFrame): dataframe containing principal components\n",
    "    - contribution_df (pd.DataFrame): dataframe containing the contribution of each principal component\n",
    "    '''\n",
    "    df = df.dropna()\n",
    "    # Keep rows of top n highly-variable genes\n",
    "    if df.shape[0] > genes:\n",
    "        df = df.loc[df.var(axis=1).sort_values(ascending=False).index[:genes]]\n",
    "    # Z-score normalization across samples\n",
    "    normalized_df = df.T.apply(stats.zscore, ddof = 1)\n",
    "    # PCA\n",
    "    pca = PCA()\n",
    "    pca.fit(normalized_df)\n",
    "    # Feature\n",
    "    feature = pca.transform(normalized_df)\n",
    "    feature_df = pd.DataFrame(feature, columns=[\"PC{}\".format(x + 1) for x in range(len(feature))])\n",
    "    feature_df.index = df.columns\n",
    "    # Contribution\n",
    "    contribution_df = pd.DataFrame(pca.explained_variance_ratio_, index=[\"PC{}\".format(x + 1) for x in range(len(feature))])\n",
    "    return(feature_df, contribution_df)"
   ]
  },
  {
   "cell_type": "code",
   "execution_count": 6,
   "id": "72a333b0",
   "metadata": {
    "ExecuteTime": {
     "end_time": "2025-03-20T18:17:18.214556Z",
     "start_time": "2025-03-20T18:17:16.354315Z"
    }
   },
   "outputs": [],
   "source": [
    "feature_df, contribution_df = mtx2pca(tpm_matrix_merge_df, 3000)\n",
    "PC1_contribution = (contribution_df[0][0]*100).round(2)\n",
    "PC2_contribution = (contribution_df[0][1]*100).round(2)\n",
    "pca_df = feature_df.copy()\n",
    "pca_df[\"group\"] = pca_df.index.map(lambda x: x.split(\"_\")[0])\n",
    "pca_df[\"group\"] = pca_df[\"group\"].map(lambda x: x if x != \"KO\" else \"Ptbp1 cKO\").map(lambda x: \"Control\" if x == \"WT\" else x)"
   ]
  },
  {
   "cell_type": "markdown",
   "id": "38b14c90",
   "metadata": {},
   "source": [
    "## Plot"
   ]
  },
  {
   "cell_type": "code",
   "execution_count": 7,
   "id": "94e5cc41",
   "metadata": {
    "ExecuteTime": {
     "end_time": "2025-03-20T18:17:18.223810Z",
     "start_time": "2025-03-20T18:17:18.216497Z"
    },
    "scrolled": false
   },
   "outputs": [
    {
     "data": {
      "text/plain": [
       "{'DIV-8': '#482878',\n",
       " 'DIV-4': '#3e4989',\n",
       " 'DIV0': '#31688e',\n",
       " 'DIV1': '#26828e',\n",
       " 'DIV7': '#1f9e89',\n",
       " 'DIV16': '#35b779',\n",
       " 'DIV21': '#6ece58',\n",
       " 'DIV28': '#b5de2b',\n",
       " 'Control': 'black',\n",
       " 'Ptbp1 cKO': 'red'}"
      ]
     },
     "execution_count": 7,
     "metadata": {},
     "output_type": "execute_result"
    }
   ],
   "source": [
    "color_palette_dict = {}\n",
    "viridis = sns.color_palette(\"viridis\", n_colors = 8).as_hex()\n",
    "Set2 = sns.color_palette(\"Set2\").as_hex()\n",
    "i = 0\n",
    "for group in [\"DIV-8\", \"DIV-4\", \"DIV0\", \"DIV1\", \"DIV7\", \"DIV16\", \"DIV21\", \"DIV28\"]:\n",
    "    color_palette_dict[group] = viridis[i]\n",
    "    i+=1\n",
    "color_palette_dict[\"Control\"] = \"black\"\n",
    "color_palette_dict[\"Ptbp1 cKO\"] = \"red\"\n",
    "color_palette_dict"
   ]
  },
  {
   "cell_type": "code",
   "execution_count": null,
   "id": "c9945073",
   "metadata": {
    "ExecuteTime": {
     "end_time": "2025-03-20T18:17:19.853303Z",
     "start_time": "2025-03-20T18:17:18.225524Z"
    }
   },
   "outputs": [
    {
     "name": "stderr",
     "output_type": "stream",
     "text": [
      "/opt/conda/lib/python3.10/site-packages/seaborn/axisgrid.py:118: UserWarning: The figure layout has changed to tight\n",
      "  self._figure.tight_layout(*args, **kwargs)\n"
     ]
    },
    {
     "data": {
      "image/png": "[encoded data removed]",
      "text/plain": [
       "<Figure size 467x350 with 1 Axes>"
      ]
     },
     "metadata": {},
     "output_type": "display_data"
    }
   ],
   "source": [
    "g = sns.relplot(\n",
    "    data = pca_df,\n",
    "    x = \"PC1\",\n",
    "    y = \"PC2\",\n",
    "    hue = \"group\",\n",
    "    hue_order = [\"Control\", \"Ptbp1 cKO\"] + [\"DIV-8\", \"DIV-4\", \"DIV0\", \"DIV1\", \"DIV7\", \"DIV16\", \"DIV21\", \"DIV28\"],\n",
    "    s = 100,\n",
    "    edgecolor = \"black\",\n",
    "    height = 3.5,\n",
    "    aspect = 1,\n",
    "    palette = color_palette_dict\n",
    ")\n",
    "g.set_xlabels(f\"PC1 ({PC1_contribution}%)\")\n",
    "g.set_ylabels(f\"PC2 ({PC2_contribution}%)\")\n",
    "g._legend.set_title(\"\")\n",
    "plt.savefig(\"/rhome/naotok/bigdata/Ptbp1_astrocyte/Jul24/figure/PCA_TPM_vs_neuron_PRJNA185305.png\", bbox_inches = \"tight\", dpi = 1000)"
   ]
  },
  {
   "cell_type": "markdown",
   "id": "95ba2b81",
   "metadata": {},
   "source": [
    "# Correlation of TPM"
   ]
  },
  {
   "cell_type": "code",
   "execution_count": null,
   "id": "d5259dbc",
   "metadata": {
    "ExecuteTime": {
     "end_time": "2025-03-20T18:17:19.857109Z",
     "start_time": "2025-03-20T18:17:19.854787Z"
    }
   },
   "outputs": [],
   "source": [
    "DEG_path_dict = {\n",
    "    \"astrocyte\": \"/rhome/naotok/bigdata/Ptbp1_astrocyte/Jul24/Shiba/results/expression/DEG.txt\",\n",
    "    \"neuron\": \"/rhome/naotok/bigdata/NeuronalMaturationSplicing/splicing/PRJNA185305/Shiba_DIV0vsDIV28/results/expression/DEG.txt\"\n",
    "}"
   ]
  },
  {
   "cell_type": "code",
   "execution_count": 10,
   "id": "e531c67a",
   "metadata": {
    "ExecuteTime": {
     "end_time": "2025-03-20T18:17:21.254176Z",
     "start_time": "2025-03-20T18:17:19.860468Z"
    }
   },
   "outputs": [],
   "source": [
    "info_df = pd.read_csv(\"/rhome/naotok/bigdata/genome_annotation/Mouse/Mus_musculus.GRCm38.102.exon.info.tsv\", sep = \"\\t\", usecols = [\"gene_id\", \"gene_name\", \"chr\"])\n",
    "info_df = info_df.drop_duplicates()"
   ]
  },
  {
   "cell_type": "code",
   "execution_count": 11,
   "id": "7ffa0149",
   "metadata": {
    "ExecuteTime": {
     "end_time": "2025-03-20T18:17:21.511872Z",
     "start_time": "2025-03-20T18:17:21.255706Z"
    },
    "scrolled": true
   },
   "outputs": [],
   "source": [
    "DEG_set = set()\n",
    "for path in DEG_path_dict:    \n",
    "    DEG_df = pd.read_csv(DEG_path_dict[path], sep = \"\\t\")\n",
    "    DEG_df = DEG_df.rename(columns = {\"gene_name\": \"gene_id\"})\n",
    "    DEG_df = pd.merge(DEG_df, info_df, on = \"gene_id\", how = \"left\")\n",
    "    DEG_df = DEG_df[~((DEG_df[\"chr\"] == \"chrX\") | (DEG_df[\"chr\"] == \"chrY\"))]\n",
    "    DEG_tmp = set(DEG_df[(DEG_df[\"padj\"] < 0.05) & (DEG_df[\"log2FoldChange\"].abs() > 1)][\"gene_id\"])\n",
    "    DEG_set = DEG_set | DEG_tmp if len(DEG_set) != 0 else DEG_tmp"
   ]
  },
  {
   "cell_type": "code",
   "execution_count": 12,
   "id": "0a6a88fe",
   "metadata": {
    "ExecuteTime": {
     "end_time": "2025-03-20T18:17:21.517107Z",
     "start_time": "2025-03-20T18:17:21.513461Z"
    }
   },
   "outputs": [
    {
     "data": {
      "text/plain": [
       "11737"
      ]
     },
     "execution_count": 12,
     "metadata": {},
     "output_type": "execute_result"
    }
   ],
   "source": [
    "len(DEG_set)"
   ]
  },
  {
   "cell_type": "code",
   "execution_count": 13,
   "id": "c1d1f089",
   "metadata": {
    "ExecuteTime": {
     "end_time": "2025-03-20T18:17:23.242009Z",
     "start_time": "2025-03-20T18:17:21.519014Z"
    }
   },
   "outputs": [
    {
     "name": "stderr",
     "output_type": "stream",
     "text": [
      "/scratch/naotok/13419516/ipykernel_2417830/1535651331.py:4: FutureWarning: The default value of numeric_only in DataFrameGroupBy.mean is deprecated. In a future version, numeric_only will default to False. Either specify numeric_only or select only columns which should be valid for the function.\n",
      "  tpm_matrix_merge_melt_df = tpm_matrix_merge_melt_df.groupby([\"gene_name\", \"group\"], as_index = False).mean()\n"
     ]
    },
    {
     "data": {
      "text/html": [
       "<div>\n",
       "<style scoped>\n",
       "    .dataframe tbody tr th:only-of-type {\n",
       "        vertical-align: middle;\n",
       "    }\n",
       "\n",
       "    .dataframe tbody tr th {\n",
       "        vertical-align: top;\n",
       "    }\n",
       "\n",
       "    .dataframe thead th {\n",
       "        text-align: right;\n",
       "    }\n",
       "</style>\n",
       "<table border=\"1\" class=\"dataframe\">\n",
       "  <thead>\n",
       "    <tr style=\"text-align: right;\">\n",
       "      <th>group</th>\n",
       "      <th>Control</th>\n",
       "      <th>Ptbp1 cKO</th>\n",
       "      <th>DIV0</th>\n",
       "      <th>DIV28</th>\n",
       "    </tr>\n",
       "    <tr>\n",
       "      <th>gene_name</th>\n",
       "      <th></th>\n",
       "      <th></th>\n",
       "      <th></th>\n",
       "      <th></th>\n",
       "    </tr>\n",
       "  </thead>\n",
       "  <tbody>\n",
       "    <tr>\n",
       "      <th>ENSMUSG00000000001</th>\n",
       "      <td>7.084100</td>\n",
       "      <td>7.390140</td>\n",
       "      <td>8.461643</td>\n",
       "      <td>5.339226</td>\n",
       "    </tr>\n",
       "    <tr>\n",
       "      <th>ENSMUSG00000000028</th>\n",
       "      <td>3.817282</td>\n",
       "      <td>3.537296</td>\n",
       "      <td>5.859473</td>\n",
       "      <td>1.275007</td>\n",
       "    </tr>\n",
       "    <tr>\n",
       "      <th>ENSMUSG00000000031</th>\n",
       "      <td>0.616671</td>\n",
       "      <td>0.102098</td>\n",
       "      <td>4.157313</td>\n",
       "      <td>6.746682</td>\n",
       "    </tr>\n",
       "    <tr>\n",
       "      <th>ENSMUSG00000000056</th>\n",
       "      <td>4.848665</td>\n",
       "      <td>4.959461</td>\n",
       "      <td>5.747298</td>\n",
       "      <td>6.521483</td>\n",
       "    </tr>\n",
       "    <tr>\n",
       "      <th>ENSMUSG00000000078</th>\n",
       "      <td>5.012569</td>\n",
       "      <td>5.670161</td>\n",
       "      <td>7.243110</td>\n",
       "      <td>5.264724</td>\n",
       "    </tr>\n",
       "    <tr>\n",
       "      <th>...</th>\n",
       "      <td>...</td>\n",
       "      <td>...</td>\n",
       "      <td>...</td>\n",
       "      <td>...</td>\n",
       "    </tr>\n",
       "    <tr>\n",
       "      <th>ENSMUSG00000118346</th>\n",
       "      <td>6.864434</td>\n",
       "      <td>6.763146</td>\n",
       "      <td>7.259712</td>\n",
       "      <td>4.630959</td>\n",
       "    </tr>\n",
       "    <tr>\n",
       "      <th>ENSMUSG00000118383</th>\n",
       "      <td>4.146764</td>\n",
       "      <td>4.468801</td>\n",
       "      <td>3.197970</td>\n",
       "      <td>0.163499</td>\n",
       "    </tr>\n",
       "    <tr>\n",
       "      <th>ENSMUSG00000118502</th>\n",
       "      <td>2.490570</td>\n",
       "      <td>2.841973</td>\n",
       "      <td>3.106013</td>\n",
       "      <td>4.716305</td>\n",
       "    </tr>\n",
       "    <tr>\n",
       "      <th>ENSMUSG00000118537</th>\n",
       "      <td>2.249951</td>\n",
       "      <td>2.338187</td>\n",
       "      <td>3.603280</td>\n",
       "      <td>2.327687</td>\n",
       "    </tr>\n",
       "    <tr>\n",
       "      <th>ENSMUSG00000118642</th>\n",
       "      <td>8.086154</td>\n",
       "      <td>8.042170</td>\n",
       "      <td>8.280508</td>\n",
       "      <td>4.459596</td>\n",
       "    </tr>\n",
       "  </tbody>\n",
       "</table>\n",
       "<p>6733 rows × 4 columns</p>\n",
       "</div>"
      ],
      "text/plain": [
       "group                Control  Ptbp1 cKO      DIV0     DIV28\n",
       "gene_name                                                  \n",
       "ENSMUSG00000000001  7.084100   7.390140  8.461643  5.339226\n",
       "ENSMUSG00000000028  3.817282   3.537296  5.859473  1.275007\n",
       "ENSMUSG00000000031  0.616671   0.102098  4.157313  6.746682\n",
       "ENSMUSG00000000056  4.848665   4.959461  5.747298  6.521483\n",
       "ENSMUSG00000000078  5.012569   5.670161  7.243110  5.264724\n",
       "...                      ...        ...       ...       ...\n",
       "ENSMUSG00000118346  6.864434   6.763146  7.259712  4.630959\n",
       "ENSMUSG00000118383  4.146764   4.468801  3.197970  0.163499\n",
       "ENSMUSG00000118502  2.490570   2.841973  3.106013  4.716305\n",
       "ENSMUSG00000118537  2.249951   2.338187  3.603280  2.327687\n",
       "ENSMUSG00000118642  8.086154   8.042170  8.280508  4.459596\n",
       "\n",
       "[6733 rows x 4 columns]"
      ]
     },
     "execution_count": 13,
     "metadata": {},
     "output_type": "execute_result"
    }
   ],
   "source": [
    "tpm_matrix_merge_melt_df = tpm_matrix_merge_df.reset_index().melt(id_vars = \"gene_name\", var_name = \"sample\", value_name = \"TPM\")\n",
    "tpm_matrix_merge_melt_df = tpm_matrix_merge_melt_df[tpm_matrix_merge_melt_df[\"gene_name\"].isin(DEG_set)]\n",
    "tpm_matrix_merge_melt_df[\"group\"] = tpm_matrix_merge_melt_df[\"sample\"].map(lambda x: x.split(\"_\")[0])\n",
    "tpm_matrix_merge_melt_df = tpm_matrix_merge_melt_df.groupby([\"gene_name\", \"group\"], as_index = False).mean()\n",
    "tpm_matrix_mean_df = tpm_matrix_merge_melt_df.pivot(index = \"gene_name\", columns = \"group\", values = \"TPM\")\n",
    "tpm_matrix_mean_df = tpm_matrix_mean_df.rename(columns = {\"WT\": \"Control\", \"KO\": \"Ptbp1 cKO\"})\n",
    "tpm_matrix_mean_df = tpm_matrix_mean_df[[\"Control\", \"Ptbp1 cKO\", \"DIV0\", \"DIV28\"]]\n",
    "tpm_matrix_mean_df = tpm_matrix_mean_df[tpm_matrix_mean_df.apply(lambda x: x > 10, axis = 1).any(axis = 1)]\n",
    "tpm_matrix_mean_df = np.log2(tpm_matrix_mean_df+1)\n",
    "tpm_matrix_mean_df"
   ]
  },
  {
   "cell_type": "code",
   "execution_count": 14,
   "id": "08a8d83a",
   "metadata": {
    "ExecuteTime": {
     "end_time": "2025-03-20T18:17:23.253430Z",
     "start_time": "2025-03-20T18:17:23.243664Z"
    }
   },
   "outputs": [
    {
     "data": {
      "text/html": [
       "<div>\n",
       "<style scoped>\n",
       "    .dataframe tbody tr th:only-of-type {\n",
       "        vertical-align: middle;\n",
       "    }\n",
       "\n",
       "    .dataframe tbody tr th {\n",
       "        vertical-align: top;\n",
       "    }\n",
       "\n",
       "    .dataframe thead th {\n",
       "        text-align: right;\n",
       "    }\n",
       "</style>\n",
       "<table border=\"1\" class=\"dataframe\">\n",
       "  <thead>\n",
       "    <tr style=\"text-align: right;\">\n",
       "      <th>group</th>\n",
       "      <th>Control</th>\n",
       "      <th>Ptbp1 cKO</th>\n",
       "      <th>DIV0</th>\n",
       "      <th>DIV28</th>\n",
       "    </tr>\n",
       "    <tr>\n",
       "      <th>group</th>\n",
       "      <th></th>\n",
       "      <th></th>\n",
       "      <th></th>\n",
       "      <th></th>\n",
       "    </tr>\n",
       "  </thead>\n",
       "  <tbody>\n",
       "    <tr>\n",
       "      <th>Control</th>\n",
       "      <td>1.000000</td>\n",
       "      <td>0.986590</td>\n",
       "      <td>0.429793</td>\n",
       "      <td>0.364976</td>\n",
       "    </tr>\n",
       "    <tr>\n",
       "      <th>Ptbp1 cKO</th>\n",
       "      <td>0.986590</td>\n",
       "      <td>1.000000</td>\n",
       "      <td>0.427622</td>\n",
       "      <td>0.365542</td>\n",
       "    </tr>\n",
       "    <tr>\n",
       "      <th>DIV0</th>\n",
       "      <td>0.429793</td>\n",
       "      <td>0.427622</td>\n",
       "      <td>1.000000</td>\n",
       "      <td>0.257850</td>\n",
       "    </tr>\n",
       "    <tr>\n",
       "      <th>DIV28</th>\n",
       "      <td>0.364976</td>\n",
       "      <td>0.365542</td>\n",
       "      <td>0.257850</td>\n",
       "      <td>1.000000</td>\n",
       "    </tr>\n",
       "  </tbody>\n",
       "</table>\n",
       "</div>"
      ],
      "text/plain": [
       "group       Control  Ptbp1 cKO      DIV0     DIV28\n",
       "group                                             \n",
       "Control    1.000000   0.986590  0.429793  0.364976\n",
       "Ptbp1 cKO  0.986590   1.000000  0.427622  0.365542\n",
       "DIV0       0.429793   0.427622  1.000000  0.257850\n",
       "DIV28      0.364976   0.365542  0.257850  1.000000"
      ]
     },
     "execution_count": 14,
     "metadata": {},
     "output_type": "execute_result"
    }
   ],
   "source": [
    "tpm_matrix_mean_df.corr(method = \"spearman\")"
   ]
  },
  {
   "cell_type": "code",
   "execution_count": null,
   "id": "2944ebb3",
   "metadata": {
    "ExecuteTime": {
     "end_time": "2025-03-20T18:17:28.646972Z",
     "start_time": "2025-03-20T18:17:23.255477Z"
    },
    "scrolled": false
   },
   "outputs": [
    {
     "name": "stderr",
     "output_type": "stream",
     "text": [
      "/opt/conda/lib/python3.10/site-packages/seaborn/axisgrid.py:118: UserWarning: The figure layout has changed to tight\n",
      "  self._figure.tight_layout(*args, **kwargs)\n"
     ]
    },
    {
     "data": {
      "image/png": "[encoded data removed]",
      "text/plain": [
       "<Figure size 400x400 with 14 Axes>"
      ]
     },
     "metadata": {},
     "output_type": "display_data"
    }
   ],
   "source": [
    "g = sns.pairplot(\n",
    "    data = tpm_matrix_mean_df,\n",
    "    kind = \"reg\",\n",
    "    corner = True,\n",
    "    plot_kws = {\n",
    "        \"scatter_kws\": {\"alpha\": 0.1, \"s\": 0.05, \"color\": \"#8c96c6\"},\n",
    "        \"line_kws\": {\"color\": \"#8c96c6\"}\n",
    "    },\n",
    "    diag_kws = {\"color\": \"#8c96c6\"},\n",
    "    height = 1\n",
    ")\n",
    "# Calculate and add Spearman's correlation coefficients in the same plot space\n",
    "for i in range(len(g.axes)):\n",
    "    for j in range(i):\n",
    "        ax = g.axes[i, j]\n",
    "        x = tpm_matrix_mean_df.iloc[:, j]\n",
    "        y = tpm_matrix_mean_df.iloc[:, i]\n",
    "        corr, _ = stats.spearmanr(x, y)\n",
    "        ax.annotate(f\"ρ = {corr:.2f}\", \n",
    "                    xy=(0.1, 0.9), xycoords='axes fraction', \n",
    "                    ha='left', va='center', fontsize=12)\n",
    "plt.savefig(\"/rhome/naotok/bigdata/Ptbp1_astrocyte/Jul24/figure/pairplot_TPM_vs_neuron_PRJNA185305.png\", bbox_inches = \"tight\", dpi = 800)"
   ]
  }
 ],
 "metadata": {
  "kernelspec": {
   "display_name": "Python 3 (ipykernel)",
   "language": "python",
   "name": "python3"
  },
  "language_info": {
   "codemirror_mode": {
    "name": "ipython",
    "version": 3
   },
   "file_extension": ".py",
   "mimetype": "text/x-python",
   "name": "python",
   "nbconvert_exporter": "python",
   "pygments_lexer": "ipython3",
   "version": "3.10.6"
  },
  "toc": {
   "base_numbering": 1,
   "nav_menu": {},
   "number_sections": true,
   "sideBar": true,
   "skip_h1_title": false,
   "title_cell": "Table of Contents",
   "title_sidebar": "Contents",
   "toc_cell": false,
   "toc_position": {},
   "toc_section_display": true,
   "toc_window_display": false
  },
  "varInspector": {
   "cols": {
    "lenName": 16,
    "lenType": 16,
    "lenVar": 40
   },
   "kernels_config": {
    "python": {
     "delete_cmd_postfix": "",
     "delete_cmd_prefix": "del ",
     "library": "var_list.py",
     "varRefreshCmd": "print(var_dic_list())"
    },
    "r": {
     "delete_cmd_postfix": ") ",
     "delete_cmd_prefix": "rm(",
     "library": "var_list.r",
     "varRefreshCmd": "cat(var_dic_list()) "
    }
   },
   "types_to_exclude": [
    "module",
    "function",
    "builtin_function_or_method",
    "instance",
    "_Feature"
   ],
   "window_display": false
  }
 },
 "nbformat": 4,
 "nbformat_minor": 5
}
