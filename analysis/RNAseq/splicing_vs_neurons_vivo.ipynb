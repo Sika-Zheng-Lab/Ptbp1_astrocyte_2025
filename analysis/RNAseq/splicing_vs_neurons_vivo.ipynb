{
 "cells": [
  {
   "cell_type": "code",
   "execution_count": 1,
   "id": "5dcf183a",
   "metadata": {
    "ExecuteTime": {
     "end_time": "2025-03-20T18:09:28.306474Z",
     "start_time": "2025-03-20T18:09:23.887509Z"
    }
   },
   "outputs": [
    {
     "name": "stderr",
     "output_type": "stream",
     "text": [
      "Matplotlib created a temporary cache directory at /scratch/naotok/13419516/matplotlib-4567uri3 because the default path (/home/jovyan/.cache/matplotlib) is not a writable directory; it is highly recommended to set the MPLCONFIGDIR environment variable to a writable directory, in particular to speed up the import of Matplotlib and to better support multiprocessing.\n"
     ]
    }
   ],
   "source": [
    "import pandas as pd\n",
    "import matplotlib\n",
    "matplotlib.rcParams[\"font.family\"] = \"Arial\"\n",
    "import matplotlib.pyplot as plt\n",
    "import seaborn as sns\n",
    "import scipy.stats as stats\n",
    "from sklearn.decomposition import PCA\n",
    "from sklearn.impute import KNNImputer"
   ]
  },
  {
   "cell_type": "markdown",
   "id": "5ab35761",
   "metadata": {},
   "source": [
    "# PCA"
   ]
  },
  {
   "cell_type": "markdown",
   "id": "dd864723",
   "metadata": {},
   "source": [
    "## Load PSI matrix"
   ]
  },
  {
   "cell_type": "code",
   "execution_count": null,
   "id": "3f2c2ee9",
   "metadata": {
    "ExecuteTime": {
     "end_time": "2025-03-20T18:09:28.503371Z",
     "start_time": "2025-03-20T18:09:28.308709Z"
    },
    "scrolled": true
   },
   "outputs": [
    {
     "data": {
      "text/html": [
       "<div>\n",
       "<style scoped>\n",
       "    .dataframe tbody tr th:only-of-type {\n",
       "        vertical-align: middle;\n",
       "    }\n",
       "\n",
       "    .dataframe tbody tr th {\n",
       "        vertical-align: top;\n",
       "    }\n",
       "\n",
       "    .dataframe thead th {\n",
       "        text-align: right;\n",
       "    }\n",
       "</style>\n",
       "<table border=\"1\" class=\"dataframe\">\n",
       "  <thead>\n",
       "    <tr style=\"text-align: right;\">\n",
       "      <th></th>\n",
       "      <th>pos_id</th>\n",
       "      <th>KO_F_1</th>\n",
       "      <th>KO_M_3</th>\n",
       "      <th>KO_M_4</th>\n",
       "      <th>WT_F_1</th>\n",
       "      <th>WT_F_2</th>\n",
       "      <th>WT_F_3</th>\n",
       "    </tr>\n",
       "  </thead>\n",
       "  <tbody>\n",
       "    <tr>\n",
       "      <th>0</th>\n",
       "      <td>SE@GL456216.1@30699-30806@16407-31059</td>\n",
       "      <td>0.941834</td>\n",
       "      <td>0.916168</td>\n",
       "      <td>0.872123</td>\n",
       "      <td>1.000000</td>\n",
       "      <td>1.000000</td>\n",
       "      <td>0.894886</td>\n",
       "    </tr>\n",
       "    <tr>\n",
       "      <th>1</th>\n",
       "      <td>SE@GL456216.1@31370-31471@31127-34138</td>\n",
       "      <td>0.668998</td>\n",
       "      <td>0.932773</td>\n",
       "      <td>0.733333</td>\n",
       "      <td>0.566787</td>\n",
       "      <td>0.926702</td>\n",
       "      <td>0.790698</td>\n",
       "    </tr>\n",
       "    <tr>\n",
       "      <th>2</th>\n",
       "      <td>SE@GL456233.1@28308-28390@24962-28976</td>\n",
       "      <td>0.144928</td>\n",
       "      <td>0.053435</td>\n",
       "      <td>0.074733</td>\n",
       "      <td>0.152318</td>\n",
       "      <td>0.047210</td>\n",
       "      <td>0.053876</td>\n",
       "    </tr>\n",
       "    <tr>\n",
       "      <th>3</th>\n",
       "      <td>SE@GL456233.1@326114-326350@285515-332450</td>\n",
       "      <td>0.845161</td>\n",
       "      <td>0.859459</td>\n",
       "      <td>0.913978</td>\n",
       "      <td>0.730104</td>\n",
       "      <td>0.793358</td>\n",
       "      <td>1.000000</td>\n",
       "    </tr>\n",
       "    <tr>\n",
       "      <th>4</th>\n",
       "      <td>SE@JH584304.1@56986-57151@55701-58564</td>\n",
       "      <td>0.884457</td>\n",
       "      <td>0.920290</td>\n",
       "      <td>0.940334</td>\n",
       "      <td>0.921260</td>\n",
       "      <td>0.939036</td>\n",
       "      <td>1.000000</td>\n",
       "    </tr>\n",
       "  </tbody>\n",
       "</table>\n",
       "</div>"
      ],
      "text/plain": [
       "                                      pos_id    KO_F_1    KO_M_3    KO_M_4  \\\n",
       "0      SE@GL456216.1@30699-30806@16407-31059  0.941834  0.916168  0.872123   \n",
       "1      SE@GL456216.1@31370-31471@31127-34138  0.668998  0.932773  0.733333   \n",
       "2      SE@GL456233.1@28308-28390@24962-28976  0.144928  0.053435  0.074733   \n",
       "3  SE@GL456233.1@326114-326350@285515-332450  0.845161  0.859459  0.913978   \n",
       "4      SE@JH584304.1@56986-57151@55701-58564  0.884457  0.920290  0.940334   \n",
       "\n",
       "     WT_F_1    WT_F_2    WT_F_3  \n",
       "0  1.000000  1.000000  0.894886  \n",
       "1  0.566787  0.926702  0.790698  \n",
       "2  0.152318  0.047210  0.053876  \n",
       "3  0.730104  0.793358  1.000000  \n",
       "4  0.921260  0.939036  1.000000  "
      ]
     },
     "execution_count": 2,
     "metadata": {},
     "output_type": "execute_result"
    }
   ],
   "source": [
    "# Jul24\n",
    "psi_matrix_df = pd.read_csv(\"/rhome/naotok/bigdata/Ptbp1_astrocyte/Jul24/Shiba/results/splicing/PSI_matrix_sample.txt\", sep = \"\\t\")\n",
    "psi_matrix_df = psi_matrix_df.drop(columns = [\"event_id\"])\n",
    "psi_matrix_df.head()"
   ]
  },
  {
   "cell_type": "code",
   "execution_count": 3,
   "id": "5e3fff21",
   "metadata": {
    "ExecuteTime": {
     "end_time": "2025-03-20T18:09:28.765558Z",
     "start_time": "2025-03-20T18:09:28.504916Z"
    },
    "scrolled": true
   },
   "outputs": [
    {
     "data": {
      "text/html": [
       "<div>\n",
       "<style scoped>\n",
       "    .dataframe tbody tr th:only-of-type {\n",
       "        vertical-align: middle;\n",
       "    }\n",
       "\n",
       "    .dataframe tbody tr th {\n",
       "        vertical-align: top;\n",
       "    }\n",
       "\n",
       "    .dataframe thead th {\n",
       "        text-align: right;\n",
       "    }\n",
       "</style>\n",
       "<table border=\"1\" class=\"dataframe\">\n",
       "  <thead>\n",
       "    <tr style=\"text-align: right;\">\n",
       "      <th></th>\n",
       "      <th>pos_id</th>\n",
       "      <th>E10_1</th>\n",
       "      <th>E10_2</th>\n",
       "      <th>E11_1</th>\n",
       "      <th>E11_2</th>\n",
       "      <th>E12_1</th>\n",
       "      <th>E12_2</th>\n",
       "      <th>E13_1</th>\n",
       "      <th>E13_2</th>\n",
       "      <th>E14_1</th>\n",
       "      <th>E14_2</th>\n",
       "      <th>E15_1</th>\n",
       "      <th>E15_2</th>\n",
       "      <th>E16_1</th>\n",
       "      <th>E16_2</th>\n",
       "      <th>P0_1</th>\n",
       "      <th>P0_2</th>\n",
       "    </tr>\n",
       "  </thead>\n",
       "  <tbody>\n",
       "    <tr>\n",
       "      <th>0</th>\n",
       "      <td>SE@GL456216.1@30699-30792@16407-31059</td>\n",
       "      <td>0.777778</td>\n",
       "      <td>0.853659</td>\n",
       "      <td>0.925926</td>\n",
       "      <td>0.806452</td>\n",
       "      <td>0.815789</td>\n",
       "      <td>0.780822</td>\n",
       "      <td>0.823529</td>\n",
       "      <td>0.743590</td>\n",
       "      <td>0.733333</td>\n",
       "      <td>0.769231</td>\n",
       "      <td>0.650000</td>\n",
       "      <td>NaN</td>\n",
       "      <td>NaN</td>\n",
       "      <td>NaN</td>\n",
       "      <td>NaN</td>\n",
       "      <td>0.391304</td>\n",
       "    </tr>\n",
       "    <tr>\n",
       "      <th>1</th>\n",
       "      <td>SE@GL456216.1@30699-30806@16407-31059</td>\n",
       "      <td>0.863014</td>\n",
       "      <td>0.907692</td>\n",
       "      <td>0.948718</td>\n",
       "      <td>0.900000</td>\n",
       "      <td>0.886179</td>\n",
       "      <td>0.862069</td>\n",
       "      <td>0.884615</td>\n",
       "      <td>0.836066</td>\n",
       "      <td>0.804878</td>\n",
       "      <td>0.806452</td>\n",
       "      <td>0.815789</td>\n",
       "      <td>0.842105</td>\n",
       "      <td>0.857143</td>\n",
       "      <td>0.833333</td>\n",
       "      <td>0.694915</td>\n",
       "      <td>0.575758</td>\n",
       "    </tr>\n",
       "    <tr>\n",
       "      <th>2</th>\n",
       "      <td>SE@JH584304.1@54721-54867@54479-55112</td>\n",
       "      <td>1.000000</td>\n",
       "      <td>1.000000</td>\n",
       "      <td>1.000000</td>\n",
       "      <td>1.000000</td>\n",
       "      <td>1.000000</td>\n",
       "      <td>1.000000</td>\n",
       "      <td>1.000000</td>\n",
       "      <td>1.000000</td>\n",
       "      <td>1.000000</td>\n",
       "      <td>0.977011</td>\n",
       "      <td>1.000000</td>\n",
       "      <td>1.000000</td>\n",
       "      <td>1.000000</td>\n",
       "      <td>1.000000</td>\n",
       "      <td>0.989848</td>\n",
       "      <td>0.990385</td>\n",
       "    </tr>\n",
       "    <tr>\n",
       "      <th>3</th>\n",
       "      <td>SE@JH584304.1@56986-57151@55701-58564</td>\n",
       "      <td>0.936508</td>\n",
       "      <td>0.947826</td>\n",
       "      <td>0.920635</td>\n",
       "      <td>0.933333</td>\n",
       "      <td>0.956113</td>\n",
       "      <td>0.945111</td>\n",
       "      <td>0.969957</td>\n",
       "      <td>0.942740</td>\n",
       "      <td>0.712707</td>\n",
       "      <td>0.678322</td>\n",
       "      <td>0.940762</td>\n",
       "      <td>0.917808</td>\n",
       "      <td>0.942857</td>\n",
       "      <td>0.920319</td>\n",
       "      <td>0.840000</td>\n",
       "      <td>0.788698</td>\n",
       "    </tr>\n",
       "    <tr>\n",
       "      <th>4</th>\n",
       "      <td>SE@JH584304.1@58564-58835@55701-59592</td>\n",
       "      <td>1.000000</td>\n",
       "      <td>1.000000</td>\n",
       "      <td>0.984615</td>\n",
       "      <td>0.971831</td>\n",
       "      <td>0.986842</td>\n",
       "      <td>0.981603</td>\n",
       "      <td>0.981004</td>\n",
       "      <td>0.997516</td>\n",
       "      <td>0.980296</td>\n",
       "      <td>0.920000</td>\n",
       "      <td>0.972678</td>\n",
       "      <td>0.983815</td>\n",
       "      <td>0.985612</td>\n",
       "      <td>0.981718</td>\n",
       "      <td>0.959664</td>\n",
       "      <td>0.987854</td>\n",
       "    </tr>\n",
       "    <tr>\n",
       "      <th>...</th>\n",
       "      <td>...</td>\n",
       "      <td>...</td>\n",
       "      <td>...</td>\n",
       "      <td>...</td>\n",
       "      <td>...</td>\n",
       "      <td>...</td>\n",
       "      <td>...</td>\n",
       "      <td>...</td>\n",
       "      <td>...</td>\n",
       "      <td>...</td>\n",
       "      <td>...</td>\n",
       "      <td>...</td>\n",
       "      <td>...</td>\n",
       "      <td>...</td>\n",
       "      <td>...</td>\n",
       "      <td>...</td>\n",
       "      <td>...</td>\n",
       "    </tr>\n",
       "    <tr>\n",
       "      <th>81243</th>\n",
       "      <td>ALE@chrX@94253126-94272648@94253126-94272356</td>\n",
       "      <td>NaN</td>\n",
       "      <td>NaN</td>\n",
       "      <td>NaN</td>\n",
       "      <td>NaN</td>\n",
       "      <td>NaN</td>\n",
       "      <td>NaN</td>\n",
       "      <td>NaN</td>\n",
       "      <td>NaN</td>\n",
       "      <td>NaN</td>\n",
       "      <td>NaN</td>\n",
       "      <td>NaN</td>\n",
       "      <td>NaN</td>\n",
       "      <td>NaN</td>\n",
       "      <td>NaN</td>\n",
       "      <td>NaN</td>\n",
       "      <td>NaN</td>\n",
       "    </tr>\n",
       "    <tr>\n",
       "      <th>81244</th>\n",
       "      <td>ALE@chrX@95049346-95058817@95055011-95058817</td>\n",
       "      <td>0.000000</td>\n",
       "      <td>0.000000</td>\n",
       "      <td>NaN</td>\n",
       "      <td>0.000000</td>\n",
       "      <td>0.000000</td>\n",
       "      <td>0.000000</td>\n",
       "      <td>0.000000</td>\n",
       "      <td>0.000000</td>\n",
       "      <td>0.000000</td>\n",
       "      <td>0.000000</td>\n",
       "      <td>0.000000</td>\n",
       "      <td>0.000000</td>\n",
       "      <td>0.000000</td>\n",
       "      <td>0.000000</td>\n",
       "      <td>0.000000</td>\n",
       "      <td>0.000000</td>\n",
       "    </tr>\n",
       "    <tr>\n",
       "      <th>81245</th>\n",
       "      <td>ALE@chrX@98803180-98890082@98874022-98890082</td>\n",
       "      <td>1.000000</td>\n",
       "      <td>1.000000</td>\n",
       "      <td>1.000000</td>\n",
       "      <td>1.000000</td>\n",
       "      <td>1.000000</td>\n",
       "      <td>1.000000</td>\n",
       "      <td>0.964912</td>\n",
       "      <td>1.000000</td>\n",
       "      <td>1.000000</td>\n",
       "      <td>1.000000</td>\n",
       "      <td>1.000000</td>\n",
       "      <td>1.000000</td>\n",
       "      <td>1.000000</td>\n",
       "      <td>1.000000</td>\n",
       "      <td>1.000000</td>\n",
       "      <td>1.000000</td>\n",
       "    </tr>\n",
       "    <tr>\n",
       "      <th>81246</th>\n",
       "      <td>ALE@chrX@99468314-99470617@99468600-99470617</td>\n",
       "      <td>0.922857</td>\n",
       "      <td>0.940984</td>\n",
       "      <td>0.955947</td>\n",
       "      <td>0.955631</td>\n",
       "      <td>0.949495</td>\n",
       "      <td>0.963158</td>\n",
       "      <td>0.963801</td>\n",
       "      <td>0.970414</td>\n",
       "      <td>0.970588</td>\n",
       "      <td>0.970387</td>\n",
       "      <td>0.971714</td>\n",
       "      <td>0.967603</td>\n",
       "      <td>0.982262</td>\n",
       "      <td>0.967568</td>\n",
       "      <td>0.915000</td>\n",
       "      <td>0.905473</td>\n",
       "    </tr>\n",
       "    <tr>\n",
       "      <th>81247</th>\n",
       "      <td>ALE@chrY@1158634-1168090@1161230-1168090</td>\n",
       "      <td>0.861111</td>\n",
       "      <td>1.000000</td>\n",
       "      <td>NaN</td>\n",
       "      <td>0.857143</td>\n",
       "      <td>0.952381</td>\n",
       "      <td>0.941176</td>\n",
       "      <td>0.909091</td>\n",
       "      <td>0.833333</td>\n",
       "      <td>0.900000</td>\n",
       "      <td>0.954545</td>\n",
       "      <td>NaN</td>\n",
       "      <td>NaN</td>\n",
       "      <td>NaN</td>\n",
       "      <td>NaN</td>\n",
       "      <td>0.937500</td>\n",
       "      <td>NaN</td>\n",
       "    </tr>\n",
       "  </tbody>\n",
       "</table>\n",
       "<p>81248 rows × 17 columns</p>\n",
       "</div>"
      ],
      "text/plain": [
       "                                             pos_id     E10_1     E10_2  \\\n",
       "0             SE@GL456216.1@30699-30792@16407-31059  0.777778  0.853659   \n",
       "1             SE@GL456216.1@30699-30806@16407-31059  0.863014  0.907692   \n",
       "2             SE@JH584304.1@54721-54867@54479-55112  1.000000  1.000000   \n",
       "3             SE@JH584304.1@56986-57151@55701-58564  0.936508  0.947826   \n",
       "4             SE@JH584304.1@58564-58835@55701-59592  1.000000  1.000000   \n",
       "...                                             ...       ...       ...   \n",
       "81243  ALE@chrX@94253126-94272648@94253126-94272356       NaN       NaN   \n",
       "81244  ALE@chrX@95049346-95058817@95055011-95058817  0.000000  0.000000   \n",
       "81245  ALE@chrX@98803180-98890082@98874022-98890082  1.000000  1.000000   \n",
       "81246  ALE@chrX@99468314-99470617@99468600-99470617  0.922857  0.940984   \n",
       "81247      ALE@chrY@1158634-1168090@1161230-1168090  0.861111  1.000000   \n",
       "\n",
       "          E11_1     E11_2     E12_1     E12_2     E13_1     E13_2     E14_1  \\\n",
       "0      0.925926  0.806452  0.815789  0.780822  0.823529  0.743590  0.733333   \n",
       "1      0.948718  0.900000  0.886179  0.862069  0.884615  0.836066  0.804878   \n",
       "2      1.000000  1.000000  1.000000  1.000000  1.000000  1.000000  1.000000   \n",
       "3      0.920635  0.933333  0.956113  0.945111  0.969957  0.942740  0.712707   \n",
       "4      0.984615  0.971831  0.986842  0.981603  0.981004  0.997516  0.980296   \n",
       "...         ...       ...       ...       ...       ...       ...       ...   \n",
       "81243       NaN       NaN       NaN       NaN       NaN       NaN       NaN   \n",
       "81244       NaN  0.000000  0.000000  0.000000  0.000000  0.000000  0.000000   \n",
       "81245  1.000000  1.000000  1.000000  1.000000  0.964912  1.000000  1.000000   \n",
       "81246  0.955947  0.955631  0.949495  0.963158  0.963801  0.970414  0.970588   \n",
       "81247       NaN  0.857143  0.952381  0.941176  0.909091  0.833333  0.900000   \n",
       "\n",
       "          E14_2     E15_1     E15_2     E16_1     E16_2      P0_1      P0_2  \n",
       "0      0.769231  0.650000       NaN       NaN       NaN       NaN  0.391304  \n",
       "1      0.806452  0.815789  0.842105  0.857143  0.833333  0.694915  0.575758  \n",
       "2      0.977011  1.000000  1.000000  1.000000  1.000000  0.989848  0.990385  \n",
       "3      0.678322  0.940762  0.917808  0.942857  0.920319  0.840000  0.788698  \n",
       "4      0.920000  0.972678  0.983815  0.985612  0.981718  0.959664  0.987854  \n",
       "...         ...       ...       ...       ...       ...       ...       ...  \n",
       "81243       NaN       NaN       NaN       NaN       NaN       NaN       NaN  \n",
       "81244  0.000000  0.000000  0.000000  0.000000  0.000000  0.000000  0.000000  \n",
       "81245  1.000000  1.000000  1.000000  1.000000  1.000000  1.000000  1.000000  \n",
       "81246  0.970387  0.971714  0.967603  0.982262  0.967568  0.915000  0.905473  \n",
       "81247  0.954545       NaN       NaN       NaN       NaN  0.937500       NaN  \n",
       "\n",
       "[81248 rows x 17 columns]"
      ]
     },
     "execution_count": 3,
     "metadata": {},
     "output_type": "execute_result"
    }
   ],
   "source": [
    "# Mouse neuronal development (ENCODE)\n",
    "psi_matrix_neuron_df = pd.read_csv(\"/rhome/naotok/bigdata/NeuronalMaturationSplicing/splicing/ENCODE_Mouse_Forebrain/Shiba/results/splicing/PSI_matrix_sample.txt\", sep = \"\\t\")\n",
    "psi_matrix_neuron_df = psi_matrix_neuron_df.drop(columns = [\"event_id\"])\n",
    "# group\n",
    "group_df = pd.read_csv(\"/rhome/naotok/NeuronalMaturationSplicing/scripts/splicing/experiment_ENCODE_Mouse_Forebrain.txt\", sep = \"\\t\", usecols = [\"sample\", \"group\"])\n",
    "group_dict = {k: v for k, v in zip(group_df[\"sample\"], group_df[\"group\"])}\n",
    "# psi_matrix_neuron_df.columns = [group_dict[x] + \"_\" + x if x != \"pos_id\" else x for x in psi_matrix_neuron_df.columns]\n",
    "psi_matrix_neuron_df"
   ]
  },
  {
   "cell_type": "markdown",
   "id": "984beac3",
   "metadata": {},
   "source": [
    "## Merge"
   ]
  },
  {
   "cell_type": "code",
   "execution_count": null,
   "id": "3d9a61cb",
   "metadata": {
    "ExecuteTime": {
     "end_time": "2025-03-20T18:09:28.821735Z",
     "start_time": "2025-03-20T18:09:28.768280Z"
    }
   },
   "outputs": [],
   "source": [
    "psi_matrix_merge_df = pd.merge(psi_matrix_df, psi_matrix_neuron_df, on = \"pos_id\")\n",
    "psi_matrix_merge_df = psi_matrix_merge_df.set_index(\"pos_id\")"
   ]
  },
  {
   "cell_type": "code",
   "execution_count": 5,
   "id": "2be90554",
   "metadata": {
    "ExecuteTime": {
     "end_time": "2025-03-20T18:09:28.829264Z",
     "start_time": "2025-03-20T18:09:28.823785Z"
    }
   },
   "outputs": [],
   "source": [
    "def mtx2pca(df, genes) -> pd.DataFrame:\n",
    "    '''\n",
    "    Perform PCA on the input dataframe\n",
    "\n",
    "    Args:\n",
    "    - df (pd.DataFrame): input dataframe\n",
    "    - genes (int): number of highly-variable genes to calculate PCs\n",
    "\n",
    "    Returns:\n",
    "    - feature_df (pd.DataFrame): dataframe containing principal components\n",
    "    - contribution_df (pd.DataFrame): dataframe containing the contribution of each principal component\n",
    "    '''\n",
    "    df = df.dropna()\n",
    "    # Keep rows of top n highly-variable genes\n",
    "    if df.shape[0] > genes:\n",
    "        df = df.loc[df.var(axis=1).sort_values(ascending=False).index[:genes]]\n",
    "    # Z-score normalization across samples\n",
    "    normalized_df = df.T.apply(stats.zscore, ddof = 1)\n",
    "    # PCA\n",
    "    pca = PCA()\n",
    "    pca.fit(normalized_df)\n",
    "    # Feature\n",
    "    feature = pca.transform(normalized_df)\n",
    "    feature_df = pd.DataFrame(feature, columns=[\"PC{}\".format(x + 1) for x in range(len(feature))])\n",
    "    feature_df.index = df.columns\n",
    "    # Contribution\n",
    "    contribution_df = pd.DataFrame(pca.explained_variance_ratio_, index=[\"PC{}\".format(x + 1) for x in range(len(feature))])\n",
    "    return(feature_df, contribution_df)"
   ]
  },
  {
   "cell_type": "code",
   "execution_count": 6,
   "id": "ae698256",
   "metadata": {
    "ExecuteTime": {
     "end_time": "2025-03-20T18:09:30.711555Z",
     "start_time": "2025-03-20T18:09:28.830825Z"
    }
   },
   "outputs": [],
   "source": [
    "feature_df, contribution_df = mtx2pca(psi_matrix_merge_df, 3000)\n",
    "PC1_contribution = (contribution_df[0][0]*100).round(2)\n",
    "PC2_contribution = (contribution_df[0][1]*100).round(2)\n",
    "pca_df = feature_df.copy()\n",
    "pca_df[\"group\"] = pca_df.index.map(lambda x: x.split(\"_\")[0])\n",
    "pca_df[\"group\"] = pca_df[\"group\"].map(lambda x: x if x != \"KO\" else \"Ptbp1 cKO\").map(lambda x: \"Control\" if x == \"WT\" else x)"
   ]
  },
  {
   "cell_type": "markdown",
   "id": "38b14c90",
   "metadata": {},
   "source": [
    "## Plot"
   ]
  },
  {
   "cell_type": "code",
   "execution_count": 7,
   "id": "94e5cc41",
   "metadata": {
    "ExecuteTime": {
     "end_time": "2025-03-20T18:09:30.733681Z",
     "start_time": "2025-03-20T18:09:30.718430Z"
    },
    "scrolled": false
   },
   "outputs": [
    {
     "data": {
      "text/plain": [
       "{'E10': '#482475',\n",
       " 'E11': '#414487',\n",
       " 'E12': '#355f8d',\n",
       " 'E13': '#2a788e',\n",
       " 'E14': '#21918c',\n",
       " 'E15': '#22a884',\n",
       " 'E16': '#44bf70',\n",
       " 'P0': '#7ad151',\n",
       " 'Control': 'black',\n",
       " 'Ptbp1 cKO': 'red'}"
      ]
     },
     "execution_count": 7,
     "metadata": {},
     "output_type": "execute_result"
    }
   ],
   "source": [
    "color_palette_dict = {}\n",
    "viridis = sns.color_palette(\"viridis\", n_colors = 9).as_hex()\n",
    "Set2 = sns.color_palette(\"Set2\").as_hex()\n",
    "i = 0\n",
    "for group in [\"E10\", \"E11\", \"E12\", \"E13\", \"E14\", \"E15\", \"E16\", \"P0\"]:\n",
    "    color_palette_dict[group] = viridis[i]\n",
    "    i+=1\n",
    "color_palette_dict[\"Control\"] = \"black\"\n",
    "color_palette_dict[\"Ptbp1 cKO\"] = \"red\"\n",
    "color_palette_dict"
   ]
  },
  {
   "cell_type": "code",
   "execution_count": null,
   "id": "c4fec5d3",
   "metadata": {
    "ExecuteTime": {
     "end_time": "2025-03-20T18:09:32.527058Z",
     "start_time": "2025-03-20T18:09:30.739364Z"
    }
   },
   "outputs": [
    {
     "name": "stderr",
     "output_type": "stream",
     "text": [
      "/opt/conda/lib/python3.10/site-packages/seaborn/axisgrid.py:118: UserWarning: The figure layout has changed to tight\n",
      "  self._figure.tight_layout(*args, **kwargs)\n"
     ]
    },
    {
     "data": {
      "image/png": "[encoded data removed]",
      "text/plain": [
       "<Figure size 467x350 with 1 Axes>"
      ]
     },
     "metadata": {},
     "output_type": "display_data"
    }
   ],
   "source": [
    "g = sns.relplot(\n",
    "    data = pca_df,\n",
    "    x = \"PC1\",\n",
    "    y = \"PC2\",\n",
    "    hue = \"group\",\n",
    "    hue_order = [\"Control\", \"Ptbp1 cKO\"] + [\"E10\", \"E11\", \"E12\", \"E13\", \"E14\", \"E15\", \"E16\", \"P0\"],\n",
    "    s = 100,\n",
    "    edgecolor = \"black\",\n",
    "    height = 3.5,\n",
    "    aspect = 1,\n",
    "    palette = color_palette_dict\n",
    ")\n",
    "g.set_xlabels(f\"PC1 ({PC1_contribution}%)\")\n",
    "g.set_ylabels(f\"PC2 ({PC2_contribution}%)\")\n",
    "g._legend.set_title(\"\")\n",
    "plt.savefig(\"/rhome/naotok/bigdata/Ptbp1_astrocyte/Jul24/figure/PCA_vs_neuron_ENCODE.png\", bbox_inches = \"tight\", dpi = 1000)"
   ]
  },
  {
   "cell_type": "markdown",
   "id": "95ba2b81",
   "metadata": {},
   "source": [
    "\n",
    "# Correlation of PSI"
   ]
  },
  {
   "cell_type": "code",
   "execution_count": null,
   "id": "c65dfc0b",
   "metadata": {
    "ExecuteTime": {
     "end_time": "2025-03-20T18:09:32.532903Z",
     "start_time": "2025-03-20T18:09:32.529656Z"
    }
   },
   "outputs": [],
   "source": [
    "DSE_path_dict = {\n",
    "    \"astrocyte\": \"/rhome/naotok/bigdata/Ptbp1_astrocyte/Jul24/Shiba/results/splicing\",\n",
    "    \"neuron\": \"/rhome/naotok/bigdata/NeuronalMaturationSplicing/splicing/ENCODE_Mouse_Forebrain/Shiba/results/splicing\"\n",
    "}"
   ]
  },
  {
   "cell_type": "code",
   "execution_count": 10,
   "id": "7ffa0149",
   "metadata": {
    "ExecuteTime": {
     "end_time": "2025-03-20T18:09:33.507573Z",
     "start_time": "2025-03-20T18:09:32.535543Z"
    }
   },
   "outputs": [],
   "source": [
    "DSE_set = set()\n",
    "events_Shiba = [\"SE\", \"FIVE\", \"THREE\", \"MXE\", \"RI\", \"MSE\", \"AFE\", \"ALE\"]\n",
    "for path in DSE_path_dict:\n",
    "    for event in events_Shiba:\n",
    "        tmp_df = pd.read_csv(DSE_path_dict[path] + \"/PSI_\" + event + \".txt\", sep = \"\\t\")\n",
    "        DSE_set = DSE_set | set(tmp_df[(tmp_df[\"Diff events\"] == \"Yes\") & (tmp_df[\"p_ttest\"] < 0.05)][\"pos_id\"])"
   ]
  },
  {
   "cell_type": "code",
   "execution_count": 11,
   "id": "bf0900e6",
   "metadata": {
    "ExecuteTime": {
     "end_time": "2025-03-20T18:09:33.512232Z",
     "start_time": "2025-03-20T18:09:33.509078Z"
    }
   },
   "outputs": [
    {
     "data": {
      "text/plain": [
       "2643"
      ]
     },
     "execution_count": 11,
     "metadata": {},
     "output_type": "execute_result"
    }
   ],
   "source": [
    "len(DSE_set)"
   ]
  },
  {
   "cell_type": "code",
   "execution_count": 12,
   "id": "9212f6c0",
   "metadata": {
    "ExecuteTime": {
     "end_time": "2025-03-20T18:09:33.668017Z",
     "start_time": "2025-03-20T18:09:33.513988Z"
    }
   },
   "outputs": [
    {
     "name": "stderr",
     "output_type": "stream",
     "text": [
      "/scratch/naotok/13419516/ipykernel_2417092/903782386.py:4: FutureWarning: The default value of numeric_only in DataFrameGroupBy.mean is deprecated. In a future version, numeric_only will default to False. Either specify numeric_only or select only columns which should be valid for the function.\n",
      "  psi_matrix_merge_melt_df = psi_matrix_merge_melt_df.groupby([\"pos_id\", \"group\"], as_index = False).mean()\n"
     ]
    },
    {
     "data": {
      "text/html": [
       "<div>\n",
       "<style scoped>\n",
       "    .dataframe tbody tr th:only-of-type {\n",
       "        vertical-align: middle;\n",
       "    }\n",
       "\n",
       "    .dataframe tbody tr th {\n",
       "        vertical-align: top;\n",
       "    }\n",
       "\n",
       "    .dataframe thead th {\n",
       "        text-align: right;\n",
       "    }\n",
       "</style>\n",
       "<table border=\"1\" class=\"dataframe\">\n",
       "  <thead>\n",
       "    <tr style=\"text-align: right;\">\n",
       "      <th>group</th>\n",
       "      <th>Control</th>\n",
       "      <th>Ptbp1 cKO</th>\n",
       "      <th>E10</th>\n",
       "      <th>P0</th>\n",
       "    </tr>\n",
       "    <tr>\n",
       "      <th>pos_id</th>\n",
       "      <th></th>\n",
       "      <th></th>\n",
       "      <th></th>\n",
       "      <th></th>\n",
       "    </tr>\n",
       "  </thead>\n",
       "  <tbody>\n",
       "    <tr>\n",
       "      <th>AFE@chr10@127063759-127064585@127064453-127064585</th>\n",
       "      <td>10.338522</td>\n",
       "      <td>9.327526</td>\n",
       "      <td>1.630153</td>\n",
       "      <td>17.597980</td>\n",
       "    </tr>\n",
       "    <tr>\n",
       "      <th>AFE@chr10@13291962-13388695@13291962-13324064</th>\n",
       "      <td>0.000000</td>\n",
       "      <td>4.687500</td>\n",
       "      <td>2.380952</td>\n",
       "      <td>50.000000</td>\n",
       "    </tr>\n",
       "    <tr>\n",
       "      <th>AFE@chr10@26352375-26375911@26352375-26373701</th>\n",
       "      <td>3.571429</td>\n",
       "      <td>39.351852</td>\n",
       "      <td>76.470588</td>\n",
       "      <td>89.204545</td>\n",
       "    </tr>\n",
       "    <tr>\n",
       "      <th>AFE@chr10@26352375-26375911@26352375-26375110</th>\n",
       "      <td>8.333333</td>\n",
       "      <td>93.750000</td>\n",
       "      <td>76.470588</td>\n",
       "      <td>83.750000</td>\n",
       "    </tr>\n",
       "    <tr>\n",
       "      <th>AFE@chr10@29313297-29317507@29313733-29317507</th>\n",
       "      <td>41.325613</td>\n",
       "      <td>45.549290</td>\n",
       "      <td>9.555556</td>\n",
       "      <td>49.780220</td>\n",
       "    </tr>\n",
       "  </tbody>\n",
       "</table>\n",
       "</div>"
      ],
      "text/plain": [
       "group                                                Control  Ptbp1 cKO  \\\n",
       "pos_id                                                                    \n",
       "AFE@chr10@127063759-127064585@127064453-127064585  10.338522   9.327526   \n",
       "AFE@chr10@13291962-13388695@13291962-13324064       0.000000   4.687500   \n",
       "AFE@chr10@26352375-26375911@26352375-26373701       3.571429  39.351852   \n",
       "AFE@chr10@26352375-26375911@26352375-26375110       8.333333  93.750000   \n",
       "AFE@chr10@29313297-29317507@29313733-29317507      41.325613  45.549290   \n",
       "\n",
       "group                                                    E10         P0  \n",
       "pos_id                                                                   \n",
       "AFE@chr10@127063759-127064585@127064453-127064585   1.630153  17.597980  \n",
       "AFE@chr10@13291962-13388695@13291962-13324064       2.380952  50.000000  \n",
       "AFE@chr10@26352375-26375911@26352375-26373701      76.470588  89.204545  \n",
       "AFE@chr10@26352375-26375911@26352375-26375110      76.470588  83.750000  \n",
       "AFE@chr10@29313297-29317507@29313733-29317507       9.555556  49.780220  "
      ]
     },
     "execution_count": 12,
     "metadata": {},
     "output_type": "execute_result"
    }
   ],
   "source": [
    "psi_matrix_merge_melt_df = psi_matrix_merge_df.reset_index().melt(id_vars = \"pos_id\", var_name = \"sample\", value_name = \"PSI\")\n",
    "psi_matrix_merge_melt_df = psi_matrix_merge_melt_df[psi_matrix_merge_melt_df[\"pos_id\"].isin(DSE_set)]\n",
    "psi_matrix_merge_melt_df[\"group\"] = psi_matrix_merge_melt_df[\"sample\"].map(lambda x: x.split(\"_\")[0])\n",
    "psi_matrix_merge_melt_df = psi_matrix_merge_melt_df.groupby([\"pos_id\", \"group\"], as_index = False).mean()\n",
    "psi_matrix_mean_df = psi_matrix_merge_melt_df.pivot(index = \"pos_id\", columns = \"group\", values = \"PSI\")\n",
    "psi_matrix_mean_df = psi_matrix_mean_df.rename(columns = {\"WT\": \"Control\", \"KO\": \"Ptbp1 cKO\"})\n",
    "psi_matrix_mean_df = psi_matrix_mean_df[[\"Control\", \"Ptbp1 cKO\", \"E10\", \"P0\"]]\n",
    "psi_matrix_mean_df = psi_matrix_mean_df*100\n",
    "psi_matrix_mean_df = psi_matrix_mean_df.dropna()\n",
    "psi_matrix_mean_df.head()"
   ]
  },
  {
   "cell_type": "code",
   "execution_count": 13,
   "id": "08a8d83a",
   "metadata": {
    "ExecuteTime": {
     "end_time": "2025-03-20T18:09:33.677258Z",
     "start_time": "2025-03-20T18:09:33.669525Z"
    }
   },
   "outputs": [
    {
     "data": {
      "text/html": [
       "<div>\n",
       "<style scoped>\n",
       "    .dataframe tbody tr th:only-of-type {\n",
       "        vertical-align: middle;\n",
       "    }\n",
       "\n",
       "    .dataframe tbody tr th {\n",
       "        vertical-align: top;\n",
       "    }\n",
       "\n",
       "    .dataframe thead th {\n",
       "        text-align: right;\n",
       "    }\n",
       "</style>\n",
       "<table border=\"1\" class=\"dataframe\">\n",
       "  <thead>\n",
       "    <tr style=\"text-align: right;\">\n",
       "      <th>group</th>\n",
       "      <th>Control</th>\n",
       "      <th>Ptbp1 cKO</th>\n",
       "      <th>E10</th>\n",
       "      <th>P0</th>\n",
       "    </tr>\n",
       "    <tr>\n",
       "      <th>group</th>\n",
       "      <th></th>\n",
       "      <th></th>\n",
       "      <th></th>\n",
       "      <th></th>\n",
       "    </tr>\n",
       "  </thead>\n",
       "  <tbody>\n",
       "    <tr>\n",
       "      <th>Control</th>\n",
       "      <td>1.000000</td>\n",
       "      <td>0.891448</td>\n",
       "      <td>0.752573</td>\n",
       "      <td>0.345293</td>\n",
       "    </tr>\n",
       "    <tr>\n",
       "      <th>Ptbp1 cKO</th>\n",
       "      <td>0.891448</td>\n",
       "      <td>1.000000</td>\n",
       "      <td>0.761137</td>\n",
       "      <td>0.331589</td>\n",
       "    </tr>\n",
       "    <tr>\n",
       "      <th>E10</th>\n",
       "      <td>0.752573</td>\n",
       "      <td>0.761137</td>\n",
       "      <td>1.000000</td>\n",
       "      <td>0.204704</td>\n",
       "    </tr>\n",
       "    <tr>\n",
       "      <th>P0</th>\n",
       "      <td>0.345293</td>\n",
       "      <td>0.331589</td>\n",
       "      <td>0.204704</td>\n",
       "      <td>1.000000</td>\n",
       "    </tr>\n",
       "  </tbody>\n",
       "</table>\n",
       "</div>"
      ],
      "text/plain": [
       "group       Control  Ptbp1 cKO       E10        P0\n",
       "group                                             \n",
       "Control    1.000000   0.891448  0.752573  0.345293\n",
       "Ptbp1 cKO  0.891448   1.000000  0.761137  0.331589\n",
       "E10        0.752573   0.761137  1.000000  0.204704\n",
       "P0         0.345293   0.331589  0.204704  1.000000"
      ]
     },
     "execution_count": 13,
     "metadata": {},
     "output_type": "execute_result"
    }
   ],
   "source": [
    "psi_matrix_mean_df.corr(method = \"spearman\")"
   ]
  },
  {
   "cell_type": "code",
   "execution_count": null,
   "id": "2944ebb3",
   "metadata": {
    "ExecuteTime": {
     "end_time": "2025-03-20T18:09:38.140765Z",
     "start_time": "2025-03-20T18:09:33.678825Z"
    }
   },
   "outputs": [
    {
     "name": "stderr",
     "output_type": "stream",
     "text": [
      "/opt/conda/lib/python3.10/site-packages/seaborn/axisgrid.py:118: UserWarning: The figure layout has changed to tight\n",
      "  self._figure.tight_layout(*args, **kwargs)\n"
     ]
    },
    {
     "data": {
      "image/png": "[encoded data removed]",
      "text/plain": [
       "<Figure size 440x400 with 14 Axes>"
      ]
     },
     "metadata": {},
     "output_type": "display_data"
    }
   ],
   "source": [
    "g = sns.pairplot(\n",
    "    data = psi_matrix_mean_df,\n",
    "    kind = \"reg\",\n",
    "    corner = True,\n",
    "    plot_kws = {\n",
    "        \"scatter_kws\": {\"alpha\": 0.3, \"s\": 0.05, \"color\": \"#8c96c6\"},\n",
    "        \"line_kws\": {\"color\": \"#8c96c6\"}\n",
    "    },\n",
    "    diag_kws = {\"color\": \"#8c96c6\"},\n",
    "    height = 1, aspect = 1.1\n",
    ")\n",
    "# Calculate and add Spearman's correlation coefficients in the same plot space\n",
    "for i in range(len(g.axes)):\n",
    "    for j in range(i):\n",
    "        ax = g.axes[i, j]\n",
    "        x = psi_matrix_mean_df.iloc[:, j]\n",
    "        y = psi_matrix_mean_df.iloc[:, i]\n",
    "        corr, _ = stats.spearmanr(x, y)\n",
    "        ax.annotate(f\"ρ = {corr:.2f}\", \n",
    "                    xy=(0.1, 0.9), xycoords='axes fraction', \n",
    "                    ha='left', va='center', fontsize=12)\n",
    "plt.savefig(\"/rhome/naotok/bigdata/Ptbp1_astrocyte/Jul24/figure/pairplot_vs_neuron_ENCODE.png\", bbox_inches = \"tight\", dpi = 1000)"
   ]
  },
  {
   "cell_type": "markdown",
   "id": "c613aba5",
   "metadata": {},
   "source": [
    "# dPSI of DSE in astrocyte vs. brain development"
   ]
  },
  {
   "cell_type": "code",
   "execution_count": null,
   "id": "dd4296ef",
   "metadata": {
    "ExecuteTime": {
     "end_time": "2025-03-20T18:09:38.671231Z",
     "start_time": "2025-03-20T18:09:38.143666Z"
    }
   },
   "outputs": [],
   "source": [
    "events_Shiba = [\"SE\", \"FIVE\", \"THREE\", \"MXE\", \"RI\", \"MSE\", \"AFE\", \"ALE\"]\n",
    "Shiba_astrocyte_df = pd.DataFrame()\n",
    "DSE_astrocyte_set = set()\n",
    "for event in events_Shiba:\n",
    "    tmp_df = pd.read_csv(\"/rhome/naotok/bigdata/Ptbp1_astrocyte/Jul24/Shiba/results/splicing/PSI_\" + event + \".txt\", sep = \"\\t\")\n",
    "    tmp_diff = set(tmp_df[(tmp_df[\"Diff events\"] == \"Yes\") & (tmp_df[\"p_ttest\"] < 0.05)][\"pos_id\"])\n",
    "    DSE_astrocyte_set = DSE_astrocyte_set | tmp_diff\n",
    "    tmp_df[\"group\"] = \"astrocyte\"\n",
    "    tmp_df = tmp_df[[\"pos_id\", \"Diff events\", \"dPSI\", \"group\"]]\n",
    "    Shiba_astrocyte_df = tmp_df if Shiba_astrocyte_df.empty else pd.concat([Shiba_astrocyte_df, tmp_df])"
   ]
  },
  {
   "cell_type": "code",
   "execution_count": 16,
   "id": "1ebd5ee9",
   "metadata": {
    "ExecuteTime": {
     "end_time": "2025-03-20T18:09:38.680220Z",
     "start_time": "2025-03-20T18:09:38.672633Z"
    }
   },
   "outputs": [
    {
     "data": {
      "text/html": [
       "<div>\n",
       "<style scoped>\n",
       "    .dataframe tbody tr th:only-of-type {\n",
       "        vertical-align: middle;\n",
       "    }\n",
       "\n",
       "    .dataframe tbody tr th {\n",
       "        vertical-align: top;\n",
       "    }\n",
       "\n",
       "    .dataframe thead th {\n",
       "        text-align: right;\n",
       "    }\n",
       "</style>\n",
       "<table border=\"1\" class=\"dataframe\">\n",
       "  <thead>\n",
       "    <tr style=\"text-align: right;\">\n",
       "      <th></th>\n",
       "      <th>pos_id</th>\n",
       "      <th>Diff events</th>\n",
       "      <th>dPSI</th>\n",
       "      <th>group</th>\n",
       "    </tr>\n",
       "  </thead>\n",
       "  <tbody>\n",
       "    <tr>\n",
       "      <th>0</th>\n",
       "      <td>SE@chr10@79856504-79856534@79854721-79858752</td>\n",
       "      <td>Yes</td>\n",
       "      <td>-0.850777</td>\n",
       "      <td>astrocyte</td>\n",
       "    </tr>\n",
       "    <tr>\n",
       "      <th>1</th>\n",
       "      <td>SE@chr8@70599840-70599899@70599757-70600396</td>\n",
       "      <td>Yes</td>\n",
       "      <td>-0.150211</td>\n",
       "      <td>astrocyte</td>\n",
       "    </tr>\n",
       "    <tr>\n",
       "      <th>2</th>\n",
       "      <td>SE@chr12@111825576-111825632@111825108-111827543</td>\n",
       "      <td>Yes</td>\n",
       "      <td>0.167704</td>\n",
       "      <td>astrocyte</td>\n",
       "    </tr>\n",
       "    <tr>\n",
       "      <th>3</th>\n",
       "      <td>SE@chr12@111825579-111825632@111825108-111827543</td>\n",
       "      <td>Yes</td>\n",
       "      <td>0.170582</td>\n",
       "      <td>astrocyte</td>\n",
       "    </tr>\n",
       "    <tr>\n",
       "      <th>4</th>\n",
       "      <td>SE@chr2@152703995-152704194@152700268-152704622</td>\n",
       "      <td>Yes</td>\n",
       "      <td>0.182524</td>\n",
       "      <td>astrocyte</td>\n",
       "    </tr>\n",
       "    <tr>\n",
       "      <th>...</th>\n",
       "      <td>...</td>\n",
       "      <td>...</td>\n",
       "      <td>...</td>\n",
       "      <td>...</td>\n",
       "    </tr>\n",
       "    <tr>\n",
       "      <th>2769</th>\n",
       "      <td>ALE@chrX@7889763-7894191@7889763-7892140</td>\n",
       "      <td>No</td>\n",
       "      <td>0.000000</td>\n",
       "      <td>astrocyte</td>\n",
       "    </tr>\n",
       "    <tr>\n",
       "      <th>2770</th>\n",
       "      <td>ALE@chrX@7892867-7894191@7892867-7893968</td>\n",
       "      <td>No</td>\n",
       "      <td>0.000000</td>\n",
       "      <td>astrocyte</td>\n",
       "    </tr>\n",
       "    <tr>\n",
       "      <th>2771</th>\n",
       "      <td>ALE@chrX@8141208-8143251@8142955-8143251</td>\n",
       "      <td>No</td>\n",
       "      <td>0.000000</td>\n",
       "      <td>astrocyte</td>\n",
       "    </tr>\n",
       "    <tr>\n",
       "      <th>2772</th>\n",
       "      <td>ALE@chrX@95049346-95058817@95055011-95058817</td>\n",
       "      <td>No</td>\n",
       "      <td>0.000000</td>\n",
       "      <td>astrocyte</td>\n",
       "    </tr>\n",
       "    <tr>\n",
       "      <th>2773</th>\n",
       "      <td>ALE@chrX@98803180-98890082@98874022-98890082</td>\n",
       "      <td>No</td>\n",
       "      <td>0.000000</td>\n",
       "      <td>astrocyte</td>\n",
       "    </tr>\n",
       "  </tbody>\n",
       "</table>\n",
       "<p>56051 rows × 4 columns</p>\n",
       "</div>"
      ],
      "text/plain": [
       "                                                pos_id Diff events      dPSI  \\\n",
       "0         SE@chr10@79856504-79856534@79854721-79858752         Yes -0.850777   \n",
       "1          SE@chr8@70599840-70599899@70599757-70600396         Yes -0.150211   \n",
       "2     SE@chr12@111825576-111825632@111825108-111827543         Yes  0.167704   \n",
       "3     SE@chr12@111825579-111825632@111825108-111827543         Yes  0.170582   \n",
       "4      SE@chr2@152703995-152704194@152700268-152704622         Yes  0.182524   \n",
       "...                                                ...         ...       ...   \n",
       "2769          ALE@chrX@7889763-7894191@7889763-7892140          No  0.000000   \n",
       "2770          ALE@chrX@7892867-7894191@7892867-7893968          No  0.000000   \n",
       "2771          ALE@chrX@8141208-8143251@8142955-8143251          No  0.000000   \n",
       "2772      ALE@chrX@95049346-95058817@95055011-95058817          No  0.000000   \n",
       "2773      ALE@chrX@98803180-98890082@98874022-98890082          No  0.000000   \n",
       "\n",
       "          group  \n",
       "0     astrocyte  \n",
       "1     astrocyte  \n",
       "2     astrocyte  \n",
       "3     astrocyte  \n",
       "4     astrocyte  \n",
       "...         ...  \n",
       "2769  astrocyte  \n",
       "2770  astrocyte  \n",
       "2771  astrocyte  \n",
       "2772  astrocyte  \n",
       "2773  astrocyte  \n",
       "\n",
       "[56051 rows x 4 columns]"
      ]
     },
     "execution_count": 16,
     "metadata": {},
     "output_type": "execute_result"
    }
   ],
   "source": [
    "Shiba_astrocyte_df"
   ]
  },
  {
   "cell_type": "code",
   "execution_count": 17,
   "id": "1fe2e836",
   "metadata": {
    "ExecuteTime": {
     "end_time": "2025-03-20T18:09:39.078837Z",
     "start_time": "2025-03-20T18:09:38.681503Z"
    }
   },
   "outputs": [],
   "source": [
    "Shiba_Brain_df = pd.DataFrame()\n",
    "DSE_Brain_set = set()\n",
    "for event in events_Shiba:\n",
    "    tmp_df = pd.read_csv(\"/rhome/naotok/bigdata/NeuronalMaturationSplicing/splicing/ENCODE_Mouse_Forebrain/Shiba/results/splicing/PSI_\" + event + \".txt\", sep = \"\\t\")\n",
    "    tmp_diff = set(tmp_df[(tmp_df[\"Diff events\"] == \"Yes\")][\"pos_id\"])\n",
    "    DSE_Brain_set = DSE_Brain_set | tmp_diff\n",
    "    tmp_df[\"group\"] = \"Brain\"\n",
    "    tmp_df = tmp_df[[\"pos_id\", \"Diff events\", \"dPSI\", \"group\"]]\n",
    "    Shiba_Brain_df = tmp_df if Shiba_Brain_df.empty else pd.concat([Shiba_Brain_df, tmp_df])"
   ]
  },
  {
   "cell_type": "code",
   "execution_count": 18,
   "id": "31fd8780",
   "metadata": {
    "ExecuteTime": {
     "end_time": "2025-03-20T18:09:39.113164Z",
     "start_time": "2025-03-20T18:09:39.080510Z"
    }
   },
   "outputs": [
    {
     "data": {
      "text/html": [
       "<div>\n",
       "<style scoped>\n",
       "    .dataframe tbody tr th:only-of-type {\n",
       "        vertical-align: middle;\n",
       "    }\n",
       "\n",
       "    .dataframe tbody tr th {\n",
       "        vertical-align: top;\n",
       "    }\n",
       "\n",
       "    .dataframe thead th {\n",
       "        text-align: right;\n",
       "    }\n",
       "</style>\n",
       "<table border=\"1\" class=\"dataframe\">\n",
       "  <thead>\n",
       "    <tr style=\"text-align: right;\">\n",
       "      <th>group</th>\n",
       "      <th>Brain</th>\n",
       "      <th>astrocyte</th>\n",
       "    </tr>\n",
       "    <tr>\n",
       "      <th>pos_id</th>\n",
       "      <th></th>\n",
       "      <th></th>\n",
       "    </tr>\n",
       "  </thead>\n",
       "  <tbody>\n",
       "    <tr>\n",
       "      <th>AFE@chr10@127063759-127064585@127064453-127064585</th>\n",
       "      <td>15.936011</td>\n",
       "      <td>-0.883344</td>\n",
       "    </tr>\n",
       "    <tr>\n",
       "      <th>AFE@chr10@12765332-12861568@12765332-12813446</th>\n",
       "      <td>-35.743119</td>\n",
       "      <td>-26.923077</td>\n",
       "    </tr>\n",
       "    <tr>\n",
       "      <th>AFE@chr10@128747998-128765147@128748566-128765147</th>\n",
       "      <td>-12.615431</td>\n",
       "      <td>-15.438787</td>\n",
       "    </tr>\n",
       "    <tr>\n",
       "      <th>AFE@chr10@13291962-13388695@13291962-13324064</th>\n",
       "      <td>43.388704</td>\n",
       "      <td>6.000000</td>\n",
       "    </tr>\n",
       "    <tr>\n",
       "      <th>AFE@chr10@26352375-26375911@26352375-26373701</th>\n",
       "      <td>11.352657</td>\n",
       "      <td>37.545591</td>\n",
       "    </tr>\n",
       "    <tr>\n",
       "      <th>...</th>\n",
       "      <td>...</td>\n",
       "      <td>...</td>\n",
       "    </tr>\n",
       "    <tr>\n",
       "      <th>THREE@chrX@73948418-73948902@73948286-73948902</th>\n",
       "      <td>27.729469</td>\n",
       "      <td>-18.155905</td>\n",
       "    </tr>\n",
       "    <tr>\n",
       "      <th>THREE@chrX@74017511-74018130@74017430-74018130</th>\n",
       "      <td>-5.212766</td>\n",
       "      <td>-13.333333</td>\n",
       "    </tr>\n",
       "    <tr>\n",
       "      <th>THREE@chrX@74386791-74387034@74386716-74387034</th>\n",
       "      <td>4.242637</td>\n",
       "      <td>13.178560</td>\n",
       "    </tr>\n",
       "    <tr>\n",
       "      <th>THREE@chrX@7724291-7725740@7724291-7725931</th>\n",
       "      <td>3.703704</td>\n",
       "      <td>-10.270855</td>\n",
       "    </tr>\n",
       "    <tr>\n",
       "      <th>THREE@chrX@7889763-7892140@7889763-7894191</th>\n",
       "      <td>-15.664344</td>\n",
       "      <td>0.000000</td>\n",
       "    </tr>\n",
       "  </tbody>\n",
       "</table>\n",
       "<p>3123 rows × 2 columns</p>\n",
       "</div>"
      ],
      "text/plain": [
       "group                                                  Brain  astrocyte\n",
       "pos_id                                                                 \n",
       "AFE@chr10@127063759-127064585@127064453-127064585  15.936011  -0.883344\n",
       "AFE@chr10@12765332-12861568@12765332-12813446     -35.743119 -26.923077\n",
       "AFE@chr10@128747998-128765147@128748566-128765147 -12.615431 -15.438787\n",
       "AFE@chr10@13291962-13388695@13291962-13324064      43.388704   6.000000\n",
       "AFE@chr10@26352375-26375911@26352375-26373701      11.352657  37.545591\n",
       "...                                                      ...        ...\n",
       "THREE@chrX@73948418-73948902@73948286-73948902     27.729469 -18.155905\n",
       "THREE@chrX@74017511-74018130@74017430-74018130     -5.212766 -13.333333\n",
       "THREE@chrX@74386791-74387034@74386716-74387034      4.242637  13.178560\n",
       "THREE@chrX@7724291-7725740@7724291-7725931          3.703704 -10.270855\n",
       "THREE@chrX@7889763-7892140@7889763-7894191        -15.664344   0.000000\n",
       "\n",
       "[3123 rows x 2 columns]"
      ]
     },
     "execution_count": 18,
     "metadata": {},
     "output_type": "execute_result"
    }
   ],
   "source": [
    "DSE_astrocyte_Brain_set = DSE_astrocyte_set | DSE_Brain_set\n",
    "Shiba_astrocyte_Brain_df = pd.concat([Shiba_astrocyte_df, Shiba_Brain_df])\n",
    "Shiba_astrocyte_Brain_df = Shiba_astrocyte_Brain_df[Shiba_astrocyte_Brain_df[\"pos_id\"].isin(DSE_astrocyte_Brain_set)]\n",
    "Shiba_astrocyte_Brain_pivot_df = Shiba_astrocyte_Brain_df.pivot(index = \"pos_id\", columns = \"group\", values = \"dPSI\").dropna()\n",
    "Shiba_astrocyte_Brain_pivot_df = Shiba_astrocyte_Brain_pivot_df*100\n",
    "Shiba_astrocyte_Brain_pivot_df"
   ]
  },
  {
   "cell_type": "code",
   "execution_count": null,
   "id": "298803a2",
   "metadata": {
    "ExecuteTime": {
     "end_time": "2025-03-20T18:09:40.084174Z",
     "start_time": "2025-03-20T18:09:39.114713Z"
    },
    "scrolled": false
   },
   "outputs": [
    {
     "name": "stderr",
     "output_type": "stream",
     "text": [
      "/opt/conda/lib/python3.10/site-packages/seaborn/axisgrid.py:118: UserWarning: The figure layout has changed to tight\n",
      "  self._figure.tight_layout(*args, **kwargs)\n"
     ]
    },
    {
     "data": {
      "image/png": "[encoded data removed]",
      "text/plain": [
       "<Figure size 300x300 with 1 Axes>"
      ]
     },
     "metadata": {},
     "output_type": "display_data"
    }
   ],
   "source": [
    "g = sns.relplot(\n",
    "    data = Shiba_astrocyte_Brain_pivot_df,\n",
    "    x = \"astrocyte\",\n",
    "    y = \"Brain\",\n",
    "    height = 3,\n",
    "    s = 4,\n",
    "    edgecolor = None,\n",
    "    alpha = 0.4,\n",
    "    color = \"#8c96c6\"\n",
    ")\n",
    "g.set(xlim = (-105, 105), ylim = (-105, 105))\n",
    "g.set_xlabels(\"dPSI in astrocytes\\n(Ptbp1 cKO vs. Control)\")\n",
    "g.set_ylabels(\"dPSI in cortex\\n(P0 vs. E10)\")\n",
    "plt.axhline(10, color = \"black\", ls = \"--\")\n",
    "plt.axhline(-10, color = \"black\", ls = \"--\")\n",
    "plt.axvline(10, color = \"black\", ls = \"--\")\n",
    "plt.axvline(-10, color = \"black\", ls = \"--\")\n",
    "\n",
    "# Display counts in each fraction\n",
    "plt.text(60, 60, 'F1', ha='center', va='center')\n",
    "plt.text(0, 60, 'F2', ha='center', va='center')\n",
    "plt.text(-60, 60, 'F3', ha='center', va='center')\n",
    "plt.text(-60, 0, 'F4', ha='center', va='center')\n",
    "plt.text(-60, -60, 'F5', ha='center', va='center')\n",
    "plt.text(0, -60, 'F6', ha='center', va='center')\n",
    "plt.text(60, -60, 'F7', ha='center', va='center')\n",
    "plt.text(60, 0, 'F8', ha='center', va='center')\n",
    "plt.savefig(\"/rhome/naotok/bigdata/Ptbp1_astrocyte/Jul24/figure/relplot_vs_Brain_P0vsE10_dPSI.png\", bbox_inches = \"tight\", dpi = 1000)"
   ]
  },
  {
   "cell_type": "code",
   "execution_count": 20,
   "id": "5118dd13",
   "metadata": {
    "ExecuteTime": {
     "end_time": "2025-03-20T18:09:40.123423Z",
     "start_time": "2025-03-20T18:09:40.085794Z"
    }
   },
   "outputs": [],
   "source": [
    "def dPSI_grouping(x):\n",
    "    if x[\"astrocyte\"] > 10:\n",
    "        if x[\"Brain\"] > 10:\n",
    "            group = \"F1\"\n",
    "        elif x[\"Brain\"] > -10:\n",
    "            group = \"F8\"\n",
    "        elif x[\"Brain\"] < -10:\n",
    "            group = \"F7\"\n",
    "    elif x[\"astrocyte\"] < -10:\n",
    "        if x[\"Brain\"] > 10:\n",
    "            group = \"F3\"\n",
    "        elif x[\"Brain\"] > -10:\n",
    "            group = \"F4\"\n",
    "        elif x[\"Brain\"] < -10:\n",
    "            group = \"F5\"\n",
    "    else:\n",
    "        if x[\"Brain\"] > 10:\n",
    "            group = \"F2\"\n",
    "        elif x[\"Brain\"] < -10:\n",
    "            group = \"F6\"\n",
    "    return(group)\n",
    "\n",
    "Shiba_astrocyte_Brain_pivot_df[\"group\"] = Shiba_astrocyte_Brain_pivot_df.apply(dPSI_grouping, axis = 1)"
   ]
  },
  {
   "cell_type": "code",
   "execution_count": 21,
   "id": "28b04e9e",
   "metadata": {
    "ExecuteTime": {
     "end_time": "2025-03-20T18:09:40.134068Z",
     "start_time": "2025-03-20T18:09:40.125118Z"
    }
   },
   "outputs": [
    {
     "data": {
      "text/html": [
       "<div>\n",
       "<style scoped>\n",
       "    .dataframe tbody tr th:only-of-type {\n",
       "        vertical-align: middle;\n",
       "    }\n",
       "\n",
       "    .dataframe tbody tr th {\n",
       "        vertical-align: top;\n",
       "    }\n",
       "\n",
       "    .dataframe thead th {\n",
       "        text-align: right;\n",
       "    }\n",
       "</style>\n",
       "<table border=\"1\" class=\"dataframe\">\n",
       "  <thead>\n",
       "    <tr style=\"text-align: right;\">\n",
       "      <th></th>\n",
       "      <th>group</th>\n",
       "      <th>size</th>\n",
       "      <th>fraction</th>\n",
       "    </tr>\n",
       "  </thead>\n",
       "  <tbody>\n",
       "    <tr>\n",
       "      <th>0</th>\n",
       "      <td>F1</td>\n",
       "      <td>242</td>\n",
       "      <td>7.75</td>\n",
       "    </tr>\n",
       "    <tr>\n",
       "      <th>1</th>\n",
       "      <td>F2</td>\n",
       "      <td>1072</td>\n",
       "      <td>34.33</td>\n",
       "    </tr>\n",
       "    <tr>\n",
       "      <th>2</th>\n",
       "      <td>F3</td>\n",
       "      <td>178</td>\n",
       "      <td>5.70</td>\n",
       "    </tr>\n",
       "    <tr>\n",
       "      <th>3</th>\n",
       "      <td>F4</td>\n",
       "      <td>49</td>\n",
       "      <td>1.57</td>\n",
       "    </tr>\n",
       "    <tr>\n",
       "      <th>4</th>\n",
       "      <td>F5</td>\n",
       "      <td>163</td>\n",
       "      <td>5.22</td>\n",
       "    </tr>\n",
       "    <tr>\n",
       "      <th>5</th>\n",
       "      <td>F6</td>\n",
       "      <td>1072</td>\n",
       "      <td>34.33</td>\n",
       "    </tr>\n",
       "    <tr>\n",
       "      <th>6</th>\n",
       "      <td>F7</td>\n",
       "      <td>263</td>\n",
       "      <td>8.42</td>\n",
       "    </tr>\n",
       "    <tr>\n",
       "      <th>7</th>\n",
       "      <td>F8</td>\n",
       "      <td>84</td>\n",
       "      <td>2.69</td>\n",
       "    </tr>\n",
       "  </tbody>\n",
       "</table>\n",
       "</div>"
      ],
      "text/plain": [
       "  group  size  fraction\n",
       "0    F1   242      7.75\n",
       "1    F2  1072     34.33\n",
       "2    F3   178      5.70\n",
       "3    F4    49      1.57\n",
       "4    F5   163      5.22\n",
       "5    F6  1072     34.33\n",
       "6    F7   263      8.42\n",
       "7    F8    84      2.69"
      ]
     },
     "execution_count": 21,
     "metadata": {},
     "output_type": "execute_result"
    }
   ],
   "source": [
    "Shiba_astrocyte_Brain_group_size_df = Shiba_astrocyte_Brain_pivot_df.groupby(\"group\", as_index = False).size()\n",
    "Shiba_astrocyte_Brain_group_size_df[\"fraction\"] = Shiba_astrocyte_Brain_group_size_df[\"size\"].map(lambda x: round(100*(x / Shiba_astrocyte_Brain_pivot_df.shape[0]), 2))\n",
    "Shiba_astrocyte_Brain_group_size_df"
   ]
  },
  {
   "cell_type": "code",
   "execution_count": null,
   "id": "c60d0e14",
   "metadata": {
    "ExecuteTime": {
     "end_time": "2025-03-20T18:09:40.848275Z",
     "start_time": "2025-03-20T18:09:40.135508Z"
    }
   },
   "outputs": [
    {
     "name": "stderr",
     "output_type": "stream",
     "text": [
      "/opt/conda/lib/python3.10/site-packages/seaborn/axisgrid.py:118: UserWarning: The figure layout has changed to tight\n",
      "  self._figure.tight_layout(*args, **kwargs)\n"
     ]
    },
    {
     "data": {
      "image/png": "[encoded data removed]",
      "text/plain": [
       "<Figure size 300x300 with 1 Axes>"
      ]
     },
     "metadata": {},
     "output_type": "display_data"
    }
   ],
   "source": [
    "g = sns.catplot(\n",
    "    data = Shiba_astrocyte_Brain_group_size_df,\n",
    "    x = \"group\",\n",
    "    y = \"size\",\n",
    "    kind = \"bar\",\n",
    "    palette = \"BuPu\",\n",
    "    height = 3,\n",
    "    linewidth = 1,\n",
    "    edgecolor = \"black\"\n",
    ")\n",
    "g.set_xlabels(\"\")\n",
    "g.set_ylabels(\"# Events\")\n",
    "# Add text on top of each bar\n",
    "for ax in g.axes.flat:\n",
    "    for p in ax.patches:\n",
    "        ax.text(\n",
    "            p.get_x() + p.get_width() / 2,  # x-position of the text\n",
    "            p.get_height(),  # y-position of the text\n",
    "            int(p.get_height()),  # text to display\n",
    "            ha=\"center\",  # horizontal alignment\n",
    "            va=\"bottom\"   # vertical alignment\n",
    "        )\n",
    "plt.savefig(\"/rhome/naotok/bigdata/Ptbp1_astrocyte/Jul24/figure/catplot_vs_Brain_P0vsE10_size.png\", bbox_inches = \"tight\", dpi = 1000)"
   ]
  }
 ],
 "metadata": {
  "kernelspec": {
   "display_name": "Python 3 (ipykernel)",
   "language": "python",
   "name": "python3"
  },
  "language_info": {
   "codemirror_mode": {
    "name": "ipython",
    "version": 3
   },
   "file_extension": ".py",
   "mimetype": "text/x-python",
   "name": "python",
   "nbconvert_exporter": "python",
   "pygments_lexer": "ipython3",
   "version": "3.10.6"
  },
  "toc": {
   "base_numbering": 1,
   "nav_menu": {},
   "number_sections": true,
   "sideBar": true,
   "skip_h1_title": false,
   "title_cell": "Table of Contents",
   "title_sidebar": "Contents",
   "toc_cell": false,
   "toc_position": {},
   "toc_section_display": true,
   "toc_window_display": false
  },
  "varInspector": {
   "cols": {
    "lenName": 16,
    "lenType": 16,
    "lenVar": 40
   },
   "kernels_config": {
    "python": {
     "delete_cmd_postfix": "",
     "delete_cmd_prefix": "del ",
     "library": "var_list.py",
     "varRefreshCmd": "print(var_dic_list())"
    },
    "r": {
     "delete_cmd_postfix": ") ",
     "delete_cmd_prefix": "rm(",
     "library": "var_list.r",
     "varRefreshCmd": "cat(var_dic_list()) "
    }
   },
   "types_to_exclude": [
    "module",
    "function",
    "builtin_function_or_method",
    "instance",
    "_Feature"
   ],
   "window_display": false
  }
 },
 "nbformat": 4,
 "nbformat_minor": 5
}
