{
 "cells": [
  {
   "cell_type": "code",
   "execution_count": 56,
   "id": "5dcf183a",
   "metadata": {
    "ExecuteTime": {
     "end_time": "2025-04-15T00:45:14.277195Z",
     "start_time": "2025-04-15T00:45:14.273902Z"
    }
   },
   "outputs": [],
   "source": [
    "import pandas as pd\n",
    "import matplotlib\n",
    "matplotlib.rcParams[\"font.family\"] = \"Arial\"\n",
    "import matplotlib.pyplot as plt\n",
    "from matplotlib import rc\n",
    "# activate latex text rendering\n",
    "rc('text', usetex=False)\n",
    "import seaborn as sns\n",
    "import scipy.stats as stats\n",
    "from sklearn.decomposition import PCA\n",
    "from sklearn.impute import KNNImputer"
   ]
  },
  {
   "cell_type": "markdown",
   "id": "5ab35761",
   "metadata": {},
   "source": [
    "# PCA"
   ]
  },
  {
   "cell_type": "markdown",
   "id": "dd864723",
   "metadata": {},
   "source": [
    "## Load PSI matrix"
   ]
  },
  {
   "cell_type": "code",
   "execution_count": null,
   "id": "3f2c2ee9",
   "metadata": {
    "ExecuteTime": {
     "end_time": "2025-04-15T00:44:01.636443Z",
     "start_time": "2025-04-15T00:44:01.464696Z"
    },
    "scrolled": true
   },
   "outputs": [
    {
     "data": {
      "text/html": [
       "<div>\n",
       "<style scoped>\n",
       "    .dataframe tbody tr th:only-of-type {\n",
       "        vertical-align: middle;\n",
       "    }\n",
       "\n",
       "    .dataframe tbody tr th {\n",
       "        vertical-align: top;\n",
       "    }\n",
       "\n",
       "    .dataframe thead th {\n",
       "        text-align: right;\n",
       "    }\n",
       "</style>\n",
       "<table border=\"1\" class=\"dataframe\">\n",
       "  <thead>\n",
       "    <tr style=\"text-align: right;\">\n",
       "      <th></th>\n",
       "      <th>pos_id</th>\n",
       "      <th>KO_F_1</th>\n",
       "      <th>KO_M_3</th>\n",
       "      <th>KO_M_4</th>\n",
       "      <th>WT_F_1</th>\n",
       "      <th>WT_F_2</th>\n",
       "      <th>WT_F_3</th>\n",
       "    </tr>\n",
       "  </thead>\n",
       "  <tbody>\n",
       "    <tr>\n",
       "      <th>0</th>\n",
       "      <td>SE@GL456216.1@30699-30806@16407-31059</td>\n",
       "      <td>0.941834</td>\n",
       "      <td>0.916168</td>\n",
       "      <td>0.872123</td>\n",
       "      <td>1.000000</td>\n",
       "      <td>1.000000</td>\n",
       "      <td>0.894886</td>\n",
       "    </tr>\n",
       "    <tr>\n",
       "      <th>1</th>\n",
       "      <td>SE@GL456216.1@31370-31471@31127-34138</td>\n",
       "      <td>0.668998</td>\n",
       "      <td>0.932773</td>\n",
       "      <td>0.733333</td>\n",
       "      <td>0.566787</td>\n",
       "      <td>0.926702</td>\n",
       "      <td>0.790698</td>\n",
       "    </tr>\n",
       "    <tr>\n",
       "      <th>2</th>\n",
       "      <td>SE@GL456233.1@28308-28390@24962-28976</td>\n",
       "      <td>0.144928</td>\n",
       "      <td>0.053435</td>\n",
       "      <td>0.074733</td>\n",
       "      <td>0.152318</td>\n",
       "      <td>0.047210</td>\n",
       "      <td>0.053876</td>\n",
       "    </tr>\n",
       "    <tr>\n",
       "      <th>3</th>\n",
       "      <td>SE@GL456233.1@326114-326350@285515-332450</td>\n",
       "      <td>0.845161</td>\n",
       "      <td>0.859459</td>\n",
       "      <td>0.913978</td>\n",
       "      <td>0.730104</td>\n",
       "      <td>0.793358</td>\n",
       "      <td>1.000000</td>\n",
       "    </tr>\n",
       "    <tr>\n",
       "      <th>4</th>\n",
       "      <td>SE@JH584304.1@56986-57151@55701-58564</td>\n",
       "      <td>0.884457</td>\n",
       "      <td>0.920290</td>\n",
       "      <td>0.940334</td>\n",
       "      <td>0.921260</td>\n",
       "      <td>0.939036</td>\n",
       "      <td>1.000000</td>\n",
       "    </tr>\n",
       "  </tbody>\n",
       "</table>\n",
       "</div>"
      ],
      "text/plain": [
       "                                      pos_id    KO_F_1    KO_M_3    KO_M_4  \\\n",
       "0      SE@GL456216.1@30699-30806@16407-31059  0.941834  0.916168  0.872123   \n",
       "1      SE@GL456216.1@31370-31471@31127-34138  0.668998  0.932773  0.733333   \n",
       "2      SE@GL456233.1@28308-28390@24962-28976  0.144928  0.053435  0.074733   \n",
       "3  SE@GL456233.1@326114-326350@285515-332450  0.845161  0.859459  0.913978   \n",
       "4      SE@JH584304.1@56986-57151@55701-58564  0.884457  0.920290  0.940334   \n",
       "\n",
       "     WT_F_1    WT_F_2    WT_F_3  \n",
       "0  1.000000  1.000000  0.894886  \n",
       "1  0.566787  0.926702  0.790698  \n",
       "2  0.152318  0.047210  0.053876  \n",
       "3  0.730104  0.793358  1.000000  \n",
       "4  0.921260  0.939036  1.000000  "
      ]
     },
     "execution_count": 44,
     "metadata": {},
     "output_type": "execute_result"
    }
   ],
   "source": [
    "# Jul24\n",
    "psi_matrix_df = pd.read_csv(\"/rhome/naotok/bigdata/Ptbp1_astrocyte/Jul24/Shiba/results/splicing/PSI_matrix_sample.txt\", sep = \"\\t\")\n",
    "psi_matrix_df = psi_matrix_df.drop(columns = [\"event_id\"])\n",
    "psi_matrix_df.head()"
   ]
  },
  {
   "cell_type": "code",
   "execution_count": 45,
   "id": "a31d9680",
   "metadata": {
    "ExecuteTime": {
     "end_time": "2025-04-15T00:44:01.941028Z",
     "start_time": "2025-04-15T00:44:01.638207Z"
    }
   },
   "outputs": [
    {
     "data": {
      "text/html": [
       "<div>\n",
       "<style scoped>\n",
       "    .dataframe tbody tr th:only-of-type {\n",
       "        vertical-align: middle;\n",
       "    }\n",
       "\n",
       "    .dataframe tbody tr th {\n",
       "        vertical-align: top;\n",
       "    }\n",
       "\n",
       "    .dataframe thead th {\n",
       "        text-align: right;\n",
       "    }\n",
       "</style>\n",
       "<table border=\"1\" class=\"dataframe\">\n",
       "  <thead>\n",
       "    <tr style=\"text-align: right;\">\n",
       "      <th></th>\n",
       "      <th>pos_id</th>\n",
       "      <th>DIV-8_SRR645824</th>\n",
       "      <th>DIV-8_SRR645826</th>\n",
       "      <th>DIV-8_SRR645828</th>\n",
       "      <th>DIV-8_SRR645830</th>\n",
       "      <th>DIV-4_SRR645833</th>\n",
       "      <th>DIV-4_SRR645835</th>\n",
       "      <th>DIV-4_SRR645837</th>\n",
       "      <th>DIV0_SRR645840</th>\n",
       "      <th>DIV0_SRR645842</th>\n",
       "      <th>...</th>\n",
       "      <th>DIV21_SRR645870</th>\n",
       "      <th>DIV28_SRR645872</th>\n",
       "      <th>DIV28_SRR645875</th>\n",
       "      <th>DIV28_SRR645877</th>\n",
       "      <th>DIV28_SRR645879</th>\n",
       "      <th>DIV1_SRR645930</th>\n",
       "      <th>DIV1_SRR645932</th>\n",
       "      <th>DIV1_SRR645934</th>\n",
       "      <th>DIV1_SRR646092</th>\n",
       "      <th>DIV7_SRR646182</th>\n",
       "    </tr>\n",
       "  </thead>\n",
       "  <tbody>\n",
       "    <tr>\n",
       "      <th>0</th>\n",
       "      <td>SE@GL456233.1@272714-272993@258423-285396</td>\n",
       "      <td>NaN</td>\n",
       "      <td>NaN</td>\n",
       "      <td>NaN</td>\n",
       "      <td>NaN</td>\n",
       "      <td>NaN</td>\n",
       "      <td>NaN</td>\n",
       "      <td>NaN</td>\n",
       "      <td>1.000000</td>\n",
       "      <td>0.866667</td>\n",
       "      <td>...</td>\n",
       "      <td>NaN</td>\n",
       "      <td>NaN</td>\n",
       "      <td>NaN</td>\n",
       "      <td>NaN</td>\n",
       "      <td>NaN</td>\n",
       "      <td>1.000000</td>\n",
       "      <td>0.928571</td>\n",
       "      <td>NaN</td>\n",
       "      <td>NaN</td>\n",
       "      <td>NaN</td>\n",
       "    </tr>\n",
       "    <tr>\n",
       "      <th>1</th>\n",
       "      <td>SE@GL456233.1@272715-272993@258423-285396</td>\n",
       "      <td>NaN</td>\n",
       "      <td>NaN</td>\n",
       "      <td>NaN</td>\n",
       "      <td>NaN</td>\n",
       "      <td>NaN</td>\n",
       "      <td>NaN</td>\n",
       "      <td>NaN</td>\n",
       "      <td>NaN</td>\n",
       "      <td>NaN</td>\n",
       "      <td>...</td>\n",
       "      <td>NaN</td>\n",
       "      <td>NaN</td>\n",
       "      <td>NaN</td>\n",
       "      <td>NaN</td>\n",
       "      <td>NaN</td>\n",
       "      <td>NaN</td>\n",
       "      <td>NaN</td>\n",
       "      <td>NaN</td>\n",
       "      <td>NaN</td>\n",
       "      <td>NaN</td>\n",
       "    </tr>\n",
       "    <tr>\n",
       "      <th>2</th>\n",
       "      <td>SE@JH584304.1@56986-57151@55701-58564</td>\n",
       "      <td>0.694915</td>\n",
       "      <td>0.478261</td>\n",
       "      <td>0.627451</td>\n",
       "      <td>0.442623</td>\n",
       "      <td>0.635135</td>\n",
       "      <td>0.655172</td>\n",
       "      <td>0.698795</td>\n",
       "      <td>0.759214</td>\n",
       "      <td>0.844444</td>\n",
       "      <td>...</td>\n",
       "      <td>0.549872</td>\n",
       "      <td>0.709138</td>\n",
       "      <td>0.685510</td>\n",
       "      <td>0.689630</td>\n",
       "      <td>0.746364</td>\n",
       "      <td>0.709729</td>\n",
       "      <td>0.722504</td>\n",
       "      <td>0.766355</td>\n",
       "      <td>0.773672</td>\n",
       "      <td>0.794492</td>\n",
       "    </tr>\n",
       "    <tr>\n",
       "      <th>3</th>\n",
       "      <td>SE@JH584304.1@58564-58835@55701-59592</td>\n",
       "      <td>0.948718</td>\n",
       "      <td>0.975309</td>\n",
       "      <td>0.944444</td>\n",
       "      <td>0.900000</td>\n",
       "      <td>0.933333</td>\n",
       "      <td>0.962963</td>\n",
       "      <td>0.940299</td>\n",
       "      <td>0.944444</td>\n",
       "      <td>0.898734</td>\n",
       "      <td>...</td>\n",
       "      <td>0.720930</td>\n",
       "      <td>0.820714</td>\n",
       "      <td>0.801047</td>\n",
       "      <td>0.801749</td>\n",
       "      <td>0.850962</td>\n",
       "      <td>0.824000</td>\n",
       "      <td>0.882122</td>\n",
       "      <td>0.866279</td>\n",
       "      <td>0.861635</td>\n",
       "      <td>0.820789</td>\n",
       "    </tr>\n",
       "    <tr>\n",
       "      <th>4</th>\n",
       "      <td>SE@chr10@100080857-100080940@100080130-100087347</td>\n",
       "      <td>NaN</td>\n",
       "      <td>NaN</td>\n",
       "      <td>NaN</td>\n",
       "      <td>NaN</td>\n",
       "      <td>NaN</td>\n",
       "      <td>NaN</td>\n",
       "      <td>NaN</td>\n",
       "      <td>0.902439</td>\n",
       "      <td>0.888889</td>\n",
       "      <td>...</td>\n",
       "      <td>1.000000</td>\n",
       "      <td>NaN</td>\n",
       "      <td>1.000000</td>\n",
       "      <td>NaN</td>\n",
       "      <td>NaN</td>\n",
       "      <td>1.000000</td>\n",
       "      <td>0.862069</td>\n",
       "      <td>1.000000</td>\n",
       "      <td>NaN</td>\n",
       "      <td>0.854545</td>\n",
       "    </tr>\n",
       "    <tr>\n",
       "      <th>...</th>\n",
       "      <td>...</td>\n",
       "      <td>...</td>\n",
       "      <td>...</td>\n",
       "      <td>...</td>\n",
       "      <td>...</td>\n",
       "      <td>...</td>\n",
       "      <td>...</td>\n",
       "      <td>...</td>\n",
       "      <td>...</td>\n",
       "      <td>...</td>\n",
       "      <td>...</td>\n",
       "      <td>...</td>\n",
       "      <td>...</td>\n",
       "      <td>...</td>\n",
       "      <td>...</td>\n",
       "      <td>...</td>\n",
       "      <td>...</td>\n",
       "      <td>...</td>\n",
       "      <td>...</td>\n",
       "      <td>...</td>\n",
       "      <td>...</td>\n",
       "    </tr>\n",
       "    <tr>\n",
       "      <th>87140</th>\n",
       "      <td>ALE@chrX@99468314-99470617@99468600-99470617</td>\n",
       "      <td>0.903226</td>\n",
       "      <td>0.866667</td>\n",
       "      <td>0.884615</td>\n",
       "      <td>0.878049</td>\n",
       "      <td>0.800000</td>\n",
       "      <td>0.800000</td>\n",
       "      <td>0.869565</td>\n",
       "      <td>0.871795</td>\n",
       "      <td>0.923077</td>\n",
       "      <td>...</td>\n",
       "      <td>0.980315</td>\n",
       "      <td>0.977011</td>\n",
       "      <td>0.971429</td>\n",
       "      <td>0.964286</td>\n",
       "      <td>0.988806</td>\n",
       "      <td>0.936047</td>\n",
       "      <td>0.965517</td>\n",
       "      <td>0.980392</td>\n",
       "      <td>0.944882</td>\n",
       "      <td>0.970060</td>\n",
       "    </tr>\n",
       "    <tr>\n",
       "      <th>87141</th>\n",
       "      <td>ALE@chrY@1158634-1168090@1161230-1168090</td>\n",
       "      <td>NaN</td>\n",
       "      <td>NaN</td>\n",
       "      <td>NaN</td>\n",
       "      <td>NaN</td>\n",
       "      <td>NaN</td>\n",
       "      <td>NaN</td>\n",
       "      <td>NaN</td>\n",
       "      <td>NaN</td>\n",
       "      <td>NaN</td>\n",
       "      <td>...</td>\n",
       "      <td>NaN</td>\n",
       "      <td>NaN</td>\n",
       "      <td>NaN</td>\n",
       "      <td>NaN</td>\n",
       "      <td>NaN</td>\n",
       "      <td>NaN</td>\n",
       "      <td>NaN</td>\n",
       "      <td>NaN</td>\n",
       "      <td>NaN</td>\n",
       "      <td>NaN</td>\n",
       "    </tr>\n",
       "    <tr>\n",
       "      <th>87142</th>\n",
       "      <td>ALE@chrY@90793417-90816349@90793417-90811189</td>\n",
       "      <td>0.994652</td>\n",
       "      <td>1.000000</td>\n",
       "      <td>0.984772</td>\n",
       "      <td>1.000000</td>\n",
       "      <td>1.000000</td>\n",
       "      <td>0.985714</td>\n",
       "      <td>0.990741</td>\n",
       "      <td>0.997717</td>\n",
       "      <td>0.997886</td>\n",
       "      <td>...</td>\n",
       "      <td>1.000000</td>\n",
       "      <td>1.000000</td>\n",
       "      <td>1.000000</td>\n",
       "      <td>1.000000</td>\n",
       "      <td>1.000000</td>\n",
       "      <td>0.997222</td>\n",
       "      <td>0.996564</td>\n",
       "      <td>0.990868</td>\n",
       "      <td>1.000000</td>\n",
       "      <td>0.996942</td>\n",
       "    </tr>\n",
       "    <tr>\n",
       "      <th>87143</th>\n",
       "      <td>ALE@chrY@90793417-90833771@90793417-90811189</td>\n",
       "      <td>NaN</td>\n",
       "      <td>NaN</td>\n",
       "      <td>NaN</td>\n",
       "      <td>NaN</td>\n",
       "      <td>NaN</td>\n",
       "      <td>NaN</td>\n",
       "      <td>NaN</td>\n",
       "      <td>NaN</td>\n",
       "      <td>NaN</td>\n",
       "      <td>...</td>\n",
       "      <td>NaN</td>\n",
       "      <td>NaN</td>\n",
       "      <td>NaN</td>\n",
       "      <td>NaN</td>\n",
       "      <td>NaN</td>\n",
       "      <td>NaN</td>\n",
       "      <td>NaN</td>\n",
       "      <td>NaN</td>\n",
       "      <td>NaN</td>\n",
       "      <td>NaN</td>\n",
       "    </tr>\n",
       "    <tr>\n",
       "      <th>87144</th>\n",
       "      <td>ALE@chrY@90793417-90833771@90793417-90816349</td>\n",
       "      <td>0.000000</td>\n",
       "      <td>0.000000</td>\n",
       "      <td>0.010204</td>\n",
       "      <td>0.007042</td>\n",
       "      <td>0.026549</td>\n",
       "      <td>0.009569</td>\n",
       "      <td>0.018349</td>\n",
       "      <td>0.000000</td>\n",
       "      <td>0.006316</td>\n",
       "      <td>...</td>\n",
       "      <td>0.000000</td>\n",
       "      <td>0.000000</td>\n",
       "      <td>0.000000</td>\n",
       "      <td>0.000000</td>\n",
       "      <td>0.000000</td>\n",
       "      <td>0.002778</td>\n",
       "      <td>0.000000</td>\n",
       "      <td>0.000000</td>\n",
       "      <td>0.000000</td>\n",
       "      <td>0.003058</td>\n",
       "    </tr>\n",
       "  </tbody>\n",
       "</table>\n",
       "<p>87145 rows × 32 columns</p>\n",
       "</div>"
      ],
      "text/plain": [
       "                                                 pos_id  DIV-8_SRR645824  \\\n",
       "0             SE@GL456233.1@272714-272993@258423-285396              NaN   \n",
       "1             SE@GL456233.1@272715-272993@258423-285396              NaN   \n",
       "2                 SE@JH584304.1@56986-57151@55701-58564         0.694915   \n",
       "3                 SE@JH584304.1@58564-58835@55701-59592         0.948718   \n",
       "4      SE@chr10@100080857-100080940@100080130-100087347              NaN   \n",
       "...                                                 ...              ...   \n",
       "87140      ALE@chrX@99468314-99470617@99468600-99470617         0.903226   \n",
       "87141          ALE@chrY@1158634-1168090@1161230-1168090              NaN   \n",
       "87142      ALE@chrY@90793417-90816349@90793417-90811189         0.994652   \n",
       "87143      ALE@chrY@90793417-90833771@90793417-90811189              NaN   \n",
       "87144      ALE@chrY@90793417-90833771@90793417-90816349         0.000000   \n",
       "\n",
       "       DIV-8_SRR645826  DIV-8_SRR645828  DIV-8_SRR645830  DIV-4_SRR645833  \\\n",
       "0                  NaN              NaN              NaN              NaN   \n",
       "1                  NaN              NaN              NaN              NaN   \n",
       "2             0.478261         0.627451         0.442623         0.635135   \n",
       "3             0.975309         0.944444         0.900000         0.933333   \n",
       "4                  NaN              NaN              NaN              NaN   \n",
       "...                ...              ...              ...              ...   \n",
       "87140         0.866667         0.884615         0.878049         0.800000   \n",
       "87141              NaN              NaN              NaN              NaN   \n",
       "87142         1.000000         0.984772         1.000000         1.000000   \n",
       "87143              NaN              NaN              NaN              NaN   \n",
       "87144         0.000000         0.010204         0.007042         0.026549   \n",
       "\n",
       "       DIV-4_SRR645835  DIV-4_SRR645837  DIV0_SRR645840  DIV0_SRR645842  ...  \\\n",
       "0                  NaN              NaN        1.000000        0.866667  ...   \n",
       "1                  NaN              NaN             NaN             NaN  ...   \n",
       "2             0.655172         0.698795        0.759214        0.844444  ...   \n",
       "3             0.962963         0.940299        0.944444        0.898734  ...   \n",
       "4                  NaN              NaN        0.902439        0.888889  ...   \n",
       "...                ...              ...             ...             ...  ...   \n",
       "87140         0.800000         0.869565        0.871795        0.923077  ...   \n",
       "87141              NaN              NaN             NaN             NaN  ...   \n",
       "87142         0.985714         0.990741        0.997717        0.997886  ...   \n",
       "87143              NaN              NaN             NaN             NaN  ...   \n",
       "87144         0.009569         0.018349        0.000000        0.006316  ...   \n",
       "\n",
       "       DIV21_SRR645870  DIV28_SRR645872  DIV28_SRR645875  DIV28_SRR645877  \\\n",
       "0                  NaN              NaN              NaN              NaN   \n",
       "1                  NaN              NaN              NaN              NaN   \n",
       "2             0.549872         0.709138         0.685510         0.689630   \n",
       "3             0.720930         0.820714         0.801047         0.801749   \n",
       "4             1.000000              NaN         1.000000              NaN   \n",
       "...                ...              ...              ...              ...   \n",
       "87140         0.980315         0.977011         0.971429         0.964286   \n",
       "87141              NaN              NaN              NaN              NaN   \n",
       "87142         1.000000         1.000000         1.000000         1.000000   \n",
       "87143              NaN              NaN              NaN              NaN   \n",
       "87144         0.000000         0.000000         0.000000         0.000000   \n",
       "\n",
       "       DIV28_SRR645879  DIV1_SRR645930  DIV1_SRR645932  DIV1_SRR645934  \\\n",
       "0                  NaN        1.000000        0.928571             NaN   \n",
       "1                  NaN             NaN             NaN             NaN   \n",
       "2             0.746364        0.709729        0.722504        0.766355   \n",
       "3             0.850962        0.824000        0.882122        0.866279   \n",
       "4                  NaN        1.000000        0.862069        1.000000   \n",
       "...                ...             ...             ...             ...   \n",
       "87140         0.988806        0.936047        0.965517        0.980392   \n",
       "87141              NaN             NaN             NaN             NaN   \n",
       "87142         1.000000        0.997222        0.996564        0.990868   \n",
       "87143              NaN             NaN             NaN             NaN   \n",
       "87144         0.000000        0.002778        0.000000        0.000000   \n",
       "\n",
       "       DIV1_SRR646092  DIV7_SRR646182  \n",
       "0                 NaN             NaN  \n",
       "1                 NaN             NaN  \n",
       "2            0.773672        0.794492  \n",
       "3            0.861635        0.820789  \n",
       "4                 NaN        0.854545  \n",
       "...               ...             ...  \n",
       "87140        0.944882        0.970060  \n",
       "87141             NaN             NaN  \n",
       "87142        1.000000        0.996942  \n",
       "87143             NaN             NaN  \n",
       "87144        0.000000        0.003058  \n",
       "\n",
       "[87145 rows x 32 columns]"
      ]
     },
     "execution_count": 45,
     "metadata": {},
     "output_type": "execute_result"
    }
   ],
   "source": [
    "# mouse mESC neuronal differentiation (SRP055008)\n",
    "psi_matrix_PRJNA185305_df = pd.read_csv(\"/rhome/naotok/bigdata/NeuronalMaturationSplicing/splicing/PRJNA185305/Shiba/results/splicing/PSI_matrix_sample.txt\", sep = \"\\t\")\n",
    "psi_matrix_PRJNA185305_df = psi_matrix_PRJNA185305_df.drop(columns = [\"event_id\"])\n",
    "# group\n",
    "group_df = pd.read_csv(\"/rhome/naotok/NeuronalMaturationSplicing/scripts/splicing/experiment_Shiba_PRJNA185305.tsv\", sep = \"\\t\", usecols = [\"sample\", \"group\"])\n",
    "group_dict = {k: v for k, v in zip(group_df[\"sample\"], group_df[\"group\"])}\n",
    "psi_matrix_PRJNA185305_df.columns = [group_dict[x] + \"_\" + x if x != \"pos_id\" else x for x in psi_matrix_PRJNA185305_df.columns]\n",
    "psi_matrix_PRJNA185305_df"
   ]
  },
  {
   "cell_type": "markdown",
   "id": "984beac3",
   "metadata": {},
   "source": [
    "## Merge"
   ]
  },
  {
   "cell_type": "code",
   "execution_count": null,
   "id": "3d9a61cb",
   "metadata": {
    "ExecuteTime": {
     "end_time": "2025-04-15T00:44:02.001776Z",
     "start_time": "2025-04-15T00:44:01.943229Z"
    }
   },
   "outputs": [],
   "source": [
    "psi_matrix_merge_df = pd.merge(psi_matrix_df, psi_matrix_PRJNA185305_df, on = \"pos_id\")\n",
    "psi_matrix_merge_df = psi_matrix_merge_df.set_index(\"pos_id\")"
   ]
  },
  {
   "cell_type": "code",
   "execution_count": 47,
   "id": "2be90554",
   "metadata": {
    "ExecuteTime": {
     "end_time": "2025-04-15T00:44:02.007807Z",
     "start_time": "2025-04-15T00:44:02.003365Z"
    }
   },
   "outputs": [],
   "source": [
    "def mtx2pca(df, genes) -> pd.DataFrame:\n",
    "    '''\n",
    "    Perform PCA on the input dataframe\n",
    "\n",
    "    Args:\n",
    "    - df (pd.DataFrame): input dataframe\n",
    "    - genes (int): number of highly-variable genes to calculate PCs\n",
    "\n",
    "    Returns:\n",
    "    - feature_df (pd.DataFrame): dataframe containing principal components\n",
    "    - contribution_df (pd.DataFrame): dataframe containing the contribution of each principal component\n",
    "    '''\n",
    "    df = df.dropna()\n",
    "    # Keep rows of top n highly-variable genes\n",
    "    if df.shape[0] > genes:\n",
    "        df = df.loc[df.var(axis=1).sort_values(ascending=False).index[:genes]]\n",
    "    # Z-score normalization across samples\n",
    "    normalized_df = df.T.apply(stats.zscore, ddof = 1)\n",
    "    # PCA\n",
    "    pca = PCA()\n",
    "    pca.fit(normalized_df)\n",
    "    # Feature\n",
    "    feature = pca.transform(normalized_df)\n",
    "    feature_df = pd.DataFrame(feature, columns=[\"PC{}\".format(x + 1) for x in range(len(feature))])\n",
    "    feature_df.index = df.columns\n",
    "    # Contribution\n",
    "    contribution_df = pd.DataFrame(pca.explained_variance_ratio_, index=[\"PC{}\".format(x + 1) for x in range(len(feature))])\n",
    "    return(feature_df, contribution_df)"
   ]
  },
  {
   "cell_type": "code",
   "execution_count": 48,
   "id": "ae698256",
   "metadata": {
    "ExecuteTime": {
     "end_time": "2025-04-15T00:44:04.005894Z",
     "start_time": "2025-04-15T00:44:02.009155Z"
    }
   },
   "outputs": [],
   "source": [
    "feature_df, contribution_df = mtx2pca(psi_matrix_merge_df, 3000)\n",
    "PC1_contribution = (contribution_df[0][0]*100).round(2)\n",
    "PC2_contribution = (contribution_df[0][1]*100).round(2)\n",
    "pca_df = feature_df.copy()\n",
    "pca_df[\"group\"] = pca_df.index.map(lambda x: x.split(\"_\")[0])\n",
    "pca_df[\"group\"] = pca_df[\"group\"].map(lambda x: x if x != \"KO\" else \"Ptbp1 cKO\").map(lambda x: \"Control\" if x == \"WT\" else x)"
   ]
  },
  {
   "cell_type": "markdown",
   "id": "38b14c90",
   "metadata": {},
   "source": [
    "## Plot"
   ]
  },
  {
   "cell_type": "code",
   "execution_count": 49,
   "id": "87c8fc5c",
   "metadata": {
    "ExecuteTime": {
     "end_time": "2025-04-15T00:44:04.011997Z",
     "start_time": "2025-04-15T00:44:04.007712Z"
    }
   },
   "outputs": [
    {
     "data": {
      "text/plain": [
       "array(['Ptbp1 cKO', 'Control', 'DIV-8', 'DIV-4', 'DIV0', 'DIV7', 'DIV16',\n",
       "       'DIV21', 'DIV28', 'DIV1'], dtype=object)"
      ]
     },
     "execution_count": 49,
     "metadata": {},
     "output_type": "execute_result"
    }
   ],
   "source": [
    "pca_df[\"group\"].unique()"
   ]
  },
  {
   "cell_type": "code",
   "execution_count": 50,
   "id": "94e5cc41",
   "metadata": {
    "ExecuteTime": {
     "end_time": "2025-04-15T00:44:04.022662Z",
     "start_time": "2025-04-15T00:44:04.013708Z"
    },
    "scrolled": false
   },
   "outputs": [
    {
     "data": {
      "text/plain": [
       "{'DIV-8': '#482878',\n",
       " 'DIV-4': '#3e4989',\n",
       " 'DIV0': '#31688e',\n",
       " 'DIV1': '#26828e',\n",
       " 'DIV7': '#1f9e89',\n",
       " 'DIV16': '#35b779',\n",
       " 'DIV21': '#6ece58',\n",
       " 'DIV28': '#b5de2b',\n",
       " 'Control': 'black',\n",
       " 'Ptbp1 cKO': 'red'}"
      ]
     },
     "execution_count": 50,
     "metadata": {},
     "output_type": "execute_result"
    }
   ],
   "source": [
    "color_palette_dict = {}\n",
    "viridis = sns.color_palette(\"viridis\", n_colors = 8).as_hex()\n",
    "Set2 = sns.color_palette(\"Set2\").as_hex()\n",
    "i = 0\n",
    "for group in [\"DIV-8\", \"DIV-4\", \"DIV0\", \"DIV1\", \"DIV7\", \"DIV16\", \"DIV21\", \"DIV28\"]:\n",
    "    color_palette_dict[group] = viridis[i]\n",
    "    i+=1\n",
    "color_palette_dict[\"Control\"] = \"black\"\n",
    "color_palette_dict[\"Ptbp1 cKO\"] = \"red\"\n",
    "color_palette_dict"
   ]
  },
  {
   "cell_type": "code",
   "execution_count": 51,
   "id": "450bd73f",
   "metadata": {
    "ExecuteTime": {
     "end_time": "2025-04-15T00:44:04.031303Z",
     "start_time": "2025-04-15T00:44:04.024397Z"
    }
   },
   "outputs": [
    {
     "data": {
      "text/html": [
       "<svg  width=\"440\" height=\"55\"><rect x=\"0\" y=\"0\" width=\"55\" height=\"55\" style=\"fill:#482878;stroke-width:2;stroke:rgb(255,255,255)\"/><rect x=\"55\" y=\"0\" width=\"55\" height=\"55\" style=\"fill:#3e4989;stroke-width:2;stroke:rgb(255,255,255)\"/><rect x=\"110\" y=\"0\" width=\"55\" height=\"55\" style=\"fill:#31688e;stroke-width:2;stroke:rgb(255,255,255)\"/><rect x=\"165\" y=\"0\" width=\"55\" height=\"55\" style=\"fill:#26828e;stroke-width:2;stroke:rgb(255,255,255)\"/><rect x=\"220\" y=\"0\" width=\"55\" height=\"55\" style=\"fill:#1f9e89;stroke-width:2;stroke:rgb(255,255,255)\"/><rect x=\"275\" y=\"0\" width=\"55\" height=\"55\" style=\"fill:#35b779;stroke-width:2;stroke:rgb(255,255,255)\"/><rect x=\"330\" y=\"0\" width=\"55\" height=\"55\" style=\"fill:#6ece58;stroke-width:2;stroke:rgb(255,255,255)\"/><rect x=\"385\" y=\"0\" width=\"55\" height=\"55\" style=\"fill:#b5de2b;stroke-width:2;stroke:rgb(255,255,255)\"/></svg>"
      ],
      "text/plain": [
       "['#482878',\n",
       " '#3e4989',\n",
       " '#31688e',\n",
       " '#26828e',\n",
       " '#1f9e89',\n",
       " '#35b779',\n",
       " '#6ece58',\n",
       " '#b5de2b']"
      ]
     },
     "execution_count": 51,
     "metadata": {},
     "output_type": "execute_result"
    }
   ],
   "source": [
    "viridis"
   ]
  },
  {
   "cell_type": "code",
   "execution_count": null,
   "id": "c4fec5d3",
   "metadata": {
    "ExecuteTime": {
     "end_time": "2025-04-15T01:17:51.704478Z",
     "start_time": "2025-04-15T01:17:50.099907Z"
    }
   },
   "outputs": [
    {
     "name": "stderr",
     "output_type": "stream",
     "text": [
      "/opt/conda/lib/python3.10/site-packages/seaborn/axisgrid.py:118: UserWarning: The figure layout has changed to tight\n",
      "  self._figure.tight_layout(*args, **kwargs)\n"
     ]
    },
    {
     "data": {
      "image/png": "[encoded data removed]",
      "text/plain": [
       "<Figure size 467x350 with 1 Axes>"
      ]
     },
     "metadata": {},
     "output_type": "display_data"
    }
   ],
   "source": [
    "g = sns.relplot(\n",
    "    data = pca_df,\n",
    "    x = \"PC1\",\n",
    "    y = \"PC2\",\n",
    "    hue = \"group\",\n",
    "    hue_order = [\"Control\", \"Ptbp1 cKO\"] + [\"DIV-8\", \"DIV-4\", \"DIV0\", \"DIV1\", \"DIV7\", \"DIV16\", \"DIV21\", \"DIV28\"],\n",
    "    s = 100,\n",
    "    edgecolor = \"black\",\n",
    "    height = 3.5,\n",
    "    aspect = 1,\n",
    "    palette = color_palette_dict\n",
    ")\n",
    "g.set_xlabels(f\"PC1 ({PC1_contribution}%)\")\n",
    "g.set_ylabels(f\"PC2 ({PC2_contribution}%)\")\n",
    "g._legend.set_title(\"\")\n",
    "# Italicize 'Ptbp1 cKO' in legend\n",
    "for text in g._legend.texts:\n",
    "    if text.get_text() == \"Ptbp1 cKO\":\n",
    "        text.set_text(r\"$\\it{Ptbp1}$ cKO\")  # LaTeX-style italic\n",
    "plt.savefig(\"/rhome/naotok/bigdata/Ptbp1_astrocyte/Jul24/figure/PCA_vs_neuron_PRJNA185305.png\", bbox_inches = \"tight\", dpi = 1000)"
   ]
  },
  {
   "cell_type": "markdown",
   "id": "95ba2b81",
   "metadata": {},
   "source": [
    "# Correlation of PSI"
   ]
  },
  {
   "cell_type": "code",
   "execution_count": null,
   "id": "8fce7eb6",
   "metadata": {
    "ExecuteTime": {
     "end_time": "2025-04-15T00:32:39.709154Z",
     "start_time": "2025-04-15T00:32:38.472274Z"
    }
   },
   "outputs": [],
   "source": [
    "DSE_path_dict = {\n",
    "    \"astrocyte\": \"/rhome/naotok/bigdata/Ptbp1_astrocyte/Jul24/Shiba/results/splicing\",\n",
    "    \"neuron\": \"/rhome/naotok/bigdata/NeuronalMaturationSplicing/splicing/PRJNA185305/Shiba_DIV0vsDIV28/results/splicing\"\n",
    "}\n",
    "\n",
    "DSE_set = set()\n",
    "events_Shiba = [\"SE\", \"FIVE\", \"THREE\", \"MXE\", \"RI\", \"MSE\", \"AFE\", \"ALE\"]\n",
    "for path in DSE_path_dict:\n",
    "    for event in events_Shiba:\n",
    "        tmp_df = pd.read_csv(DSE_path_dict[path] + \"/PSI_\" + event + \".txt\", sep = \"\\t\")\n",
    "        DSE_set = DSE_set | set(tmp_df[(tmp_df[\"Diff events\"] == \"Yes\") & (tmp_df[\"p_ttest\"] < 0.05)][\"pos_id\"])"
   ]
  },
  {
   "cell_type": "code",
   "execution_count": 19,
   "id": "bf0900e6",
   "metadata": {
    "ExecuteTime": {
     "end_time": "2025-04-15T00:32:39.717116Z",
     "start_time": "2025-04-15T00:32:39.712603Z"
    }
   },
   "outputs": [
    {
     "data": {
      "text/plain": [
       "3644"
      ]
     },
     "execution_count": 19,
     "metadata": {},
     "output_type": "execute_result"
    }
   ],
   "source": [
    "len(DSE_set)"
   ]
  },
  {
   "cell_type": "code",
   "execution_count": 20,
   "id": "9212f6c0",
   "metadata": {
    "ExecuteTime": {
     "end_time": "2025-04-15T00:32:40.060673Z",
     "start_time": "2025-04-15T00:32:39.718268Z"
    }
   },
   "outputs": [
    {
     "name": "stderr",
     "output_type": "stream",
     "text": [
      "/scratch/naotok/14343570/ipykernel_1591463/3839284725.py:4: FutureWarning: The default value of numeric_only in DataFrameGroupBy.mean is deprecated. In a future version, numeric_only will default to False. Either specify numeric_only or select only columns which should be valid for the function.\n",
      "  psi_matrix_merge_melt_df = psi_matrix_merge_melt_df.groupby([\"pos_id\", \"group\"], as_index = False).mean()\n"
     ]
    },
    {
     "data": {
      "text/html": [
       "<div>\n",
       "<style scoped>\n",
       "    .dataframe tbody tr th:only-of-type {\n",
       "        vertical-align: middle;\n",
       "    }\n",
       "\n",
       "    .dataframe tbody tr th {\n",
       "        vertical-align: top;\n",
       "    }\n",
       "\n",
       "    .dataframe thead th {\n",
       "        text-align: right;\n",
       "    }\n",
       "</style>\n",
       "<table border=\"1\" class=\"dataframe\">\n",
       "  <thead>\n",
       "    <tr style=\"text-align: right;\">\n",
       "      <th>group</th>\n",
       "      <th>Control</th>\n",
       "      <th>Ptbp1 cKO</th>\n",
       "      <th>DIV0</th>\n",
       "      <th>DIV28</th>\n",
       "    </tr>\n",
       "    <tr>\n",
       "      <th>pos_id</th>\n",
       "      <th></th>\n",
       "      <th></th>\n",
       "      <th></th>\n",
       "      <th></th>\n",
       "    </tr>\n",
       "  </thead>\n",
       "  <tbody>\n",
       "    <tr>\n",
       "      <th>AFE@chr10@116549175-116581453@116549175-116580481</th>\n",
       "      <td>100.000000</td>\n",
       "      <td>95.148177</td>\n",
       "      <td>97.810653</td>\n",
       "      <td>83.122320</td>\n",
       "    </tr>\n",
       "    <tr>\n",
       "      <th>AFE@chr10@120227123-120227974@120227549-120227974</th>\n",
       "      <td>91.941232</td>\n",
       "      <td>97.793149</td>\n",
       "      <td>97.778868</td>\n",
       "      <td>74.024995</td>\n",
       "    </tr>\n",
       "    <tr>\n",
       "      <th>AFE@chr10@12538213-12614491@12538213-12547947</th>\n",
       "      <td>68.750000</td>\n",
       "      <td>58.333333</td>\n",
       "      <td>26.090576</td>\n",
       "      <td>100.000000</td>\n",
       "    </tr>\n",
       "    <tr>\n",
       "      <th>AFE@chr10@128747998-128765147@128748566-128765147</th>\n",
       "      <td>43.663984</td>\n",
       "      <td>38.572716</td>\n",
       "      <td>30.567581</td>\n",
       "      <td>10.775162</td>\n",
       "    </tr>\n",
       "    <tr>\n",
       "      <th>AFE@chr10@60002907-60004795@60003416-60004795</th>\n",
       "      <td>87.662037</td>\n",
       "      <td>93.937622</td>\n",
       "      <td>83.703704</td>\n",
       "      <td>60.990193</td>\n",
       "    </tr>\n",
       "  </tbody>\n",
       "</table>\n",
       "</div>"
      ],
      "text/plain": [
       "group                                                 Control  Ptbp1 cKO  \\\n",
       "pos_id                                                                     \n",
       "AFE@chr10@116549175-116581453@116549175-116580481  100.000000  95.148177   \n",
       "AFE@chr10@120227123-120227974@120227549-120227974   91.941232  97.793149   \n",
       "AFE@chr10@12538213-12614491@12538213-12547947       68.750000  58.333333   \n",
       "AFE@chr10@128747998-128765147@128748566-128765147   43.663984  38.572716   \n",
       "AFE@chr10@60002907-60004795@60003416-60004795       87.662037  93.937622   \n",
       "\n",
       "group                                                   DIV0       DIV28  \n",
       "pos_id                                                                    \n",
       "AFE@chr10@116549175-116581453@116549175-116580481  97.810653   83.122320  \n",
       "AFE@chr10@120227123-120227974@120227549-120227974  97.778868   74.024995  \n",
       "AFE@chr10@12538213-12614491@12538213-12547947      26.090576  100.000000  \n",
       "AFE@chr10@128747998-128765147@128748566-128765147  30.567581   10.775162  \n",
       "AFE@chr10@60002907-60004795@60003416-60004795      83.703704   60.990193  "
      ]
     },
     "execution_count": 20,
     "metadata": {},
     "output_type": "execute_result"
    }
   ],
   "source": [
    "psi_matrix_merge_melt_df = psi_matrix_merge_df.reset_index().melt(id_vars = \"pos_id\", var_name = \"sample\", value_name = \"PSI\")\n",
    "psi_matrix_merge_melt_df = psi_matrix_merge_melt_df[psi_matrix_merge_melt_df[\"pos_id\"].isin(DSE_set)]\n",
    "psi_matrix_merge_melt_df[\"group\"] = psi_matrix_merge_melt_df[\"sample\"].map(lambda x: x.split(\"_\")[0])\n",
    "psi_matrix_merge_melt_df = psi_matrix_merge_melt_df.groupby([\"pos_id\", \"group\"], as_index = False).mean()\n",
    "psi_matrix_mean_df = psi_matrix_merge_melt_df.pivot(index = \"pos_id\", columns = \"group\", values = \"PSI\")\n",
    "psi_matrix_mean_df = psi_matrix_mean_df.rename(columns = {\"WT\": \"Control\", \"KO\": \"Ptbp1 cKO\"})\n",
    "psi_matrix_mean_df = psi_matrix_mean_df[[\"Control\", \"Ptbp1 cKO\", \"DIV0\", \"DIV28\"]]\n",
    "psi_matrix_mean_df = psi_matrix_mean_df.dropna()\n",
    "psi_matrix_mean_df = psi_matrix_mean_df*100\n",
    "psi_matrix_mean_df.head()"
   ]
  },
  {
   "cell_type": "code",
   "execution_count": 21,
   "id": "08a8d83a",
   "metadata": {
    "ExecuteTime": {
     "end_time": "2025-04-15T00:32:40.070649Z",
     "start_time": "2025-04-15T00:32:40.063365Z"
    }
   },
   "outputs": [
    {
     "data": {
      "text/html": [
       "<div>\n",
       "<style scoped>\n",
       "    .dataframe tbody tr th:only-of-type {\n",
       "        vertical-align: middle;\n",
       "    }\n",
       "\n",
       "    .dataframe tbody tr th {\n",
       "        vertical-align: top;\n",
       "    }\n",
       "\n",
       "    .dataframe thead th {\n",
       "        text-align: right;\n",
       "    }\n",
       "</style>\n",
       "<table border=\"1\" class=\"dataframe\">\n",
       "  <thead>\n",
       "    <tr style=\"text-align: right;\">\n",
       "      <th>group</th>\n",
       "      <th>Control</th>\n",
       "      <th>Ptbp1 cKO</th>\n",
       "      <th>DIV0</th>\n",
       "      <th>DIV28</th>\n",
       "    </tr>\n",
       "    <tr>\n",
       "      <th>group</th>\n",
       "      <th></th>\n",
       "      <th></th>\n",
       "      <th></th>\n",
       "      <th></th>\n",
       "    </tr>\n",
       "  </thead>\n",
       "  <tbody>\n",
       "    <tr>\n",
       "      <th>Control</th>\n",
       "      <td>1.000000</td>\n",
       "      <td>0.919828</td>\n",
       "      <td>0.788232</td>\n",
       "      <td>0.235208</td>\n",
       "    </tr>\n",
       "    <tr>\n",
       "      <th>Ptbp1 cKO</th>\n",
       "      <td>0.919828</td>\n",
       "      <td>1.000000</td>\n",
       "      <td>0.798081</td>\n",
       "      <td>0.238888</td>\n",
       "    </tr>\n",
       "    <tr>\n",
       "      <th>DIV0</th>\n",
       "      <td>0.788232</td>\n",
       "      <td>0.798081</td>\n",
       "      <td>1.000000</td>\n",
       "      <td>0.155074</td>\n",
       "    </tr>\n",
       "    <tr>\n",
       "      <th>DIV28</th>\n",
       "      <td>0.235208</td>\n",
       "      <td>0.238888</td>\n",
       "      <td>0.155074</td>\n",
       "      <td>1.000000</td>\n",
       "    </tr>\n",
       "  </tbody>\n",
       "</table>\n",
       "</div>"
      ],
      "text/plain": [
       "group       Control  Ptbp1 cKO      DIV0     DIV28\n",
       "group                                             \n",
       "Control    1.000000   0.919828  0.788232  0.235208\n",
       "Ptbp1 cKO  0.919828   1.000000  0.798081  0.238888\n",
       "DIV0       0.788232   0.798081  1.000000  0.155074\n",
       "DIV28      0.235208   0.238888  0.155074  1.000000"
      ]
     },
     "execution_count": 21,
     "metadata": {},
     "output_type": "execute_result"
    }
   ],
   "source": [
    "psi_matrix_mean_df.corr(method = \"spearman\")"
   ]
  },
  {
   "cell_type": "code",
   "execution_count": null,
   "id": "2944ebb3",
   "metadata": {
    "ExecuteTime": {
     "end_time": "2025-04-15T00:32:45.251839Z",
     "start_time": "2025-04-15T00:32:40.071772Z"
    },
    "scrolled": false
   },
   "outputs": [
    {
     "name": "stderr",
     "output_type": "stream",
     "text": [
      "/opt/conda/lib/python3.10/site-packages/seaborn/axisgrid.py:118: UserWarning: The figure layout has changed to tight\n",
      "  self._figure.tight_layout(*args, **kwargs)\n"
     ]
    },
    {
     "data": {
      "image/png": "[encoded data removed]",
      "text/plain": [
       "<Figure size 440x400 with 14 Axes>"
      ]
     },
     "metadata": {},
     "output_type": "display_data"
    }
   ],
   "source": [
    "g = sns.pairplot(\n",
    "    data = psi_matrix_mean_df,\n",
    "    kind = \"reg\",\n",
    "    corner = True,\n",
    "    plot_kws = {\n",
    "        \"scatter_kws\": {\"alpha\": 0.3, \"s\": 0.05, \"color\": \"#8c96c6\"},\n",
    "        \"line_kws\": {\"color\": \"#8c96c6\"}\n",
    "    },\n",
    "    diag_kws = {\"color\": \"#8c96c6\"},\n",
    "    height = 1, aspect = 1.1\n",
    ")\n",
    "# Calculate and add Spearman's correlation coefficients in the same plot space\n",
    "for i in range(len(g.axes)):\n",
    "    for j in range(i):\n",
    "        ax = g.axes[i, j]\n",
    "        x = psi_matrix_mean_df.iloc[:, j]\n",
    "        y = psi_matrix_mean_df.iloc[:, i]\n",
    "        corr, _ = stats.spearmanr(x, y)\n",
    "        ax.annotate(f\"ρ = {corr:.2f}\", \n",
    "                    xy=(0.1, 0.9), xycoords='axes fraction', \n",
    "                    ha='left', va='center', fontsize=12)\n",
    "plt.savefig(\"/rhome/naotok/bigdata/Ptbp1_astrocyte/Jul24/figure/pairplot_vs_neuron_PRJNA185305.png\", bbox_inches = \"tight\", dpi = 1000)"
   ]
  },
  {
   "cell_type": "markdown",
   "id": "c613aba5",
   "metadata": {},
   "source": [
    "# dPSI of DSE in astrocyte vs. in vitro neurons"
   ]
  },
  {
   "cell_type": "code",
   "execution_count": null,
   "id": "dd4296ef",
   "metadata": {
    "ExecuteTime": {
     "end_time": "2025-04-15T00:32:45.571363Z",
     "start_time": "2025-04-15T00:32:45.254100Z"
    }
   },
   "outputs": [],
   "source": [
    "events_Shiba = [\"SE\", \"FIVE\", \"THREE\", \"MXE\", \"RI\", \"MSE\", \"AFE\", \"ALE\"]\n",
    "Shiba_astrocyte_df = pd.DataFrame()\n",
    "DSE_astrocyte_set = set()\n",
    "for event in events_Shiba:\n",
    "    tmp_df = pd.read_csv(\"/rhome/naotok/bigdata/Ptbp1_astrocyte/Jul24/Shiba/results/splicing/PSI_\" + event + \".txt\", sep = \"\\t\")\n",
    "    tmp_diff = set(tmp_df[(tmp_df[\"Diff events\"] == \"Yes\") & (tmp_df[\"p_ttest\"] < 0.05)][\"pos_id\"])\n",
    "    DSE_astrocyte_set = DSE_astrocyte_set | tmp_diff\n",
    "    tmp_df[\"group\"] = \"astrocyte\"\n",
    "    tmp_df = tmp_df[[\"pos_id\", \"Diff events\", \"dPSI\", \"group\"]]\n",
    "    Shiba_astrocyte_df = tmp_df if Shiba_astrocyte_df.empty else pd.concat([Shiba_astrocyte_df, tmp_df])"
   ]
  },
  {
   "cell_type": "code",
   "execution_count": 24,
   "id": "1ebd5ee9",
   "metadata": {
    "ExecuteTime": {
     "end_time": "2025-04-15T00:32:45.582006Z",
     "start_time": "2025-04-15T00:32:45.573172Z"
    }
   },
   "outputs": [
    {
     "data": {
      "text/html": [
       "<div>\n",
       "<style scoped>\n",
       "    .dataframe tbody tr th:only-of-type {\n",
       "        vertical-align: middle;\n",
       "    }\n",
       "\n",
       "    .dataframe tbody tr th {\n",
       "        vertical-align: top;\n",
       "    }\n",
       "\n",
       "    .dataframe thead th {\n",
       "        text-align: right;\n",
       "    }\n",
       "</style>\n",
       "<table border=\"1\" class=\"dataframe\">\n",
       "  <thead>\n",
       "    <tr style=\"text-align: right;\">\n",
       "      <th></th>\n",
       "      <th>pos_id</th>\n",
       "      <th>Diff events</th>\n",
       "      <th>dPSI</th>\n",
       "      <th>group</th>\n",
       "    </tr>\n",
       "  </thead>\n",
       "  <tbody>\n",
       "    <tr>\n",
       "      <th>0</th>\n",
       "      <td>SE@chr10@79856504-79856534@79854721-79858752</td>\n",
       "      <td>Yes</td>\n",
       "      <td>-0.850777</td>\n",
       "      <td>astrocyte</td>\n",
       "    </tr>\n",
       "    <tr>\n",
       "      <th>1</th>\n",
       "      <td>SE@chr8@70599840-70599899@70599757-70600396</td>\n",
       "      <td>Yes</td>\n",
       "      <td>-0.150211</td>\n",
       "      <td>astrocyte</td>\n",
       "    </tr>\n",
       "    <tr>\n",
       "      <th>2</th>\n",
       "      <td>SE@chr12@111825576-111825632@111825108-111827543</td>\n",
       "      <td>Yes</td>\n",
       "      <td>0.167704</td>\n",
       "      <td>astrocyte</td>\n",
       "    </tr>\n",
       "    <tr>\n",
       "      <th>3</th>\n",
       "      <td>SE@chr12@111825579-111825632@111825108-111827543</td>\n",
       "      <td>Yes</td>\n",
       "      <td>0.170582</td>\n",
       "      <td>astrocyte</td>\n",
       "    </tr>\n",
       "    <tr>\n",
       "      <th>4</th>\n",
       "      <td>SE@chr2@152703995-152704194@152700268-152704622</td>\n",
       "      <td>Yes</td>\n",
       "      <td>0.182524</td>\n",
       "      <td>astrocyte</td>\n",
       "    </tr>\n",
       "    <tr>\n",
       "      <th>...</th>\n",
       "      <td>...</td>\n",
       "      <td>...</td>\n",
       "      <td>...</td>\n",
       "      <td>...</td>\n",
       "    </tr>\n",
       "    <tr>\n",
       "      <th>2769</th>\n",
       "      <td>ALE@chrX@7889763-7894191@7889763-7892140</td>\n",
       "      <td>No</td>\n",
       "      <td>0.000000</td>\n",
       "      <td>astrocyte</td>\n",
       "    </tr>\n",
       "    <tr>\n",
       "      <th>2770</th>\n",
       "      <td>ALE@chrX@7892867-7894191@7892867-7893968</td>\n",
       "      <td>No</td>\n",
       "      <td>0.000000</td>\n",
       "      <td>astrocyte</td>\n",
       "    </tr>\n",
       "    <tr>\n",
       "      <th>2771</th>\n",
       "      <td>ALE@chrX@8141208-8143251@8142955-8143251</td>\n",
       "      <td>No</td>\n",
       "      <td>0.000000</td>\n",
       "      <td>astrocyte</td>\n",
       "    </tr>\n",
       "    <tr>\n",
       "      <th>2772</th>\n",
       "      <td>ALE@chrX@95049346-95058817@95055011-95058817</td>\n",
       "      <td>No</td>\n",
       "      <td>0.000000</td>\n",
       "      <td>astrocyte</td>\n",
       "    </tr>\n",
       "    <tr>\n",
       "      <th>2773</th>\n",
       "      <td>ALE@chrX@98803180-98890082@98874022-98890082</td>\n",
       "      <td>No</td>\n",
       "      <td>0.000000</td>\n",
       "      <td>astrocyte</td>\n",
       "    </tr>\n",
       "  </tbody>\n",
       "</table>\n",
       "<p>56051 rows × 4 columns</p>\n",
       "</div>"
      ],
      "text/plain": [
       "                                                pos_id Diff events      dPSI  \\\n",
       "0         SE@chr10@79856504-79856534@79854721-79858752         Yes -0.850777   \n",
       "1          SE@chr8@70599840-70599899@70599757-70600396         Yes -0.150211   \n",
       "2     SE@chr12@111825576-111825632@111825108-111827543         Yes  0.167704   \n",
       "3     SE@chr12@111825579-111825632@111825108-111827543         Yes  0.170582   \n",
       "4      SE@chr2@152703995-152704194@152700268-152704622         Yes  0.182524   \n",
       "...                                                ...         ...       ...   \n",
       "2769          ALE@chrX@7889763-7894191@7889763-7892140          No  0.000000   \n",
       "2770          ALE@chrX@7892867-7894191@7892867-7893968          No  0.000000   \n",
       "2771          ALE@chrX@8141208-8143251@8142955-8143251          No  0.000000   \n",
       "2772      ALE@chrX@95049346-95058817@95055011-95058817          No  0.000000   \n",
       "2773      ALE@chrX@98803180-98890082@98874022-98890082          No  0.000000   \n",
       "\n",
       "          group  \n",
       "0     astrocyte  \n",
       "1     astrocyte  \n",
       "2     astrocyte  \n",
       "3     astrocyte  \n",
       "4     astrocyte  \n",
       "...         ...  \n",
       "2769  astrocyte  \n",
       "2770  astrocyte  \n",
       "2771  astrocyte  \n",
       "2772  astrocyte  \n",
       "2773  astrocyte  \n",
       "\n",
       "[56051 rows x 4 columns]"
      ]
     },
     "execution_count": 24,
     "metadata": {},
     "output_type": "execute_result"
    }
   ],
   "source": [
    "Shiba_astrocyte_df"
   ]
  },
  {
   "cell_type": "code",
   "execution_count": 25,
   "id": "1fe2e836",
   "metadata": {
    "ExecuteTime": {
     "end_time": "2025-04-15T00:32:45.827687Z",
     "start_time": "2025-04-15T00:32:45.583747Z"
    }
   },
   "outputs": [],
   "source": [
    "Shiba_Neuron_df = pd.DataFrame()\n",
    "DSE_Neuron_set = set()\n",
    "for event in events_Shiba:\n",
    "    tmp_df = pd.read_csv(\"/rhome/naotok/bigdata/NeuronalMaturationSplicing/splicing/PRJNA185305/Shiba_DIV0vsDIV28/results/splicing/PSI_\" + event + \".txt\", sep = \"\\t\")\n",
    "    tmp_diff = set(tmp_df[(tmp_df[\"Diff events\"] == \"Yes\") & ((tmp_df[\"p_ttest\"] < 0.05))][\"pos_id\"])\n",
    "    DSE_Neuron_set = DSE_Neuron_set | tmp_diff\n",
    "    tmp_df[\"group\"] = \"Neuron\"\n",
    "    tmp_df = tmp_df[[\"pos_id\", \"Diff events\", \"dPSI\", \"group\"]]\n",
    "    Shiba_Neuron_df = tmp_df if Shiba_Neuron_df.empty else pd.concat([Shiba_Neuron_df, tmp_df])"
   ]
  },
  {
   "cell_type": "code",
   "execution_count": 26,
   "id": "31fd8780",
   "metadata": {
    "ExecuteTime": {
     "end_time": "2025-04-15T00:32:45.862684Z",
     "start_time": "2025-04-15T00:32:45.829175Z"
    }
   },
   "outputs": [
    {
     "data": {
      "text/html": [
       "<div>\n",
       "<style scoped>\n",
       "    .dataframe tbody tr th:only-of-type {\n",
       "        vertical-align: middle;\n",
       "    }\n",
       "\n",
       "    .dataframe tbody tr th {\n",
       "        vertical-align: top;\n",
       "    }\n",
       "\n",
       "    .dataframe thead th {\n",
       "        text-align: right;\n",
       "    }\n",
       "</style>\n",
       "<table border=\"1\" class=\"dataframe\">\n",
       "  <thead>\n",
       "    <tr style=\"text-align: right;\">\n",
       "      <th>group</th>\n",
       "      <th>Neuron</th>\n",
       "      <th>astrocyte</th>\n",
       "    </tr>\n",
       "    <tr>\n",
       "      <th>pos_id</th>\n",
       "      <th></th>\n",
       "      <th></th>\n",
       "    </tr>\n",
       "  </thead>\n",
       "  <tbody>\n",
       "    <tr>\n",
       "      <th>AFE@chr10@116549175-116581453@116549175-116580481</th>\n",
       "      <td>-14.548023</td>\n",
       "      <td>-4.545455</td>\n",
       "    </tr>\n",
       "    <tr>\n",
       "      <th>AFE@chr10@120227123-120227974@120227549-120227974</th>\n",
       "      <td>-24.404872</td>\n",
       "      <td>7.321652</td>\n",
       "    </tr>\n",
       "    <tr>\n",
       "      <th>AFE@chr10@12538213-12614491@12538213-12547947</th>\n",
       "      <td>73.913043</td>\n",
       "      <td>-3.743961</td>\n",
       "    </tr>\n",
       "    <tr>\n",
       "      <th>AFE@chr10@128747998-128765147@128748566-128765147</th>\n",
       "      <td>-19.554277</td>\n",
       "      <td>-15.438787</td>\n",
       "    </tr>\n",
       "    <tr>\n",
       "      <th>AFE@chr10@60002907-60004795@60003416-60004795</th>\n",
       "      <td>-22.133599</td>\n",
       "      <td>5.675598</td>\n",
       "    </tr>\n",
       "    <tr>\n",
       "      <th>...</th>\n",
       "      <td>...</td>\n",
       "      <td>...</td>\n",
       "    </tr>\n",
       "    <tr>\n",
       "      <th>THREE@chrX@152340393-152341540@152340380-152341540</th>\n",
       "      <td>-23.162827</td>\n",
       "      <td>-2.785614</td>\n",
       "    </tr>\n",
       "    <tr>\n",
       "      <th>THREE@chrX@48578556-48588703@48578529-48588703</th>\n",
       "      <td>-9.842995</td>\n",
       "      <td>-32.019850</td>\n",
       "    </tr>\n",
       "    <tr>\n",
       "      <th>THREE@chrX@74017511-74018130@74017430-74018130</th>\n",
       "      <td>3.921569</td>\n",
       "      <td>-13.333333</td>\n",
       "    </tr>\n",
       "    <tr>\n",
       "      <th>THREE@chrX@74022381-74022473@74022249-74022473</th>\n",
       "      <td>19.616205</td>\n",
       "      <td>1.205839</td>\n",
       "    </tr>\n",
       "    <tr>\n",
       "      <th>THREE@chrX@7724291-7725740@7724291-7725931</th>\n",
       "      <td>0.000000</td>\n",
       "      <td>-10.270855</td>\n",
       "    </tr>\n",
       "  </tbody>\n",
       "</table>\n",
       "<p>2710 rows × 2 columns</p>\n",
       "</div>"
      ],
      "text/plain": [
       "group                                                  Neuron  astrocyte\n",
       "pos_id                                                                  \n",
       "AFE@chr10@116549175-116581453@116549175-116580481  -14.548023  -4.545455\n",
       "AFE@chr10@120227123-120227974@120227549-120227974  -24.404872   7.321652\n",
       "AFE@chr10@12538213-12614491@12538213-12547947       73.913043  -3.743961\n",
       "AFE@chr10@128747998-128765147@128748566-128765147  -19.554277 -15.438787\n",
       "AFE@chr10@60002907-60004795@60003416-60004795      -22.133599   5.675598\n",
       "...                                                       ...        ...\n",
       "THREE@chrX@152340393-152341540@152340380-152341540 -23.162827  -2.785614\n",
       "THREE@chrX@48578556-48588703@48578529-48588703      -9.842995 -32.019850\n",
       "THREE@chrX@74017511-74018130@74017430-74018130       3.921569 -13.333333\n",
       "THREE@chrX@74022381-74022473@74022249-74022473      19.616205   1.205839\n",
       "THREE@chrX@7724291-7725740@7724291-7725931           0.000000 -10.270855\n",
       "\n",
       "[2710 rows x 2 columns]"
      ]
     },
     "execution_count": 26,
     "metadata": {},
     "output_type": "execute_result"
    }
   ],
   "source": [
    "DSE_astrocyte_Neuron_set = DSE_astrocyte_set | DSE_Neuron_set\n",
    "Shiba_astrocyte_Neuron_df = pd.concat([Shiba_astrocyte_df, Shiba_Neuron_df])\n",
    "Shiba_astrocyte_Neuron_df = Shiba_astrocyte_Neuron_df[Shiba_astrocyte_Neuron_df[\"pos_id\"].isin(DSE_astrocyte_Neuron_set)]\n",
    "Shiba_astrocyte_Neuron_pivot_df = Shiba_astrocyte_Neuron_df.pivot(index = \"pos_id\", columns = \"group\", values = \"dPSI\").dropna()\n",
    "Shiba_astrocyte_Neuron_pivot_df = Shiba_astrocyte_Neuron_pivot_df*100\n",
    "Shiba_astrocyte_Neuron_pivot_df"
   ]
  },
  {
   "cell_type": "code",
   "execution_count": null,
   "id": "298803a2",
   "metadata": {
    "ExecuteTime": {
     "end_time": "2025-04-15T00:33:20.687294Z",
     "start_time": "2025-04-15T00:33:19.731449Z"
    },
    "scrolled": false
   },
   "outputs": [
    {
     "name": "stderr",
     "output_type": "stream",
     "text": [
      "/opt/conda/lib/python3.10/site-packages/seaborn/axisgrid.py:118: UserWarning: The figure layout has changed to tight\n",
      "  self._figure.tight_layout(*args, **kwargs)\n"
     ]
    },
    {
     "data": {
      "image/png": "[encoded data removed]",
      "text/plain": [
       "<Figure size 300x300 with 1 Axes>"
      ]
     },
     "metadata": {},
     "output_type": "display_data"
    }
   ],
   "source": [
    "g = sns.relplot(\n",
    "    data = Shiba_astrocyte_Neuron_pivot_df,\n",
    "    x = \"astrocyte\",\n",
    "    y = \"Neuron\",\n",
    "    height = 3,\n",
    "    s = 4,\n",
    "    edgecolor = None,\n",
    "    alpha = 0.4,\n",
    "    color = \"#8c96c6\"\n",
    ")\n",
    "g.set(xlim = (-105, 105), ylim = (-105, 105))\n",
    "g.set_xlabels(\"dPSI in astrocytes\\n(Ptbp1 cKO vs. Control)\")\n",
    "g.set_ylabels(\"dPSI in mESC-derived neurons\\n(DIV28 vs. DIV0)\")\n",
    "plt.axhline(10, color = \"black\", ls = \"--\")\n",
    "plt.axhline(-10, color = \"black\", ls = \"--\")\n",
    "plt.axvline(10, color = \"black\", ls = \"--\")\n",
    "plt.axvline(-10, color = \"black\", ls = \"--\")\n",
    "\n",
    "# Display counts in each fraction\n",
    "plt.text(60, 60, 'F1', ha='center', va='center')\n",
    "plt.text(0, 60, 'F2', ha='center', va='center')\n",
    "plt.text(-60, 60, 'F3', ha='center', va='center')\n",
    "plt.text(-60, 0, 'F4', ha='center', va='center')\n",
    "plt.text(-60, -60, 'F5', ha='center', va='center')\n",
    "plt.text(0, -60, 'F6', ha='center', va='center')\n",
    "plt.text(60, -60, 'F7', ha='center', va='center')\n",
    "plt.text(60, 0, 'F8', ha='center', va='center')\n",
    "\n",
    "plt.savefig(\"/rhome/naotok/bigdata/Ptbp1_astrocyte/Jul24/figure/relplot_vs_vitro_DIV0vsDIV28_dPSI.png\", bbox_inches = \"tight\", dpi = 1000)"
   ]
  },
  {
   "cell_type": "code",
   "execution_count": 21,
   "id": "5118dd13",
   "metadata": {
    "ExecuteTime": {
     "end_time": "2025-03-20T17:17:00.376597Z",
     "start_time": "2025-03-20T17:17:00.345271Z"
    }
   },
   "outputs": [],
   "source": [
    "def dPSI_grouping(x):\n",
    "    if x[\"astrocyte\"] > 10:\n",
    "        if x[\"Neuron\"] > 10:\n",
    "            group = \"F1\"\n",
    "        elif x[\"Neuron\"] > -10:\n",
    "            group = \"F8\"\n",
    "        elif x[\"Neuron\"] < -10:\n",
    "            group = \"F7\"\n",
    "    elif x[\"astrocyte\"] < -10:\n",
    "        if x[\"Neuron\"] > 10:\n",
    "            group = \"F3\"\n",
    "        elif x[\"Neuron\"] > -10:\n",
    "            group = \"F4\"\n",
    "        elif x[\"Neuron\"] < -10:\n",
    "            group = \"F5\"\n",
    "    else:\n",
    "        if x[\"Neuron\"] > 10:\n",
    "            group = \"F2\"\n",
    "        elif x[\"Neuron\"] < -10:\n",
    "            group = \"F6\"\n",
    "    return(group)\n",
    "\n",
    "Shiba_astrocyte_Neuron_pivot_df[\"group\"] = Shiba_astrocyte_Neuron_pivot_df.apply(dPSI_grouping, axis = 1)"
   ]
  },
  {
   "cell_type": "code",
   "execution_count": 22,
   "id": "91cfc759",
   "metadata": {
    "ExecuteTime": {
     "end_time": "2025-03-20T17:17:00.388050Z",
     "start_time": "2025-03-20T17:17:00.378257Z"
    }
   },
   "outputs": [
    {
     "data": {
      "text/html": [
       "<div>\n",
       "<style scoped>\n",
       "    .dataframe tbody tr th:only-of-type {\n",
       "        vertical-align: middle;\n",
       "    }\n",
       "\n",
       "    .dataframe tbody tr th {\n",
       "        vertical-align: top;\n",
       "    }\n",
       "\n",
       "    .dataframe thead th {\n",
       "        text-align: right;\n",
       "    }\n",
       "</style>\n",
       "<table border=\"1\" class=\"dataframe\">\n",
       "  <thead>\n",
       "    <tr style=\"text-align: right;\">\n",
       "      <th></th>\n",
       "      <th>group</th>\n",
       "      <th>size</th>\n",
       "      <th>fraction</th>\n",
       "    </tr>\n",
       "  </thead>\n",
       "  <tbody>\n",
       "    <tr>\n",
       "      <th>0</th>\n",
       "      <td>F1</td>\n",
       "      <td>254</td>\n",
       "      <td>9.37</td>\n",
       "    </tr>\n",
       "    <tr>\n",
       "      <th>1</th>\n",
       "      <td>F2</td>\n",
       "      <td>1081</td>\n",
       "      <td>39.89</td>\n",
       "    </tr>\n",
       "    <tr>\n",
       "      <th>2</th>\n",
       "      <td>F3</td>\n",
       "      <td>146</td>\n",
       "      <td>5.39</td>\n",
       "    </tr>\n",
       "    <tr>\n",
       "      <th>3</th>\n",
       "      <td>F4</td>\n",
       "      <td>43</td>\n",
       "      <td>1.59</td>\n",
       "    </tr>\n",
       "    <tr>\n",
       "      <th>4</th>\n",
       "      <td>F5</td>\n",
       "      <td>127</td>\n",
       "      <td>4.69</td>\n",
       "    </tr>\n",
       "    <tr>\n",
       "      <th>5</th>\n",
       "      <td>F6</td>\n",
       "      <td>825</td>\n",
       "      <td>30.44</td>\n",
       "    </tr>\n",
       "    <tr>\n",
       "      <th>6</th>\n",
       "      <td>F7</td>\n",
       "      <td>160</td>\n",
       "      <td>5.90</td>\n",
       "    </tr>\n",
       "    <tr>\n",
       "      <th>7</th>\n",
       "      <td>F8</td>\n",
       "      <td>74</td>\n",
       "      <td>2.73</td>\n",
       "    </tr>\n",
       "  </tbody>\n",
       "</table>\n",
       "</div>"
      ],
      "text/plain": [
       "  group  size  fraction\n",
       "0    F1   254      9.37\n",
       "1    F2  1081     39.89\n",
       "2    F3   146      5.39\n",
       "3    F4    43      1.59\n",
       "4    F5   127      4.69\n",
       "5    F6   825     30.44\n",
       "6    F7   160      5.90\n",
       "7    F8    74      2.73"
      ]
     },
     "execution_count": 22,
     "metadata": {},
     "output_type": "execute_result"
    }
   ],
   "source": [
    "Shiba_astrocyte_Neuron_group_size_df = Shiba_astrocyte_Neuron_pivot_df.groupby(\"group\", as_index = False).size()\n",
    "Shiba_astrocyte_Neuron_group_size_df[\"fraction\"] = Shiba_astrocyte_Neuron_group_size_df[\"size\"].map(lambda x: round(100*(x / Shiba_astrocyte_Neuron_pivot_df.shape[0]), 2))\n",
    "Shiba_astrocyte_Neuron_group_size_df"
   ]
  },
  {
   "cell_type": "code",
   "execution_count": null,
   "id": "204f8056",
   "metadata": {
    "ExecuteTime": {
     "end_time": "2025-03-20T17:17:01.226596Z",
     "start_time": "2025-03-20T17:17:00.389729Z"
    }
   },
   "outputs": [
    {
     "name": "stderr",
     "output_type": "stream",
     "text": [
      "/opt/conda/lib/python3.10/site-packages/seaborn/axisgrid.py:118: UserWarning: The figure layout has changed to tight\n",
      "  self._figure.tight_layout(*args, **kwargs)\n"
     ]
    },
    {
     "data": {
      "image/png": "[encoded data removed]",
      "text/plain": [
       "<Figure size 300x300 with 1 Axes>"
      ]
     },
     "metadata": {},
     "output_type": "display_data"
    }
   ],
   "source": [
    "g = sns.catplot(\n",
    "    data = Shiba_astrocyte_Neuron_group_size_df,\n",
    "    x = \"group\",\n",
    "    y = \"size\",\n",
    "    kind = \"bar\",\n",
    "    palette = \"BuPu\",\n",
    "    height = 3,\n",
    "    linewidth = 1,\n",
    "    edgecolor = \"black\"\n",
    ")\n",
    "g.set_xlabels(\"\")\n",
    "g.set_ylabels(\"# Events\")\n",
    "# Add text on top of each bar\n",
    "for ax in g.axes.flat:\n",
    "    for p in ax.patches:\n",
    "        ax.text(\n",
    "            p.get_x() + p.get_width() / 2,  # x-position of the text\n",
    "            p.get_height(),  # y-position of the text\n",
    "            int(p.get_height()),  # text to display\n",
    "            ha=\"center\",  # horizontal alignment\n",
    "            va=\"bottom\"   # vertical alignment\n",
    "        )\n",
    "plt.savefig(\"/rhome/naotok/bigdata/Ptbp1_astrocyte/Jul24/figure/catplot_vs_vitro_DIV0vsDIV28_size.png\", bbox_inches = \"tight\", dpi = 1000)"
   ]
  }
 ],
 "metadata": {
  "kernelspec": {
   "display_name": "Python 3 (ipykernel)",
   "language": "python",
   "name": "python3"
  },
  "language_info": {
   "codemirror_mode": {
    "name": "ipython",
    "version": 3
   },
   "file_extension": ".py",
   "mimetype": "text/x-python",
   "name": "python",
   "nbconvert_exporter": "python",
   "pygments_lexer": "ipython3",
   "version": "3.10.6"
  },
  "toc": {
   "base_numbering": 1,
   "nav_menu": {},
   "number_sections": true,
   "sideBar": true,
   "skip_h1_title": false,
   "title_cell": "Table of Contents",
   "title_sidebar": "Contents",
   "toc_cell": false,
   "toc_position": {},
   "toc_section_display": true,
   "toc_window_display": false
  },
  "varInspector": {
   "cols": {
    "lenName": 16,
    "lenType": 16,
    "lenVar": 40
   },
   "kernels_config": {
    "python": {
     "delete_cmd_postfix": "",
     "delete_cmd_prefix": "del ",
     "library": "var_list.py",
     "varRefreshCmd": "print(var_dic_list())"
    },
    "r": {
     "delete_cmd_postfix": ") ",
     "delete_cmd_prefix": "rm(",
     "library": "var_list.r",
     "varRefreshCmd": "cat(var_dic_list()) "
    }
   },
   "types_to_exclude": [
    "module",
    "function",
    "builtin_function_or_method",
    "instance",
    "_Feature"
   ],
   "window_display": false
  }
 },
 "nbformat": 4,
 "nbformat_minor": 5
}
